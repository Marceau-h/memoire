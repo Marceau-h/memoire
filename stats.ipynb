{
 "cells": [
  {
   "cell_type": "code",
   "execution_count": 1,
   "outputs": [],
   "source": [
    "from glob import glob\n",
    "from pprint import pprint\n",
    "from random import sample\n",
    "\n",
    "import matplotlib.pyplot as plt\n",
    "from numpy import mean\n",
    "\n",
    "import texte"
   ],
   "metadata": {
    "collapsed": false,
    "ExecuteTime": {
     "start_time": "2023-04-20T18:57:23.001657Z",
     "end_time": "2023-04-20T18:57:25.798242Z"
    }
   }
  },
  {
   "cell_type": "code",
   "execution_count": 2,
   "outputs": [
    {
     "name": "stdout",
     "output_type": "stream",
     "text": [
      "3065\n"
     ]
    }
   ],
   "source": [
    "# with open(\"LGERM.json\", encoding=\"utf-8\") as f:\n",
    "#     LGERM = json.load(f)\n",
    "# mots_LGERM = set(LGERM)\n",
    "\n",
    "path = \"Corpus/Mazarinades/*/*.xml\"\n",
    "\n",
    "files = glob(path)\n",
    "\n",
    "print(len(files))"
   ],
   "metadata": {
    "collapsed": false,
    "ExecuteTime": {
     "start_time": "2023-04-20T18:57:25.800036Z",
     "end_time": "2023-04-20T18:57:25.810457Z"
    }
   }
  },
  {
   "cell_type": "markdown",
   "source": [
    "texte.corpora(path)"
   ],
   "metadata": {
    "collapsed": false
   }
  },
  {
   "cell_type": "markdown",
   "source": [
    "Distribution mots outils\n",
    "\n",
    "OCR performance prediction using cross-OCR\n",
    "alignment\n",
    "Ahmed BEN SALAH*, Jean philippe MOREUXt\n",
    ", Nicolas RAGOT+ and Thierry PAQUET§\n",
    "\n",
    "https://dl.acm.org/doi/pdf/10.1145/2595188.2595221\n"
   ],
   "metadata": {
    "collapsed": false
   }
  },
  {
   "cell_type": "markdown",
   "source": [
    "sample_mode = False\n",
    "\n",
    "if sample_mode:\n",
    "    files = sample(files, 200)\n",
    "#     collection_textes = [texte.Texte(file) for file in tqdm(files)]\n",
    "# else:\n",
    "collection_textes = [e for e in texte.corpora(files) if e.plain]\n"
   ],
   "metadata": {
    "collapsed": false
   }
  },
  {
   "cell_type": "markdown",
   "source": [
    "collection_textes[0].texte"
   ],
   "metadata": {
    "collapsed": false
   }
  },
  {
   "cell_type": "code",
   "execution_count": 3,
   "outputs": [],
   "source": [
    "import pickle\n",
    "\n",
    "with open(\"collection_textes.pickle\", mode=\"rb\") as f:\n",
    "    collection_textes = pickle.load(f)"
   ],
   "metadata": {
    "collapsed": false,
    "ExecuteTime": {
     "start_time": "2023-04-20T18:57:25.812432Z",
     "end_time": "2023-04-20T18:57:28.067745Z"
    }
   }
  },
  {
   "cell_type": "code",
   "execution_count": 4,
   "outputs": [
    {
     "ename": "KeyError",
     "evalue": "None",
     "output_type": "error",
     "traceback": [
      "\u001B[0;31m---------------------------------------------------------------------------\u001B[0m",
      "\u001B[0;31mKeyError\u001B[0m                                  Traceback (most recent call last)",
      "Cell \u001B[0;32mIn[4], line 3\u001B[0m\n\u001B[1;32m      1\u001B[0m counter_lexiques \u001B[38;5;241m=\u001B[39m {l : \u001B[38;5;241m0\u001B[39m \u001B[38;5;28;01mfor\u001B[39;00m l \u001B[38;5;129;01min\u001B[39;00m texte\u001B[38;5;241m.\u001B[39mTexte\u001B[38;5;241m.\u001B[39mlexique}\n\u001B[1;32m      2\u001B[0m \u001B[38;5;28;01mfor\u001B[39;00m txt \u001B[38;5;129;01min\u001B[39;00m collection_textes:\n\u001B[0;32m----> 3\u001B[0m     \u001B[43mcounter_lexiques\u001B[49m\u001B[43m[\u001B[49m\u001B[43mtxt\u001B[49m\u001B[38;5;241;43m.\u001B[39;49m\u001B[43mlangue\u001B[49m\u001B[43m]\u001B[49m \u001B[38;5;241m+\u001B[39m\u001B[38;5;241m=\u001B[39m \u001B[38;5;241m1\u001B[39m\n\u001B[1;32m      5\u001B[0m counter_lexiques\n",
      "\u001B[0;31mKeyError\u001B[0m: None"
     ]
    }
   ],
   "source": [
    "counter_lexiques = {l : 0 for l in texte.Texte.lexique}\n",
    "for txt in collection_textes:\n",
    "    counter_lexiques[txt.langue] += 1\n",
    "\n",
    "counter_lexiques"
   ],
   "metadata": {
    "collapsed": false,
    "ExecuteTime": {
     "start_time": "2023-04-11T09:49:33.283977Z",
     "end_time": "2023-04-11T09:49:33.284754Z"
    }
   }
  },
  {
   "cell_type": "code",
   "execution_count": null,
   "outputs": [],
   "source": [
    "ratio_lexiques = {k: (v/len(files))*100 for k, v in counter_lexiques.items()}\n",
    "ratio_lexiques"
   ],
   "metadata": {
    "collapsed": false,
    "ExecuteTime": {
     "start_time": "2023-04-11T09:49:33.284072Z",
     "end_time": "2023-04-11T09:49:33.284960Z"
    }
   }
  },
  {
   "cell_type": "code",
   "execution_count": null,
   "outputs": [],
   "source": [
    "lst_morpahlou = [txt for txt in collection_textes if txt.langue == \"morphalou\"]\n",
    "for e in lst_morpahlou:\n",
    "    m, o = sorted(e.dict_lexicalite.items(), key=lambda x: x[1], reverse=True)[:2]\n",
    "    print(m[1] - o[1])"
   ],
   "metadata": {
    "collapsed": false,
    "ExecuteTime": {
     "start_time": "2023-04-11T09:49:33.284182Z",
     "end_time": "2023-04-11T09:49:33.285124Z"
    }
   }
  },
  {
   "cell_type": "code",
   "execution_count": null,
   "outputs": [],
   "source": [
    "import json\n",
    "\n",
    "lst = [[files[i], e.header, e.texte] for i, e in enumerate(collection_textes)]\n",
    "\n",
    "with open(\"headers.json\", \"w\") as f:\n",
    "    json.dump(lst, f, indent=4, ensure_ascii=False)"
   ],
   "metadata": {
    "collapsed": false,
    "ExecuteTime": {
     "start_time": "2023-04-11T09:49:33.284429Z",
     "end_time": "2023-04-11T09:49:34.289974Z"
    }
   }
  },
  {
   "cell_type": "code",
   "execution_count": null,
   "outputs": [],
   "source": [
    "import pandas as pd\n",
    "\n",
    "df0 = pd.DataFrame(txt.header for txt in collection_textes)\n",
    "df = pd.DataFrame(\n",
    "    ((txt.path.name, txt.n_pages, txt.hapax_ratio, txt.ttr, txt.lexicalite) for txt in collection_textes),\n",
    "    columns = [\"fichier\", \"n_pages\", \"hapax_ratio\", \"ttr\", \"lexicalite\"]\n",
    ")\n",
    "concat = pd.concat([df, df0], axis=1)"
   ],
   "metadata": {
    "collapsed": false,
    "ExecuteTime": {
     "start_time": "2023-04-11T09:49:34.291404Z",
     "end_time": "2023-04-11T09:49:34.740339Z"
    }
   }
  },
  {
   "cell_type": "code",
   "execution_count": null,
   "outputs": [],
   "source": [
    "concat.drop(\"titre\", axis=1).to_csv(\"stats.csv\", sep=\";\")"
   ],
   "metadata": {
    "collapsed": false,
    "ExecuteTime": {
     "start_time": "2023-04-11T09:49:34.741988Z",
     "end_time": "2023-04-11T09:49:34.774865Z"
    }
   }
  },
  {
   "cell_type": "code",
   "execution_count": null,
   "outputs": [],
   "source": [
    "concat"
   ],
   "metadata": {
    "collapsed": false,
    "ExecuteTime": {
     "start_time": "2023-04-11T09:49:34.777015Z",
     "end_time": "2023-04-11T09:49:34.790018Z"
    }
   }
  },
  {
   "cell_type": "code",
   "execution_count": null,
   "outputs": [],
   "source": [
    "concat.to_csv(\"stats.csv\", sep=\";\")\n"
   ],
   "metadata": {
    "collapsed": false,
    "ExecuteTime": {
     "start_time": "2023-04-11T09:49:34.790166Z",
     "end_time": "2023-04-11T09:49:34.867063Z"
    }
   }
  },
  {
   "cell_type": "code",
   "execution_count": null,
   "metadata": {
    "collapsed": false,
    "ExecuteTime": {
     "start_time": "2023-04-11T09:49:34.846941Z",
     "end_time": "2023-04-11T09:49:35.003296Z"
    }
   },
   "outputs": [],
   "source": [
    "#tup = [(val[\"hapax_ratio\"], val[\"ttr\"]) for val in dict_stats.values()]\n",
    "tup = [(txt.hapax_ratio, txt.ttr) for txt in collection_textes]\n",
    "\n",
    "plt.figure(figsize=(10, 10))\n",
    "plt.title(\"TTR vs hapax ratio\")\n",
    "plt.xlabel(\"hapax ratio\")\n",
    "plt.ylabel(\"TTR\")\n",
    "\n",
    "plt.scatter(*zip(*tup))\n",
    "\n",
    "plt.show()"
   ]
  },
  {
   "cell_type": "code",
   "execution_count": null,
   "metadata": {
    "collapsed": false,
    "ExecuteTime": {
     "start_time": "2023-04-11T09:49:35.018909Z",
     "end_time": "2023-04-11T09:49:35.112757Z"
    }
   },
   "outputs": [],
   "source": [
    "# tup = [(val[\"chars\"], val[\"ttr\"]) for val in dict_stats.values()]\n",
    "tup = [(txt.n_chars, txt.ttr) for txt in collection_textes]\n",
    "\n",
    "plt.figure(figsize=(10, 10))\n",
    "plt.title(\"TTR vs chars\")\n",
    "plt.xlabel(\"chars\")\n",
    "plt.ylabel(\"TTR\")\n",
    "\n",
    "plt.scatter(*zip(*tup))\n",
    "\n",
    "plt.show()"
   ]
  },
  {
   "cell_type": "code",
   "execution_count": null,
   "outputs": [],
   "source": [
    "x = [txt.n_pages for txt in collection_textes]\n",
    "print(mean(x))"
   ],
   "metadata": {
    "collapsed": false,
    "ExecuteTime": {
     "start_time": "2023-04-11T09:49:35.111096Z",
     "end_time": "2023-04-11T09:49:35.197797Z"
    }
   }
  },
  {
   "cell_type": "code",
   "execution_count": null,
   "outputs": [],
   "source": [
    "mean([len(txt.texte) for txt in collection_textes])"
   ],
   "metadata": {
    "collapsed": false,
    "ExecuteTime": {
     "start_time": "2023-04-11T09:49:35.151865Z",
     "end_time": "2023-04-11T09:49:35.198096Z"
    }
   }
  },
  {
   "cell_type": "code",
   "execution_count": null,
   "outputs": [],
   "source": [
    "x = [len(txt.plain) for txt in collection_textes]\n",
    "print(mean(x))"
   ],
   "metadata": {
    "collapsed": false,
    "ExecuteTime": {
     "start_time": "2023-04-11T09:49:35.151965Z",
     "end_time": "2023-04-11T09:49:35.198249Z"
    }
   }
  },
  {
   "cell_type": "code",
   "execution_count": null,
   "metadata": {
    "collapsed": false,
    "ExecuteTime": {
     "start_time": "2023-04-11T09:49:35.152067Z",
     "end_time": "2023-04-11T09:49:35.380891Z"
    }
   },
   "outputs": [],
   "source": [
    "# x = [v[\"chars\"] for v in dict_stats.values()]\n",
    "x = [txt.n_chars if txt.n_chars else 0 for txt in collection_textes]\n",
    "\n",
    "plt.figure(figsize=(10, 10))\n",
    "plt.title(\"chars\")\n",
    "plt.xlabel(\"chars\")\n",
    "plt.ylabel(\"count\")\n",
    "plt.xscale('linear')\n",
    "plt.yscale('symlog', linscale=1)\n",
    "plt.hist(x, bins=75)\n",
    "\n",
    "plt.show()\n",
    "\n",
    "print(mean(x))"
   ]
  },
  {
   "cell_type": "code",
   "execution_count": null,
   "metadata": {
    "collapsed": false,
    "ExecuteTime": {
     "start_time": "2023-04-11T09:49:35.387541Z",
     "end_time": "2023-04-11T09:49:35.504114Z"
    }
   },
   "outputs": [],
   "source": [
    "# tup = [(val[\"tok_voc_ratio\"], val[\"ttr\"]) for val in dict_stats.values()]\n",
    "tup = [(txt.lexicalite, txt.ttr) for txt in collection_textes]\n",
    "\n",
    "plt.figure(figsize=(10, 10))\n",
    "plt.title(\"lexicalite vs tok_voc_ratio\")\n",
    "plt.xlabel(\"lexicalite\")\n",
    "plt.ylabel(\"TTR\")\n",
    "\n",
    "plt.scatter(*zip(*tup))\n",
    "\n",
    "plt.show()"
   ]
  },
  {
   "cell_type": "code",
   "execution_count": null,
   "outputs": [],
   "source": [
    "x = [txt.header[\"change\"][\"@status\"] if isinstance(txt.header[\"change\"], dict) else txt.header[\"change\"][0][\"@status\"]\n",
    "for txt in collection_textes]\n",
    "len(x) / len([e for e in x if e == \"corrected\"])"
   ],
   "metadata": {
    "collapsed": false,
    "ExecuteTime": {
     "start_time": "2023-04-11T09:49:35.508617Z",
     "end_time": "2023-04-11T09:49:35.510148Z"
    }
   }
  },
  {
   "cell_type": "code",
   "execution_count": null,
   "outputs": [],
   "source": [
    "for txt in collection_textes:\n",
    "    pprint(txt.header)\n",
    "    break"
   ],
   "metadata": {
    "collapsed": false,
    "ExecuteTime": {
     "start_time": "2023-04-11T09:49:35.511185Z",
     "end_time": "2023-04-11T09:49:35.598570Z"
    }
   }
  },
  {
   "cell_type": "code",
   "execution_count": null,
   "outputs": [],
   "source": [
    "txt.ttr, txt.lexicalite"
   ],
   "metadata": {
    "collapsed": false,
    "ExecuteTime": {
     "start_time": "2023-04-11T09:49:35.551996Z",
     "end_time": "2023-04-11T09:49:35.598859Z"
    }
   }
  },
  {
   "cell_type": "code",
   "execution_count": null,
   "outputs": [],
   "source": [
    "def stats(key):\n",
    "    stats = {}\n",
    "    for txt in collection_textes:\n",
    "        type_ = txt.header[\"form\"] if isinstance(txt.header[\"form\"], str) else tuple(txt.header[\"form\"])\n",
    "\n",
    "        if type_ not in stats:\n",
    "            for e in stats.keys():\n",
    "                if set(e) == set(type_):\n",
    "                    type_ = e\n",
    "                    break\n",
    "            else:\n",
    "                stats[type_] = []\n",
    "\n",
    "        stats[type_].append(getattr(txt, key))\n",
    "\n",
    "    # for k in stats:\n",
    "    #     v = stats[k]\n",
    "    #     v = [e for e in v if e]\n",
    "    #     print(f\"{k}: {mean(v):.3f}\")\n",
    "    #     stats[k] = v\n",
    "\n",
    "    for k, v in stats.items():\n",
    "        print(f\"{k}: {mean(v):.3f}\")\n",
    "\n",
    "    plot = [(\" \".join(k), mean(v)) for k, v in stats.items()]\n",
    "    plot = sorted(plot, key=lambda x: x[1], reverse=True)\n",
    "\n",
    "    plt.figure(figsize=(10, 10))\n",
    "    plt.title(f\"mean {key}\")\n",
    "    plt.xlabel(\"type\")\n",
    "    plt.ylabel(f\"mean {key}\")\n",
    "\n",
    "    plt.bar(*zip(*plot))\n",
    "\n",
    "    plt.show()"
   ],
   "metadata": {
    "collapsed": false,
    "ExecuteTime": {
     "start_time": "2023-04-11T09:49:35.552154Z",
     "end_time": "2023-04-11T09:49:35.598961Z"
    }
   }
  },
  {
   "cell_type": "code",
   "execution_count": null,
   "outputs": [],
   "source": [
    "stats(\"ttr\")\n"
   ],
   "metadata": {
    "collapsed": false,
    "ExecuteTime": {
     "start_time": "2023-04-11T09:49:35.552271Z",
     "end_time": "2023-04-11T09:49:35.667037Z"
    }
   }
  },
  {
   "cell_type": "code",
   "execution_count": null,
   "outputs": [],
   "source": [
    "stats(\"hapax_ratio\")"
   ],
   "metadata": {
    "collapsed": false,
    "ExecuteTime": {
     "start_time": "2023-04-11T09:49:35.639217Z",
     "end_time": "2023-04-11T09:49:35.748522Z"
    }
   }
  },
  {
   "cell_type": "code",
   "execution_count": null,
   "outputs": [],
   "source": [
    "def stats2(header_prop, stats_prop):\n",
    "    stats = {}\n",
    "    for txt in collection_textes:\n",
    "        if header_prop not in txt.header:\n",
    "            continue\n",
    "\n",
    "        type_ = txt.header[header_prop]\n",
    "\n",
    "        if isinstance(type_, bool):\n",
    "            type_ = str(type_)\n",
    "\n",
    "        if not isinstance(type_, str):\n",
    "            type_ = tuple(type_)\n",
    "\n",
    "        if type_ not in stats:\n",
    "            for e in stats.keys():\n",
    "                if set(e) == set(type_):\n",
    "                    type_ = e\n",
    "                    break\n",
    "            else:\n",
    "                stats[type_] = []\n",
    "\n",
    "        stats[type_].append(getattr(txt, stats_prop))\n",
    "\n",
    "    for k, v in stats.items():\n",
    "        print(f\"{k}: {mean(v):.3f}\")\n",
    "\n",
    "    plot = [(\" \".join(k), mean(v)) for k, v in stats.items()]\n",
    "    plot = sorted(plot, key=lambda x: x[1], reverse=True)\n",
    "\n",
    "    plt.figure(figsize=(10, 10))\n",
    "    plt.title(f\"mean {stats_prop}\")\n",
    "    plt.xlabel(f\"{header_prop}\")\n",
    "    plt.ylabel(f\"mean {stats_prop}\")\n",
    "\n",
    "    plt.bar(*zip(*plot))\n",
    "\n",
    "    plt.show()\n"
   ],
   "metadata": {
    "collapsed": false,
    "ExecuteTime": {
     "start_time": "2023-04-11T09:49:35.738178Z",
     "end_time": "2023-04-11T09:49:35.748674Z"
    }
   }
  },
  {
   "cell_type": "code",
   "execution_count": null,
   "outputs": [],
   "source": [
    "stats2(\"creation\", \"hapax_ratio\")"
   ],
   "metadata": {
    "collapsed": false,
    "ExecuteTime": {
     "start_time": "2023-04-11T09:49:35.739587Z",
     "end_time": "2023-04-11T09:49:35.998626Z"
    }
   }
  },
  {
   "cell_type": "code",
   "execution_count": null,
   "outputs": [],
   "source": [
    "stats2(\"creation\", \"ttr\")"
   ],
   "metadata": {
    "collapsed": false,
    "ExecuteTime": {
     "start_time": "2023-04-11T09:49:35.955886Z",
     "end_time": "2023-04-11T09:49:36.087371Z"
    }
   }
  },
  {
   "cell_type": "code",
   "execution_count": null,
   "outputs": [],
   "source": [
    "stats2(\"table_of_content\", \"n_chars\")\n",
    "stats2(\"table_of_content\", \"ttr\")"
   ],
   "metadata": {
    "collapsed": false,
    "ExecuteTime": {
     "start_time": "2023-04-11T09:49:36.094686Z",
     "end_time": "2023-04-11T09:49:36.278600Z"
    }
   }
  },
  {
   "cell_type": "code",
   "execution_count": null,
   "outputs": [],
   "source": [
    "import string\n",
    "\n",
    "french_chars = {'è', 'é', 'ê', 'ë', 'î', 'ï', 'ô', 'œ', 'ù', 'û', 'ü', 'À', 'Â', 'Ä', 'Æ', 'Ç', 'È', 'É', 'Ê', 'Ë', 'Î',\n",
    "                'Ï', 'Ô',\n",
    "                'Œ', 'Ù', 'Û', 'Ü', 'à', 'â', 'ä', 'æ', 'ç'}.union(set(string.printable))\n",
    "\n",
    "\"ſ\" in french_chars, \"a\" in french_chars, \"é\" in french_chars, \":\" in french_chars"
   ],
   "metadata": {
    "collapsed": false,
    "ExecuteTime": {
     "start_time": "2023-04-11T09:49:36.241262Z",
     "end_time": "2023-04-11T09:49:36.282901Z"
    }
   }
  },
  {
   "cell_type": "code",
   "execution_count": null,
   "outputs": [],
   "source": [
    "def mot_is_french(mot):\n",
    "    for char in mot:\n",
    "        if char not in french_chars:\n",
    "            return False\n",
    "    return True\n",
    "\n",
    "i, j, tot = 0, 0, 0\n",
    "\n",
    "for txt in collection_textes:\n",
    "    for page in txt.pages:\n",
    "        for phrase in page:\n",
    "            for mot in phrase.split():\n",
    "                tot += 1\n",
    "                if mot_is_french(mot):\n",
    "                    i += 1\n",
    "                else:\n",
    "                    j += 1\n",
    "\n",
    "print(i, j, tot, i / tot, j / tot)\n",
    "\n",
    "\n"
   ],
   "metadata": {
    "collapsed": false,
    "ExecuteTime": {
     "start_time": "2023-04-11T09:49:36.281824Z",
     "end_time": "2023-04-11T09:49:49.503424Z"
    }
   }
  },
  {
   "cell_type": "code",
   "execution_count": null,
   "outputs": [],
   "source": [
    "ttrlist = [(txt.ttr, i) for i, txt in enumerate(collection_textes) if txt.ttr]\n",
    "hapaxlist = [(txt.hapax_ratio, i) for i, txt in enumerate(collection_textes) if txt.hapax_ratio]\n",
    "lexicalitelist = [(txt.lexicalite, i) for i, txt in enumerate(collection_textes) if txt.lexicalite]\n"
   ],
   "metadata": {
    "collapsed": false,
    "ExecuteTime": {
     "start_time": "2023-04-11T09:49:49.510258Z",
     "end_time": "2023-04-11T09:49:49.511424Z"
    }
   }
  },
  {
   "cell_type": "code",
   "execution_count": null,
   "outputs": [],
   "source": [
    "ttrlist = sorted(ttrlist, key=lambda x: x[0], reverse=True)\n",
    "hapaxlist = sorted(hapaxlist, key=lambda x: x[0], reverse=True)\n",
    "lexicalitelist = sorted(lexicalitelist, key=lambda x: x[0], reverse=True)\n"
   ],
   "metadata": {
    "collapsed": false,
    "ExecuteTime": {
     "start_time": "2023-04-11T09:49:49.512159Z",
     "end_time": "2023-04-11T09:49:49.539075Z"
    }
   }
  },
  {
   "cell_type": "code",
   "execution_count": null,
   "outputs": [],
   "source": [
    "print(ttrlist[-1])\n",
    "collection_textes[ttrlist[-1][1]].header"
   ],
   "metadata": {
    "collapsed": false,
    "ExecuteTime": {
     "start_time": "2023-04-11T09:49:49.525065Z",
     "end_time": "2023-04-11T09:49:49.539737Z"
    }
   }
  },
  {
   "cell_type": "code",
   "execution_count": null,
   "outputs": [],
   "source": [
    "print(ttrlist[0])\n",
    "collection_textes[ttrlist[0][1]].header"
   ],
   "metadata": {
    "collapsed": false,
    "ExecuteTime": {
     "start_time": "2023-04-11T09:49:49.535863Z",
     "end_time": "2023-04-11T09:49:49.594801Z"
    }
   }
  },
  {
   "cell_type": "code",
   "execution_count": null,
   "outputs": [],
   "source": [
    "print(hapaxlist[-1])\n",
    "collection_textes[hapaxlist[-1][1]].header\n"
   ],
   "metadata": {
    "collapsed": false,
    "ExecuteTime": {
     "start_time": "2023-04-11T09:49:49.576748Z",
     "end_time": "2023-04-11T09:49:49.595088Z"
    }
   }
  },
  {
   "cell_type": "code",
   "execution_count": null,
   "outputs": [],
   "source": [
    "print(hapaxlist[0])\n",
    "collection_textes[hapaxlist[0][1]].header\n"
   ],
   "metadata": {
    "collapsed": false,
    "ExecuteTime": {
     "start_time": "2023-04-11T09:49:49.576811Z",
     "end_time": "2023-04-11T09:49:49.595297Z"
    }
   }
  },
  {
   "cell_type": "code",
   "execution_count": null,
   "outputs": [],
   "source": [
    "print(lexicalitelist[-1])\n",
    "collection_textes[lexicalitelist[-1][1]].header\n"
   ],
   "metadata": {
    "collapsed": false,
    "ExecuteTime": {
     "start_time": "2023-04-11T09:49:49.576860Z",
     "end_time": "2023-04-11T09:49:49.659879Z"
    }
   }
  },
  {
   "cell_type": "code",
   "execution_count": null,
   "outputs": [],
   "source": [
    "print(lexicalitelist[0])\n",
    "collection_textes[lexicalitelist[0][1]].header\n"
   ],
   "metadata": {
    "collapsed": false,
    "ExecuteTime": {
     "start_time": "2023-04-11T09:49:49.617757Z",
     "end_time": "2023-04-11T09:49:49.660176Z"
    }
   }
  },
  {
   "cell_type": "code",
   "execution_count": null,
   "outputs": [],
   "source": [
    "len(collection_textes)"
   ],
   "metadata": {
    "collapsed": false,
    "ExecuteTime": {
     "start_time": "2023-04-11T09:49:49.617816Z",
     "end_time": "2023-04-11T09:49:49.660333Z"
    }
   }
  },
  {
   "cell_type": "code",
   "execution_count": null,
   "outputs": [],
   "source": [
    "collection_textes[1876].lexicalite\n"
   ],
   "metadata": {
    "collapsed": false,
    "ExecuteTime": {
     "start_time": "2023-04-11T09:49:49.617854Z",
     "end_time": "2023-04-11T09:49:49.660476Z"
    }
   }
  },
  {
   "cell_type": "code",
   "execution_count": null,
   "outputs": [],
   "source": [
    "to_save = [\n",
    "    (ttrlist[-1][1], \"ttr_min\"),\n",
    "    (ttrlist[0][1], \"ttr_max\"),\n",
    "    (hapaxlist[-1][1], \"hapax_min\"),\n",
    "    (hapaxlist[0][1], \"hapax_max\"),\n",
    "    (lexicalitelist[-1][1], \"lexicalite_min\"),\n",
    "    (lexicalitelist[0][1], \"lexicalite_max\"),\n",
    "]\n",
    "\n",
    "from pathlib import Path\n",
    "\n",
    "Path(\"extremes\").mkdir(parents=True, exist_ok=True)\n",
    "\n",
    "for i, name in to_save:\n",
    "    txt = collection_textes[i]\n",
    "    with open(f\"extremes/{name}.txt\", \"w\") as f:\n",
    "        f.write('\\n'.join(txt.pages))\n"
   ],
   "metadata": {
    "collapsed": false,
    "ExecuteTime": {
     "start_time": "2023-04-11T09:49:49.617892Z",
     "end_time": "2023-04-11T09:49:49.661769Z"
    }
   }
  },
  {
   "cell_type": "markdown",
   "source": [
    "paragraphes = []\n",
    "temp = \"\"\n",
    "for e in txt.split(\"\\n\\n\"):\n",
    "    if len(e) < 10 :\n",
    "        continue\n",
    "    temp += e\n",
    "    if len(temp) > 2000:\n",
    "        paragraphes.append(temp)\n",
    "        temp = \"\"\n"
   ],
   "metadata": {
    "collapsed": false
   }
  }
 ],
 "metadata": {
  "kernelspec": {
   "display_name": "Python 3",
   "language": "python",
   "name": "python3"
  },
  "language_info": {
   "codemirror_mode": {
    "name": "ipython",
    "version": 3
   },
   "file_extension": ".py",
   "mimetype": "text/x-python",
   "name": "python",
   "nbconvert_exporter": "python",
   "pygments_lexer": "ipython3",
   "version": "3.11.1"
  },
  "vscode": {
   "interpreter": {
    "hash": "6632def3287120c22cbb41a71e6cee78c9132bba259ed42ac34bf9033c8ba7f3"
   }
  }
 },
 "nbformat": 4,
 "nbformat_minor": 0
}
