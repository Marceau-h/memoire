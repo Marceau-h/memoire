{
 "cells": [
  {
   "cell_type": "code",
   "execution_count": 1,
   "outputs": [],
   "source": [
    "from glob import glob\n",
    "from random import sample\n",
    "import json\n",
    "from Levenshtein import distance as levenshtein_distance\n",
    "import re\n",
    "\n",
    "import texte\n"
   ],
   "metadata": {
    "collapsed": false,
    "ExecuteTime": {
     "end_time": "2023-05-31T07:30:40.694552612Z",
     "start_time": "2023-05-31T07:30:37.970517293Z"
    }
   }
  },
  {
   "cell_type": "markdown",
   "source": [
    "path = \"Corpus/Mazarinades/*/*.xml\"\n",
    "\n",
    "files = glob(path)\n",
    "\n",
    "print(len(files))\n",
    "\n",
    "sample_mode = True\n",
    "\n",
    "if sample_mode:\n",
    "    files = sample(files, 200)\n",
    "#     collection_textes = [texte.Texte(file) for file in tqdm(files)]\n",
    "# else:\n",
    "collection_textes = [e for e in texte.corpora(files) if e.plain]"
   ],
   "metadata": {
    "collapsed": false
   }
  },
  {
   "cell_type": "code",
   "execution_count": 3,
   "metadata": {
    "collapsed": true,
    "ExecuteTime": {
     "end_time": "2023-05-31T07:35:33.031940543Z",
     "start_time": "2023-05-31T07:35:22.858253133Z"
    }
   },
   "outputs": [
    {
     "name": "stdout",
     "output_type": "stream",
     "text": [
      "LE GENEREVX PRINCE AVX PARISIENS DE MOURIR POUR LE SERVICE DV ROY & de ne point ſouffrir le retour du Cardinal Mazarin. A PARIS Chez NICOLAS L'ANGEVIN. M. DC. LII. \n",
      "chiffre romain DV DV\n",
      "levenshtein ſouffrir souffrir\n",
      "levenshtein Mazarin. mazarin\n",
      "levenshtein L'ANGEVIN. angevine\n",
      "chiffre romain M. M.\n",
      "chiffre romain DC. DC.\n",
      "chiffre romain LII. LII.\n"
     ]
    }
   ],
   "source": [
    "with open(\"lexiques/LGERM.json\", \"r\") as f:\n",
    "    lexique = json.load(f)\n",
    "\n",
    "lexique = set(e.lower() for e in lexique)\n",
    "\n",
    "chriffre_romain = re.compile(r\"[IVXLCDM]+\\.?\")\n",
    "\n",
    "def corrige_mot(mot):\n",
    "    if chriffre_romain.fullmatch(mot):\n",
    "        return (mot, \"chiffre romain\")\n",
    "\n",
    "    if mot == \"&amp;\":\n",
    "        return (\"&\", \"ampersand\")\n",
    "\n",
    "    if mot.lower() in lexique:\n",
    "        return (mot, \"lexique\")\n",
    "\n",
    "    return (min(lexique, key=lambda x: levenshtein_distance(x, mot.lower())), \"levenshtein\")\n",
    "\n",
    "with open(\"extremes/lexicalite_max.txt\", \"r\") as f:\n",
    "    hapaxmax = f.read()\n",
    "\n",
    "hapaxmax = \"\\n\".join(hapaxmax.split(\"\\n\")[3:])\n",
    "print(hapaxmax)\n",
    "\n",
    "for mot in hapaxmax.split():\n",
    "    correction, type_ = corrige_mot(mot)\n",
    "    if type_ != \"lexique\":\n",
    "        print(type_, mot, correction)\n"
   ]
  }
 ],
 "metadata": {
  "kernelspec": {
   "display_name": "Python 3",
   "language": "python",
   "name": "python3"
  },
  "language_info": {
   "codemirror_mode": {
    "name": "ipython",
    "version": 2
   },
   "file_extension": ".py",
   "mimetype": "text/x-python",
   "name": "python",
   "nbconvert_exporter": "python",
   "pygments_lexer": "ipython2",
   "version": "2.7.6"
  }
 },
 "nbformat": 4,
 "nbformat_minor": 0
}
