{
 "cells": [
  {
   "cell_type": "code",
   "execution_count": 1,
   "outputs": [],
   "source": [
    "from glob import glob\n",
    "from random import sample\n",
    "import json\n",
    "from Levenshtein import distance as levenshtein_distance\n",
    "import re\n",
    "\n",
    "import texte\n"
   ],
   "metadata": {
    "collapsed": false
   }
  },
  {
   "cell_type": "code",
   "execution_count": 2,
   "outputs": [
    {
     "name": "stdout",
     "output_type": "stream",
     "text": [
      "3065\n"
     ]
    },
    {
     "name": "stderr",
     "output_type": "stream",
     "text": [
      " 29%|██▉       | 892/3065 [00:09<00:17, 122.25it/s]"
     ]
    },
    {
     "name": "stdout",
     "output_type": "stream",
     "text": [
      "Empty file: self.path = 'Corpus/Mazarinades/1201-1300/Moreau1240_GALL.xml'\n"
     ]
    },
    {
     "name": "stderr",
     "output_type": "stream",
     "text": [
      "100%|██████████| 3065/3065 [00:32<00:00, 93.11it/s] \n"
     ]
    }
   ],
   "source": [
    "path = \"Corpus/Mazarinades/*/*.xml\"\n",
    "\n",
    "files = glob(path)\n",
    "\n",
    "print(len(files))\n",
    "\n",
    "sample_mode = False\n",
    "\n",
    "if sample_mode:\n",
    "    files = sample(files, 200)\n",
    "#     collection_textes = [texte.Texte(file) for file in tqdm(files)]\n",
    "# else:\n",
    "collection_textes = [e for e in texte.corpora(files) if e.plain]"
   ],
   "metadata": {
    "collapsed": false
   }
  },
  {
   "cell_type": "code",
   "execution_count": null,
   "metadata": {
    "collapsed": true,
    "pycharm": {
     "is_executing": true
    }
   },
   "outputs": [
    {
     "name": "stdout",
     "output_type": "stream",
     "text": [
      "GALLICINIVM gallicanvs\n",
      "NVPER nver\n",
      "AVDITIVM avditive\n",
      "FRANCIAM francia\n",
      "EXPILANTE expirante\n",
      "MAZARINO mazarine\n",
      "Gallo galle\n",
      "intelligentiam intelligentsia\n",
      "? y\n",
      "Iob. iob\n",
      "38. .i.\n",
      "praeparat preparat\n",
      "eſcam escap\n",
      "ſuam. uamp\n",
      "Ibid. ibid\n",
      "PARIS, paris\n",
      "GALLICINIVM gallicanvs\n",
      "NVPER nver\n",
      "AVDITIVM avditive\n",
      "Franciams francivms\n",
      "expilate expirante\n",
      "Mazarino. mazarine\n",
      "etaremRegine efarerent\n",
      "matriper matricer\n",
      "ſe¬ ren\n",
      "licet: licet\n",
      "Surglre surgelée\n",
      "prneipsRegpi¬ preparerait\n",
      "claruit, charuiez\n",
      "Quemadmodum quemandât\n",
      "anſer anter\n"
     ]
    }
   ],
   "source": [
    "with open(\"LGERM.json\", \"r\") as f:\n",
    "    lexique = json.load(f)\n",
    "\n",
    "lexique = set(e.lower() for e in lexique)\n",
    "\n",
    "chriffre_romain = re.compile(\"[IVXLCDM]+\\.?\")\n",
    "\n",
    "def corrige_mot(mot):\n",
    "    if chriffre_romain.fullmatch(mot):\n",
    "        return (mot, \"chiffre romain\")\n",
    "\n",
    "    if mot == \"&amp;\":\n",
    "        return (\"&\", \"ampersand\")\n",
    "\n",
    "    if mot.lower() in lexique:\n",
    "        return (mot, \"lexique\")\n",
    "    else:\n",
    "        return (min(lexique, key=lambda x: levenshtein_distance(x, mot.lower())), \"levenshtein\")\n",
    "\n",
    "with open(\"extremes/lexicalite_min.txt\", \"r\") as f:\n",
    "    hapaxmax = f.read()\n",
    "\n",
    "for mot in hapaxmax.split():\n",
    "    correction, type_ = corrige_mot(mot)\n",
    "    if type_ == \"levenshtein\":\n",
    "        print(mot, correction)\n"
   ]
  },
  {
   "cell_type": "code",
   "execution_count": null,
   "outputs": [],
   "source": [],
   "metadata": {
    "collapsed": false,
    "pycharm": {
     "is_executing": true
    }
   }
  },
  {
   "cell_type": "code",
   "execution_count": null,
   "outputs": [],
   "source": [],
   "metadata": {
    "collapsed": false,
    "pycharm": {
     "is_executing": true
    }
   }
  },
  {
   "cell_type": "code",
   "execution_count": null,
   "outputs": [],
   "source": [],
   "metadata": {
    "collapsed": false,
    "pycharm": {
     "is_executing": true
    }
   }
  }
 ],
 "metadata": {
  "kernelspec": {
   "display_name": "Python 3",
   "language": "python",
   "name": "python3"
  },
  "language_info": {
   "codemirror_mode": {
    "name": "ipython",
    "version": 2
   },
   "file_extension": ".py",
   "mimetype": "text/x-python",
   "name": "python",
   "nbconvert_exporter": "python",
   "pygments_lexer": "ipython2",
   "version": "2.7.6"
  }
 },
 "nbformat": 4,
 "nbformat_minor": 0
}
