{
 "cells": [
  {
   "cell_type": "code",
   "execution_count": 1,
   "metadata": {
    "collapsed": true,
    "ExecuteTime": {
     "end_time": "2023-06-05T08:45:59.345475320Z",
     "start_time": "2023-06-05T08:45:55.812559030Z"
    }
   },
   "outputs": [],
   "source": [
    "import pickle\n",
    "import numpy as np\n",
    "import pandas as pd\n",
    "from matplotlib import pyplot as plt\n",
    "from sklearn.cluster import KMeans, DBSCAN, AgglomerativeClustering, AffinityPropagation, SpectralClustering\n",
    "from sklearn.decomposition import TruncatedSVD\n",
    "\n",
    "from tqdm.auto import tqdm\n",
    "\n",
    "\n",
    "def reduction_dim(dict_lex, n_components=4):\n",
    "    dict_lex_reduced = {}\n",
    "    for k, v in dict_lex.items():\n",
    "        svd = TruncatedSVD(n_components=n_components)\n",
    "        svd.fit(np.array([e[1] for e in v]))\n",
    "        dict_lex_reduced[k] = [(e[0], svd.transform([e[1]])[0]) for e in v]\n",
    "    return dict_lex_reduced\n",
    "\n",
    "\n",
    "def plot_clusters(liste_lex, cluster, N_CLUSTERS:int = None, type: str = \"lex\", print:bool = False, save:bool = True) -> None:\n",
    "    plt.figure(figsize=(20, 20))\n",
    "\n",
    "    if isinstance(cluster, AffinityPropagation):\n",
    "        plt.title(f\"AffinityPropagation\")\n",
    "        plt.scatter(\n",
    "            [e[1][0] for e in liste_lex],\n",
    "            [e[1][1] for e in liste_lex],\n",
    "            c=cluster.labels_,\n",
    "            cmap=\"viridis\",\n",
    "        )\n",
    "        plt.scatter(\n",
    "            [e[0] for e in cluster.cluster_centers_],\n",
    "            [e[1] for e in cluster.cluster_centers_],\n",
    "            c=\"black\",\n",
    "            s=200,\n",
    "            alpha=0.5,\n",
    "        )\n",
    "\n",
    "    elif isinstance(cluster, KMeans):\n",
    "        plt.title(f\"KMeans\")\n",
    "        plt.scatter(\n",
    "            [e[1][0] for e in liste_lex],\n",
    "            [e[1][1] for e in liste_lex],\n",
    "            c=cluster.labels_,\n",
    "            cmap=\"viridis\",\n",
    "        )\n",
    "        plt.scatter(\n",
    "            [e[0] for e in cluster.cluster_centers_],\n",
    "            [e[1] for e in cluster.cluster_centers_],\n",
    "            c=\"black\",\n",
    "            s=200,\n",
    "            alpha=0.5,\n",
    "        )\n",
    "\n",
    "    elif isinstance(cluster, AgglomerativeClustering):\n",
    "        plt.title(f\"AgglomerativeClustering\")\n",
    "        plt.scatter(\n",
    "            [e[1][0] for e in liste_lex],\n",
    "            [e[1][1] for e in liste_lex],\n",
    "            c=cluster.labels_,\n",
    "            cmap=\"viridis\",\n",
    "        )\n",
    "\n",
    "\n",
    "    elif isinstance(cluster, SpectralClustering):\n",
    "        plt.title(f\"SpectralClustering\")\n",
    "        plt.scatter(\n",
    "            [e[1][0] for e in liste_lex],\n",
    "            [e[1][1] for e in liste_lex],\n",
    "            c=cluster.labels_,\n",
    "            cmap=\"viridis\",\n",
    "        )\n",
    "\n",
    "    elif isinstance(cluster, DBSCAN):\n",
    "        plt.title(f\"DBSCAN\")\n",
    "        plt.scatter(\n",
    "            [e[1][0] for e in liste_lex],\n",
    "            [e[1][1] for e in liste_lex],\n",
    "            c=cluster.labels_,\n",
    "            cmap=\"viridis\",\n",
    "        )\n",
    "        plt.scatter(\n",
    "            [e[0] for e in cluster.cluster_centers_],\n",
    "            [e[1] for e in cluster.cluster_centers_],\n",
    "            c=\"black\",\n",
    "            s=200,\n",
    "            alpha=0.5,\n",
    "        )\n",
    "\n",
    "\n",
    "\n",
    "    else:\n",
    "        raise ValueError(\"Cluster inconnu\")\n",
    "\n",
    "\n",
    "    if N_CLUSTERS is not None:\n",
    "        title = f\"{cluster.__class__.__name__}_{N_CLUSTERS}_clusters_{type}\"\n",
    "    else:\n",
    "        title = f\"{cluster.__class__.__name__}_{type}\"\n",
    "\n",
    "    # plt.legend()\n",
    "    if save: plt.savefig(f\"imgs/clusters/{title}.png\")\n",
    "    if print: plt.show()\n",
    "    plt.close()\n",
    "\n",
    "\n",
    "with open(\"collection_textes.pickle\", mode=\"rb\") as f:\n",
    "    collection_textes = pickle.load(f)\n",
    "\n",
    "N_COMPONENTS = 2\n"
   ]
  },
  {
   "cell_type": "code",
   "execution_count": 2,
   "outputs": [],
   "source": [
    "allecarts = [e.ecarts for e in collection_textes]\n",
    "alllex = [e.lexicalites for e in collection_textes]"
   ],
   "metadata": {
    "collapsed": false,
    "ExecuteTime": {
     "end_time": "2023-06-05T08:45:59.349717982Z",
     "start_time": "2023-06-05T08:45:59.348694900Z"
    }
   }
  },
  {
   "cell_type": "code",
   "execution_count": 3,
   "outputs": [
    {
     "data": {
      "text/plain": "<Figure size 640x480 with 1 Axes>",
      "image/png": "[encoded data removed]"
     },
     "metadata": {},
     "output_type": "display_data"
    }
   ],
   "source": [
    "stat = [len(e) for e in allecarts if len(e) < 50]\n",
    "stat1 = [len(e) for e in alllex if len(e) < 50]\n",
    "# plt.hist(stat, bins=50, range=(0, 50), color=\"blue\", edgecolor=\"black\")\n",
    "plt.hist(stat1, bins=np.arange(1, 50) - 0.5, range=(0, 50), color=\"blue\", edgecolor=\"black\")\n",
    "plt.xticks([1] + list(range(0, 50, 5)[1:]))\n",
    "plt.figsize = (20, 20)\n",
    "plt.xlabel(\"Nombre de pages\")\n",
    "plt.ylabel(\"Nombre de textes\")\n",
    "plt.title(\"Nombre de pages par texte\")\n",
    "plt.savefig(\"imgs/histo_nb_pages.png\")\n",
    "plt.show()\n"
   ],
   "metadata": {
    "collapsed": false,
    "ExecuteTime": {
     "end_time": "2023-06-05T08:45:59.631769451Z",
     "start_time": "2023-06-05T08:45:59.351420132Z"
    }
   }
  },
  {
   "cell_type": "code",
   "execution_count": 4,
   "outputs": [],
   "source": [
    "dict_lex = {taile: [] for taile in range(1000)}\n",
    "for i, lex in enumerate(alllex):\n",
    "    dict_lex[len(lex)].append((i, lex))\n",
    "\n",
    "dict_lex = {k: v for k, v in dict_lex.items() if v}\n",
    "\n",
    "# _ = [print(k, len(v)) for k, v in dict_lex.items()]\n"
   ],
   "metadata": {
    "collapsed": false,
    "ExecuteTime": {
     "end_time": "2023-06-05T08:45:59.632140099Z",
     "start_time": "2023-06-05T08:45:59.613504198Z"
    }
   }
  },
  {
   "cell_type": "code",
   "execution_count": 5,
   "outputs": [],
   "source": [
    "dict_ecarts = {taile: [] for taile in range(1000)}\n",
    "for i, ecart in enumerate(allecarts):\n",
    "    dict_ecarts[len(ecart)].append((i, ecart))\n",
    "\n",
    "dict_ecarts = {k: v for k, v in dict_ecarts.items() if v}\n",
    "\n",
    "# _ = [print(k, len(v)) for k, v in dict_ecarts.items()]"
   ],
   "metadata": {
    "collapsed": false,
    "ExecuteTime": {
     "end_time": "2023-06-05T08:45:59.632233083Z",
     "start_time": "2023-06-05T08:45:59.613686708Z"
    }
   }
  },
  {
   "cell_type": "code",
   "execution_count": 6,
   "outputs": [],
   "source": [
    "# dict_lex_sub_40 = {k: v for k, v in dict_lex.items() if k < 40}\n",
    "# dict_lex_sup_2 = {k: v for k, v in dict_lex.items() if k > 2}\n",
    "dict_lex_sup_n_sub = {k: v for k, v in dict_lex.items() if N_COMPONENTS < k < 80}\n",
    "dict_ecarts_sup_n_sub = {k: v for k, v in dict_ecarts.items() if N_COMPONENTS < k < 80}\n"
   ],
   "metadata": {
    "collapsed": false,
    "ExecuteTime": {
     "end_time": "2023-06-05T08:45:59.632330036Z",
     "start_time": "2023-06-05T08:45:59.613775140Z"
    }
   }
  },
  {
   "cell_type": "code",
   "execution_count": 7,
   "outputs": [
    {
     "name": "stderr",
     "output_type": "stream",
     "text": [
      "/home/marceau/PycharmProjects/memoire/venv/lib64/python3.11/site-packages/sklearn/decomposition/_truncated_svd.py:268: RuntimeWarning: invalid value encountered in divide\n",
      "  self.explained_variance_ratio_ = exp_var / full_var\n",
      "/home/marceau/PycharmProjects/memoire/venv/lib64/python3.11/site-packages/sklearn/decomposition/_truncated_svd.py:268: RuntimeWarning: invalid value encountered in divide\n",
      "  self.explained_variance_ratio_ = exp_var / full_var\n",
      "/home/marceau/PycharmProjects/memoire/venv/lib64/python3.11/site-packages/sklearn/decomposition/_truncated_svd.py:268: RuntimeWarning: invalid value encountered in divide\n",
      "  self.explained_variance_ratio_ = exp_var / full_var\n",
      "/home/marceau/PycharmProjects/memoire/venv/lib64/python3.11/site-packages/sklearn/decomposition/_truncated_svd.py:268: RuntimeWarning: invalid value encountered in divide\n",
      "  self.explained_variance_ratio_ = exp_var / full_var\n",
      "/home/marceau/PycharmProjects/memoire/venv/lib64/python3.11/site-packages/sklearn/decomposition/_truncated_svd.py:268: RuntimeWarning: invalid value encountered in divide\n",
      "  self.explained_variance_ratio_ = exp_var / full_var\n",
      "/home/marceau/PycharmProjects/memoire/venv/lib64/python3.11/site-packages/sklearn/decomposition/_truncated_svd.py:268: RuntimeWarning: invalid value encountered in divide\n",
      "  self.explained_variance_ratio_ = exp_var / full_var\n",
      "/home/marceau/PycharmProjects/memoire/venv/lib64/python3.11/site-packages/sklearn/decomposition/_truncated_svd.py:268: RuntimeWarning: invalid value encountered in divide\n",
      "  self.explained_variance_ratio_ = exp_var / full_var\n",
      "/home/marceau/PycharmProjects/memoire/venv/lib64/python3.11/site-packages/sklearn/decomposition/_truncated_svd.py:268: RuntimeWarning: invalid value encountered in divide\n",
      "  self.explained_variance_ratio_ = exp_var / full_var\n",
      "/home/marceau/PycharmProjects/memoire/venv/lib64/python3.11/site-packages/sklearn/decomposition/_truncated_svd.py:268: RuntimeWarning: invalid value encountered in divide\n",
      "  self.explained_variance_ratio_ = exp_var / full_var\n",
      "/home/marceau/PycharmProjects/memoire/venv/lib64/python3.11/site-packages/sklearn/decomposition/_truncated_svd.py:268: RuntimeWarning: invalid value encountered in divide\n",
      "  self.explained_variance_ratio_ = exp_var / full_var\n",
      "/home/marceau/PycharmProjects/memoire/venv/lib64/python3.11/site-packages/sklearn/decomposition/_truncated_svd.py:268: RuntimeWarning: invalid value encountered in divide\n",
      "  self.explained_variance_ratio_ = exp_var / full_var\n",
      "/home/marceau/PycharmProjects/memoire/venv/lib64/python3.11/site-packages/sklearn/decomposition/_truncated_svd.py:268: RuntimeWarning: invalid value encountered in divide\n",
      "  self.explained_variance_ratio_ = exp_var / full_var\n",
      "/home/marceau/PycharmProjects/memoire/venv/lib64/python3.11/site-packages/sklearn/decomposition/_truncated_svd.py:268: RuntimeWarning: invalid value encountered in divide\n",
      "  self.explained_variance_ratio_ = exp_var / full_var\n",
      "/home/marceau/PycharmProjects/memoire/venv/lib64/python3.11/site-packages/sklearn/decomposition/_truncated_svd.py:268: RuntimeWarning: invalid value encountered in divide\n",
      "  self.explained_variance_ratio_ = exp_var / full_var\n",
      "/home/marceau/PycharmProjects/memoire/venv/lib64/python3.11/site-packages/sklearn/decomposition/_truncated_svd.py:268: RuntimeWarning: invalid value encountered in divide\n",
      "  self.explained_variance_ratio_ = exp_var / full_var\n",
      "/home/marceau/PycharmProjects/memoire/venv/lib64/python3.11/site-packages/sklearn/decomposition/_truncated_svd.py:268: RuntimeWarning: invalid value encountered in divide\n",
      "  self.explained_variance_ratio_ = exp_var / full_var\n",
      "/home/marceau/PycharmProjects/memoire/venv/lib64/python3.11/site-packages/sklearn/decomposition/_truncated_svd.py:268: RuntimeWarning: invalid value encountered in divide\n",
      "  self.explained_variance_ratio_ = exp_var / full_var\n",
      "/home/marceau/PycharmProjects/memoire/venv/lib64/python3.11/site-packages/sklearn/decomposition/_truncated_svd.py:268: RuntimeWarning: invalid value encountered in divide\n",
      "  self.explained_variance_ratio_ = exp_var / full_var\n",
      "/home/marceau/PycharmProjects/memoire/venv/lib64/python3.11/site-packages/sklearn/decomposition/_truncated_svd.py:268: RuntimeWarning: invalid value encountered in divide\n",
      "  self.explained_variance_ratio_ = exp_var / full_var\n",
      "/home/marceau/PycharmProjects/memoire/venv/lib64/python3.11/site-packages/sklearn/decomposition/_truncated_svd.py:268: RuntimeWarning: invalid value encountered in divide\n",
      "  self.explained_variance_ratio_ = exp_var / full_var\n",
      "/home/marceau/PycharmProjects/memoire/venv/lib64/python3.11/site-packages/sklearn/decomposition/_truncated_svd.py:268: RuntimeWarning: invalid value encountered in divide\n",
      "  self.explained_variance_ratio_ = exp_var / full_var\n",
      "/home/marceau/PycharmProjects/memoire/venv/lib64/python3.11/site-packages/sklearn/decomposition/_truncated_svd.py:268: RuntimeWarning: invalid value encountered in divide\n",
      "  self.explained_variance_ratio_ = exp_var / full_var\n",
      "/home/marceau/PycharmProjects/memoire/venv/lib64/python3.11/site-packages/sklearn/decomposition/_truncated_svd.py:268: RuntimeWarning: invalid value encountered in divide\n",
      "  self.explained_variance_ratio_ = exp_var / full_var\n",
      "/home/marceau/PycharmProjects/memoire/venv/lib64/python3.11/site-packages/sklearn/decomposition/_truncated_svd.py:268: RuntimeWarning: invalid value encountered in divide\n",
      "  self.explained_variance_ratio_ = exp_var / full_var\n",
      "/home/marceau/PycharmProjects/memoire/venv/lib64/python3.11/site-packages/sklearn/decomposition/_truncated_svd.py:268: RuntimeWarning: invalid value encountered in divide\n",
      "  self.explained_variance_ratio_ = exp_var / full_var\n",
      "/home/marceau/PycharmProjects/memoire/venv/lib64/python3.11/site-packages/sklearn/decomposition/_truncated_svd.py:268: RuntimeWarning: invalid value encountered in divide\n",
      "  self.explained_variance_ratio_ = exp_var / full_var\n",
      "/home/marceau/PycharmProjects/memoire/venv/lib64/python3.11/site-packages/sklearn/decomposition/_truncated_svd.py:268: RuntimeWarning: invalid value encountered in divide\n",
      "  self.explained_variance_ratio_ = exp_var / full_var\n",
      "/home/marceau/PycharmProjects/memoire/venv/lib64/python3.11/site-packages/sklearn/decomposition/_truncated_svd.py:268: RuntimeWarning: invalid value encountered in divide\n",
      "  self.explained_variance_ratio_ = exp_var / full_var\n",
      "/home/marceau/PycharmProjects/memoire/venv/lib64/python3.11/site-packages/sklearn/decomposition/_truncated_svd.py:268: RuntimeWarning: invalid value encountered in divide\n",
      "  self.explained_variance_ratio_ = exp_var / full_var\n",
      "/home/marceau/PycharmProjects/memoire/venv/lib64/python3.11/site-packages/sklearn/decomposition/_truncated_svd.py:268: RuntimeWarning: invalid value encountered in divide\n",
      "  self.explained_variance_ratio_ = exp_var / full_var\n",
      "/home/marceau/PycharmProjects/memoire/venv/lib64/python3.11/site-packages/sklearn/decomposition/_truncated_svd.py:268: RuntimeWarning: invalid value encountered in divide\n",
      "  self.explained_variance_ratio_ = exp_var / full_var\n",
      "/home/marceau/PycharmProjects/memoire/venv/lib64/python3.11/site-packages/sklearn/decomposition/_truncated_svd.py:268: RuntimeWarning: invalid value encountered in divide\n",
      "  self.explained_variance_ratio_ = exp_var / full_var\n"
     ]
    }
   ],
   "source": [
    "dict_lex_reduced = reduction_dim(dict_lex_sup_n_sub, n_components=N_COMPONENTS)\n",
    "dict_ecarts_reduced = reduction_dim(dict_ecarts_sup_n_sub, n_components=N_COMPONENTS)\n"
   ],
   "metadata": {
    "collapsed": false,
    "ExecuteTime": {
     "end_time": "2023-06-05T08:45:59.957283854Z",
     "start_time": "2023-06-05T08:45:59.613856570Z"
    }
   }
  },
  {
   "cell_type": "code",
   "execution_count": 8,
   "outputs": [],
   "source": [
    "liste_lex = [e for v in dict_lex_reduced.values() for e in v if len(e[1]) == 2]\n",
    "liste_ecarts = [e for v in dict_ecarts_reduced.values() for e in v if len(e[1]) == 2]\n"
   ],
   "metadata": {
    "collapsed": false,
    "ExecuteTime": {
     "end_time": "2023-06-05T08:45:59.958366847Z",
     "start_time": "2023-06-05T08:45:59.950954505Z"
    }
   }
  },
  {
   "cell_type": "code",
   "execution_count": 9,
   "outputs": [
    {
     "data": {
      "text/plain": "  0%|          | 0/18 [00:00<?, ?it/s]",
      "application/vnd.jupyter.widget-view+json": {
       "version_major": 2,
       "version_minor": 0,
       "model_id": "aebf52d2c627437fa1e1b24314395ebe"
      }
     },
     "metadata": {},
     "output_type": "display_data"
    }
   ],
   "source": [
    "aff = AffinityPropagation(damping = 0.9, max_iter = 1000).fit(np.array([e[1] for e in liste_lex]))\n",
    "aff2 = AffinityPropagation(damping = 0.9, max_iter = 1000).fit(np.array([e[1] for e in liste_ecarts]))\n",
    "\n",
    "plot_clusters(liste_lex, aff)\n",
    "plot_clusters(liste_ecarts, aff2, type=\"ecarts\")\n",
    "\n",
    "\n",
    "N_CLUSTERS = 10\n",
    "for N_CLUSTERS in tqdm(range(2, 20)):\n",
    "\n",
    "    kmeans = KMeans(n_clusters=N_CLUSTERS, random_state=0, n_init=\"auto\").fit(np.array([e[1] for e in liste_lex]))\n",
    "    kmeans2 = KMeans(n_clusters=N_CLUSTERS, random_state=0, n_init=\"auto\").fit(np.array([e[1] for e in liste_ecarts]))\n",
    "\n",
    "    plot_clusters(liste_lex, kmeans, N_CLUSTERS)\n",
    "    plot_clusters(liste_ecarts, kmeans2, N_CLUSTERS, type=\"ecarts\")\n",
    "\n",
    "    agg = AgglomerativeClustering(n_clusters=N_CLUSTERS).fit(np.array([e[1] for e in liste_lex]))\n",
    "    agg2 = AgglomerativeClustering(n_clusters=N_CLUSTERS).fit(np.array([e[1] for e in liste_ecarts]))\n",
    "\n",
    "    plot_clusters(liste_lex, agg, N_CLUSTERS)\n",
    "    plot_clusters(liste_ecarts, agg2, N_CLUSTERS, type=\"ecarts\")\n",
    "\n",
    "    spec = SpectralClustering(n_clusters=N_CLUSTERS).fit(np.array([e[1] for e in liste_lex]))\n",
    "    spec2 = SpectralClustering(n_clusters=N_CLUSTERS).fit(np.array([e[1] for e in liste_ecarts]))\n",
    "\n",
    "    plot_clusters(liste_lex, spec, N_CLUSTERS)\n",
    "    plot_clusters(liste_ecarts, spec2, N_CLUSTERS, type=\"ecarts\")\n"
   ],
   "metadata": {
    "collapsed": false,
    "ExecuteTime": {
     "end_time": "2023-06-05T09:42:01.775882278Z",
     "start_time": "2023-06-05T08:45:59.958694891Z"
    }
   }
  }
 ],
 "metadata": {
  "kernelspec": {
   "display_name": "Python 3",
   "language": "python",
   "name": "python3"
  },
  "language_info": {
   "codemirror_mode": {
    "name": "ipython",
    "version": 2
   },
   "file_extension": ".py",
   "mimetype": "text/x-python",
   "name": "python",
   "nbconvert_exporter": "python",
   "pygments_lexer": "ipython2",
   "version": "2.7.6"
  }
 },
 "nbformat": 4,
 "nbformat_minor": 0
}
