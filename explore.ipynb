{
 "cells": [
  {
   "cell_type": "code",
   "execution_count": 4,
   "metadata": {
    "collapsed": true,
    "ExecuteTime": {
     "end_time": "2023-05-22T13:07:34.242481148Z",
     "start_time": "2023-05-22T13:07:32.048291356Z"
    }
   },
   "outputs": [],
   "source": [
    "import pickle\n",
    "\n",
    "with open(\"collection_textes.pickle\", mode=\"rb\") as f:\n",
    "    collection_textes = pickle.load(f)\n",
    "\n",
    "# print(collection_textes[0].__dict__)\n"
   ]
  },
  {
   "cell_type": "code",
   "execution_count": 5,
   "outputs": [],
   "source": [
    "with open(\"lexicalitestest.txt\", mode=\"w\", encoding=\"utf-8\") as f:\n",
    "    for texte in collection_textes[:10]:\n",
    "        prev = None\n",
    "        # lst = []\n",
    "        f.write(f\"{texte.texte}\\n\")\n",
    "        for l in texte.lexicalites:\n",
    "            print(f\"{l:.3f}\", end=\" \")\n",
    "            f.write(f\"{l:.3f} \")\n",
    "        f.write(\"\\n\")\n",
    "        print()\n",
    "        for l in texte.lexicalites:\n",
    "            if prev is not None:\n",
    "                diff = l - prev\n",
    "                # lst.append(diff)\n",
    "                f.write(f\"{diff:.3f} \")\n",
    "                print(f\"{diff:.3f}\", end=\" \")\n",
    "            else:\n",
    "                f.write(\" \"*6)\n",
    "                print(\" \"*6, end=\"\")\n",
    "            prev = l\n",
    "        f.write(\"\\n\")\n",
    "        print(\"\\n\")\n",
    "\n",
    "        # print(lst)\n",
    "        # print()\n",
    "\n"
   ],
   "metadata": {
    "collapsed": false,
    "ExecuteTime": {
     "end_time": "2023-05-22T13:07:36.449628524Z",
     "start_time": "2023-05-22T13:07:34.328530204Z"
    }
   }
  },
  {
   "cell_type": "code",
   "execution_count": 9,
   "outputs": [],
   "source": [
    "import json\n",
    "\n",
    "lstdesdicts = []\n",
    "for texte in collection_textes:\n",
    "    temp = {}\n",
    "    temp[\"texte\"] = texte.texte\n",
    "    temp[\"lexicalites\"] = [round(l, 3) for l in texte.lexicalites]\n",
    "    temp[\"lexicalite\"] = round(texte.lexicalite, 3)\n",
    "    lst = []\n",
    "    prev = None\n",
    "    for l in texte.lexicalites:\n",
    "        if prev is not None:\n",
    "            diff = l - prev\n",
    "            lst.append(round(diff, 3))\n",
    "        else:\n",
    "            lst.append(0)\n",
    "        prev = l\n",
    "    temp[\"diffs\"] = lst\n",
    "    lstdesdicts.append(temp)\n",
    "\n",
    "with open(\"lexicalitestest.json\", mode=\"w\", encoding=\"utf-8\") as f:\n",
    "    json.dump(lstdesdicts, f, indent=4, ensure_ascii=False)\n"
   ],
   "metadata": {
    "collapsed": false,
    "ExecuteTime": {
     "end_time": "2023-05-22T13:12:47.012510848Z",
     "start_time": "2023-05-22T13:12:46.970718225Z"
    }
   }
  },
  {
   "cell_type": "code",
   "execution_count": 32,
   "outputs": [],
   "source": [
    "lstdesdicts\n"
   ],
   "metadata": {
    "collapsed": false,
    "ExecuteTime": {
     "end_time": "2023-05-22T12:19:02.623489252Z",
     "start_time": "2023-05-22T12:19:02.617096492Z"
    }
   }
  },
  {
   "cell_type": "code",
   "execution_count": 32,
   "outputs": [],
   "source": [],
   "metadata": {
    "collapsed": false,
    "ExecuteTime": {
     "end_time": "2023-05-22T12:19:02.629696766Z",
     "start_time": "2023-05-22T12:19:02.624472743Z"
    }
   }
  }
 ],
 "metadata": {
  "kernelspec": {
   "display_name": "Python 3",
   "language": "python",
   "name": "python3"
  },
  "language_info": {
   "codemirror_mode": {
    "name": "ipython",
    "version": 2
   },
   "file_extension": ".py",
   "mimetype": "text/x-python",
   "name": "python",
   "nbconvert_exporter": "python",
   "pygments_lexer": "ipython2",
   "version": "2.7.6"
  }
 },
 "nbformat": 4,
 "nbformat_minor": 0
}
