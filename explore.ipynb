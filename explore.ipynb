{
 "cells": [
  {
   "cell_type": "code",
   "execution_count": 1,
   "metadata": {
    "collapsed": true,
    "ExecuteTime": {
     "end_time": "2023-05-30T09:17:59.077949145Z",
     "start_time": "2023-05-30T09:17:56.001002613Z"
    }
   },
   "outputs": [],
   "source": [
    "import pickle\n",
    "\n",
    "with open(\"collection_textes.pickle\", mode=\"rb\") as f:\n",
    "    collection_textes = pickle.load(f)\n",
    "\n",
    "# print(collection_textes[0].__dict__)\n"
   ]
  },
  {
   "cell_type": "code",
   "execution_count": 2,
   "outputs": [
    {
     "data": {
      "text/plain": "[0.0,\n -0.0013404825737265424,\n -0.0011195420265194267,\n 0.002460024600245969,\n 0.0,\n 0.0]"
     },
     "execution_count": 2,
     "metadata": {},
     "output_type": "execute_result"
    }
   ],
   "source": [
    "collection_textes[0].ecarts\n"
   ],
   "metadata": {
    "collapsed": false,
    "ExecuteTime": {
     "end_time": "2023-05-30T09:17:59.085436349Z",
     "start_time": "2023-05-30T09:17:59.079983300Z"
    }
   }
  },
  {
   "cell_type": "code",
   "execution_count": 3,
   "outputs": [
    {
     "data": {
      "text/plain": "[1.0, 1.0, 0.9986595174262735, 0.997539975399754, 1.0, 1.0, 1.0]"
     },
     "execution_count": 3,
     "metadata": {},
     "output_type": "execute_result"
    }
   ],
   "source": [
    "collection_textes[0].lexicalites"
   ],
   "metadata": {
    "collapsed": false,
    "ExecuteTime": {
     "end_time": "2023-05-30T09:17:59.092576207Z",
     "start_time": "2023-05-30T09:17:59.085146679Z"
    }
   }
  },
  {
   "cell_type": "code",
   "execution_count": 4,
   "outputs": [
    {
     "name": "stdout",
     "output_type": "stream",
     "text": [
      "Pas d'écarts\n",
      "475\n",
      "Pas d'écarts\n",
      "587\n",
      "Pas d'écarts\n",
      "828\n",
      "Pas d'écarts\n",
      "1033\n",
      "Pas d'écarts\n",
      "1210\n",
      "Pas d'écarts\n",
      "1547\n",
      "Pas d'écarts\n",
      "1864\n",
      "Pas d'écarts\n",
      "2055\n",
      "Pas d'écarts\n",
      "2373\n",
      "Pas d'écarts\n",
      "2481\n",
      "Pas d'écarts\n",
      "2534\n",
      "Pas d'écarts\n",
      "2580\n",
      "Pas d'écarts\n",
      "2841\n",
      "Pas d'écarts\n",
      "2909\n",
      "Pas d'écarts\n",
      "2917\n",
      "Pas d'écarts\n",
      "2995\n"
     ]
    }
   ],
   "source": [
    "for i, texte in enumerate(collection_textes):\n",
    "    flip = False\n",
    "    if not texte.ecarts:\n",
    "        print(\"Pas d'écarts\")\n",
    "        print(i)\n",
    "        continue\n",
    "\n",
    "    if texte.ecarts[0] < -.1:\n",
    "        print(\"Première page\")\n",
    "        print(i, texte.ecarts[0])\n",
    "        flip = True\n",
    "\n",
    "    for j, diff in enumerate(texte.ecarts[1:], 1):\n",
    "        if abs(diff) >  0.2:\n",
    "            print(i, j, diff)\n",
    "            flip = True\n",
    "    if flip:\n",
    "        print(texte.ecart, texte.tendance, \"\\n\")"
   ],
   "metadata": {
    "collapsed": false,
    "ExecuteTime": {
     "end_time": "2023-05-30T09:17:59.142740588Z",
     "start_time": "2023-05-30T09:17:59.093659100Z"
    }
   }
  },
  {
   "cell_type": "code",
   "execution_count": 5,
   "outputs": [
    {
     "data": {
      "text/plain": "[(48,\n  [-0.020724614762883786,\n   -0.016670724449494023,\n   0.013395054975110732,\n   -0.008733954536708777,\n   0.04820130118637589],\n  0.021545129982114643,\n  0.028454576092881524,\n  True,\n  PosixPath('Corpus/Mazarinades/1-100/Moreau80_GBOOKS.xml'),\n  ['A N A G R A M M E S S u r A u g u t e n o m d e s M j e s t é T r e s C r é t e n n e L O V S Q V A T O R S E M E D V N O M R O Y D E F R A N C E E T D E N A V A R R E A ﬁ c j u d n H r n g u e ﬂ t n R } p t ﬁ m r d u P m n t d c P r s e n c o r p d m P m s C r d n ( 7 4 R e f f n c e d e M o n f c g n e u r C h n c e z r 0 ‘ 4 p m d u R e y \\\\ M u f f m r s d u P r k m n n K g ‘ D o n n e o r d r e S r e o u A z q u e t L u t e c e m o n m e S o u f r r E e r e ﬁ d u d e t o n F r n c R o y u m e o r n é _ j _ q u m e s d m d u r 3 D o n c O R r c R _ Q y q u e t V y u u j e s u s 8 0 8 ” d e D “ ( c w ) 2 7 2 3 \"',\n   'K e / p o n t e d M o n / E g n e u r C h n c e / f e z d c [ p r t 4 “ R y 4 A D e u ‘ A u é t o r s é s d o n c f e r m e ¥ m e n t h o n c u r d u R r e “ R o y * n h ‘ n o n u n g f p r r o n [ t u c m c n t s Q g y m e t r e s f o r t e R o y u m c d e j F r h g é D o n d O r S u u e 6 O u A q u e o n f e n t r d u d c } f o r d r e n m é g M C f u t c r o r e A D V E R T S ‘ S M E M E N T A V L E C T E V R C k e } A m } L e f m r q u e A n g m m ‘ m t d o c e m f u e ﬁ m r f m d é n 8 j u n d ‘ O ﬂ r é d A n p ﬂ 6 4 0 ( y d q u e V é s n t e n t / { m e n } 2 9 ( y ﬁ u t r t ﬁ j o m ﬁ z m m t t n t e ﬂ é v t u é ( y e u é ‘ s m n u f c r t t F r [ 5 p e v r m e g y m s m n h m c n A ﬂ q o [ q r j M n f e g n m r [ t',\n   '‘ y w k t H C h m e e r ( 9 M n ﬁ m r d M r n g x C o n / t e r d E — ‘ ﬂ t ( y D n f m r F n n c e ( q u d s t e m p m o n d r f r é u o r v » c p c z m m n ﬁ q u u r m r d e u n m e f m c ) p r M e ﬁ m r d e F u j ( 9 9 d o P r m / 2 c C e m d E ﬂ t M o n ﬁ e u r d C r m z é G e n t h m n d m n d r ﬁ m g — C m e e r @ w f e u r B / e ﬁ m \" n r e m n P M ‘ 7 \" G n g d \" P r s P r e d c r e u r C u r n 4 y o u r r s f e m m “ m m m n d t ﬁ e u r e C m t t r p r M o n ﬂ g n m r E m ﬂ u t d o R n d “ P r e t t y t c u r d u R o y L R e m r m d P r e P u » [ M d / h w y C n ﬁ ﬂ E u r d u R } J / o n ﬁ z u r d u F o u r M m / 7 n d u R 9 } ( y M o n / f e m 0 4 d V n r d u r C m n q d f g / E d c P r s P M K e m r m d P m r r e n é c 0 ﬂ m ‘ C o g n o n r x e g m x d u t e r 0 r d ” J ‘ F r n r s d c [ 4 P M u n c J ‘ T u e s d e m m m n t m u m w e » C m m r d N u r u p m T e r n / t P r M m / f e w t C e r c P r e ﬁ — d m t m [ 4 C u r d t s W e n d “ E r M t ﬁ m r s T s g m r ( y ‘ Z ‘ o m t A d u n m u P e m m r ( y P r u é C n / c d u R e y P r M n ﬁ e u r F e r h z n d ( u / F e r d [ G r n d [ £ r t n P r k m n d P r s 0 M o n ﬁ t u r d o [ r ( o n ﬁ x [ e r d r x E n q u e ﬂ n x u d t P r e m m r P r M o n ﬁ t u r H C o n ﬁ c r m 4 C h ﬂ e / e t P r W n ﬁ m r d B u r t P r e t e ‘ u t t u r d n e u n r S t g m ” d H u m t r u ( 9 t 5 [ m t n é t d u 2 4 m m t p r r f z n r e n n 6 o _ R y 4 ‘ [ m m t e r t m m t c e e A n g r m “ n y r t f c d f r u N o e ] d e ﬁ z C o u r ( 9 m o t m m n e H m o — r t m e f m t d r s ﬁ u r c m p r n t e r ( y o d e y n F o r r t r L D O V E T E s D R',\n   'K c / n e d M o n f n g n m r C h r m / m d [ p r t 4 “ R 0 4 A D c u A u é o r s é s d o n c f e r m e é m e n t h o n c u r d u R r e ‘ R o y “ h n o n e n t f p m r o n [ t u c m t m r 5 ( A y m e t r e s f o r t e R o y é u m c d C ‘ F r n c é D o n d O r S u u e 4 O u A z q u e o n f e n t r d u d c } f o r d r e n m e g M e f u t c r o r e g A D V E R T S ‘ S ‘ E M ‘ E N T 4 v L E C T E V R C d t h e A m } L e f m r g m A n g m m ‘ m u d c u t t e f e u ‘ t f o n r f r e s d e s [ r 3 j m d O E o r c d t A n p ﬁ 6 4 p w q u e M » 5 w \" ~ m m c e o n c ﬁ é w u é ( 7 ‘ t u é ‘ s m n u ﬁ r m p r [ ( 5 p e m m 6 } 4 p m m o m m e s A ﬁ u g M r y y f m ﬁ é g m [ c h ( # 5 [ e e n d e m ¢ n 2 9 ( 9 m \" j o u r f k',\n   'C t n n c r ( 7 4 M n f f m r d M r n g C o n / e r d E ﬂ t ( y D r e f m r F n n c e ( 4 ( # 3 u t t m f ‘ m o n d r ﬂ r e m m r w e t o p c c / m u m n ﬁ q u u r m r d m r m ‘ e f m e ) p r M e ﬂ u m d [ F o ﬂ 0 d c P r o u ﬁ c C t m d E / t M o n ﬁ m r d c C m z G e n t m n t d m n d t ﬁ m r t C h m e e r ( 9 ‘ M ﬂ ﬁ e u r B ﬁ ﬁ n n t e m n p r e ‘ 7 \" G e m g t 0 7 \" } P r e d c r e u r C u c n 4 p o u r r x f c t r u u u w m n d t / m r C u t t r p r M n / E g m u r E u g ﬂ u e d R k n d t P r e t t m r d » R 0 ] L e R e m r m d P e r P u » q u u ﬂ r C o ﬂ m r d u R ) J n n ﬁ m r d u F o u r M m / ﬂ e r d u R 9 7 ( 3 M n ﬁ e u r D u d c V n r d o u r C h r m n g d [ 5 n e d o P u n k P r 2 R e v e r e n d P r e r r t n é c ﬁ m C u g n n K g m x d u t e r 0 r d ” 6 ‘ F r n g s d c [ P r n c e J ” T u e s d e m m m m 0 » [ m e ] n C o m » d z N m ” p r e s [ T e m p e P r M o n f z m r C t r t P u f f 4 t [ C o u r d r W r m “ E M t / f m r T n g r m ‘ ( 9 * V f e n A d u m r s 2 m P r e m m t ( 9 ‘ P r u é C o n / d u R e y P r M o n / f e m F e r m n d [ n f t n d c n G r n d [ m d u P r z m m t d e P r s 0 M n ﬁ t u r d c C m ‘ ( r t f u [ e r d c E n q u e ﬂ z x u d t P r c m r n r P r M n ﬁ m r H u r — d 7 C o n / t e r u C h / h e t ‘ P r J o n ﬁ m r d o B u r t P r e r e p r m r d z m m S t g m ” d c H u m m s ( 9 E [ m r n é c d u 2 4 [ n u r d c u m f r r f m t t r m e c 6 0 R y d [ 4 m t t r e m m t n ” A n g r m e s n p r t f d e ﬁ n e N o e ﬂ d c ﬁ z C o u r ( 9 m c m m n d é é H t m e f m e d c e s ﬂ u r t m p r m n ( y o t e / 4 y m p o r t e r L D O V E T E s D R',\n   'P E R M S S O N P E r m s d m p r m e r F r c v n g u t r c m e n u c r m ﬁ x c c n s c n q u n r e D u m m y n o N N z A Y A P A R S C h e z G u u m e S e r m p r m e u r & L r r e o n r e d u R o y r u ë d e s C o r d e r s p r o c h e S o n e u x d e u x T o u r t e r e e s M D C L < m p r m t u r > A u e c P e r m ß o n < / m p r m t u r > < / p > < / o d y > < / t e x t > < / T E >']),\n (915,\n  [0.010600706713780883, -0.028436018957345932],\n  0.019518362835563408,\n  0.02760313343737275,\n  False,\n  PosixPath('Corpus/Mazarinades/201-300/Moreau212_MAZ.xml'),\n  ['A R R E S T D E L A C O V R D E P A R L E M E N T P O R T A N T D E S C H A R G E d e c n q u n t e h u c t o s x d e n e r s u r c h q u e m u d d e V n & u t r e s B r e u u < r e n d = \" \" r e k = \" n o \" / > g e s à e q u p o e n t e n t r n s d n s V e & F u u r g s d e P r s L e u & p u e ́ e q u n z e ́ m e o u r d O t o s r e m x c e n s q u r n t u c t < f g u r e t y p e = \" d e c o r t o n \" / > A P A R S P r e s m p r m e u r s & L r r e s o r d n r e s d u R o y M D C X L V < m p r m t u r > A u e c P r u e g e d e M j e t é ́ < / m p r m t u r >',\n   '< g p / >',\n   'O f c e r s d u R o y t e n r m n ̀ E x e c u t o n d u p r e e n t A r r e t O r d o n n e q u ̀ d g e n c e d u P r o < r e n d = \" \" r e k = \" n o \" / > c u r e u r g e n e r e r e u p u e ́ & f f c h e ́ p r t o u s e s C r r e f o u r s d e c e t t e V e & F u u r g s & p r t o u t e u r s q u e e o n e r ̀ c e q u u c u n n e n p r e t e n d e c u e d g n o r n c e F t e n P r e < r e n d = \" \" r e k = \" n o \" / > m e n t e q u t o r z e m e O c t o r e m x c e n s q u < r e n d = \" \" r e k = \" n o \" / > r n t u c t S g n e ́ G V Y E T 7 r E < r e n d = \" \" r e k = \" n o \" / > J E e u d y q u n e ́ m e o u r d O o r e m x c e n s L q u r n t u t A r r e t c e u s d e N o e g n e u r s d e C o u r d e P r e m e n t e t e ́ e u & p u e ́ ̀ o n d e T r o m p e & C r y p u e t n t e n P c e d e G r e ́ u e P o r e u V n q u e n t o u r e s e s P o r t e s & E n t r e ́ e s d e c e t t e V e & F u u r g s d e P r s & u u x C r r e < r e n d = \" \" r e k = \" n o \" / > f o u r s & P c e s p u q u e s d e c e t t e d t e V e & u x < r e n d = \" \" r e k = \" n o \" / > o u r g s p r m o y e n o ß e r u r é ́ C r e u r o r d n r e d u R o y e n V d e P r e u o t é & V c o m t e ́ d e P e r s e n p r e e n c e d e M t r e s A d r e n M o r e u & F r n c ̧ o s d e S n e c q u e H u ß e r s e n d t e C o u r c c o m p g n e ́ d e t r o s T r o m p e t t e s e n d u P o s c q u e s e F r n c u r e z T r o m p e t r e s d u R o y & d v n u t r e T r o m p e r t e c o m < r e n d = \" \" r e k = \" n o \" / > m s d e D d e r O r d n d t C h m p g m e u ß u r e ́ T r o m p e t t e & f f c h e ́ o u ̀ e o n e t e ́ S g n e ́ O S S E R < / p > < / o d y > < / t e x t > < / T E >']),\n (910,\n  [-0.022222222222222254, -0.013767495001428154],\n  0.017994858611825204,\n  0.005978394950906001,\n  False,\n  PosixPath('Corpus/Mazarinades/201-300/Moreau207_MAZ.xml'),\n  ['A R R E S T D E C o u r d e P r e m e n t e s C h m r e s e m < r e n d = \" \" r e k = \" n o \" / > é e s e 2 3 S e p t e m r e 6 4 8 < f g u r e t y p e = \" d e c o r t o n \" / > A P A R S P r e s m p r m e u r s & L r r e s o r < r e n d = \" \" r e k = \" n o \" / > d n r e s d u R o y M D C X L V < m p r m t u r > A V E C P R V L E G E D E S A M A J E S T É < / m p r m t u r >',\n   'E X T R A C T D E S R E G S T R E S C E j o u r C o u r t o u t e s e s C h m r e s e m e s y n t d e e r e ́ u r A r r e t d u C o n < r e n d = \" \" r e k = \" n o \" / > e d u j o u r d h e r & C o m m o n u r c e u y p p o r t e ́ e p r e s G e n s d u R o y E t v e u e u r s c o n c u o n s A E S T E r r e t e ́ q u e t r e u m e s r e m o n t r n < r e n d = \" \" r e k = \" n o \" / > c e s p r e c r t e r o n t f t e s u R o y & ̀ R e y n e R e ́ g e n t e & q u e d e e r < r e n d = \" \" r e k = \" n o \" / > t o n c o m m e n c e ́ e e j o u r d h e r e r c o n t n u ̈ e ́ e d e m n C e p e n d n t e n < r e n d = \" \" r e k = \" n o \" / > j o n t u x P r e u o t d e s M r c h n s & E c h e u n s d e c e t t e V e d o n n e r o r < r e n d = \" \" r e k = \" n o \" / > d r e ̀ e u r e t e ́ d c e e E t ̀ t o u s G o u < r e n d = \" \" r e k = \" n o \" / > v e r n e u r s C p t n e s M r e s & E c h e < r e n d = \" \" r e k = \" n o \" / > u n s d e s V e s P o n t s P o r t s & p g e s',\n   'd e s e n v r o n s d e e r p e r r e < r e n d = \" \" r e k = \" n o \" / > m e n t e s v u r e s & d n r e ́ e s q u e r o n t d e t n e ́ e s p o u r p p o r t e r e n c e e L e u r f t t r e x p r e e s n h t o n s & d e ́ f e n e s & ̀ t o u t e s p e r o ̃ n e s d e e m p e c h e r ̀ p e n e d e n r e p o n d r e e n e u r s n o m s E t e r e p r e e n t A r r e t ̀ d g e n c e d u P r o c u r e u r G e n e r e n u o y e ́ p r t o u t e s e s V e s & e u x o u ̀ e o n e r E n j o n t ̀ t o u s O f f c e r s d u R o y d e t e n r m n ̀ e x e c u t o n d c e u y e e e u e n n e n o u n e S e p t e m r e 6 4 8 S g n e ́ G V Y E T C o t o n n e ́ ̀ O r g n p r m o y C o n e e r S e c r e r r e d u R o y & d e e s F n n c e r < / p > < / o d y > < / t e x t > < / T E >']),\n (937,\n  [0.007662835249042099, -0.025495750708215303],\n  0.0165792929786287,\n  0.023446660984933736,\n  False,\n  PosixPath('Corpus/Mazarinades/201-300/Moreau234_MAZ.xml'),\n  ['A R R E S T D E L A C O V R D E P A R L E M E N T P O R T A N T Q V E L E S V L L E S d e M e u x L g n y & u t r e s v o n e s d u r e o r t d e d t e C o u r c o n t n u ë ̈ r o n t d p p o r t e r d e s e d s & u t r e s v u r e s e n V e d e P r s n q u e t c c o u t u m e ́ D u v n g é m e n u e r m x c e n s q u r e n t e u f < f g u r e t y p e = \" d e c o r t o n \" / > A P A R S P r e s m p r m e u r s & L r r e s o r d n r e s d u R o y < m p r m t u r > A u e e P r u e g e d e M j e t é < / m p r m t u r >',\n   '< g p / >',\n   '< r e n d = \" \" r e k = \" n o \" / > 4 m n e r e q u e c e o t ̀ p e n e d e v e P e r m e t c o ? r r u s c o n t r e e d t s c o n t r e u e n n s o u r e f u n s o r d o n n e q u e e d t p r e e n t A r r e t e r e u p u e ́ & f f c h e ́ p r t o u t o u ̀ p p r t e n d r ̀ c e q u u c u n n e n p r e t e n d e c u e d g n o r n c e F A T e n P r < r e n d = \" \" r e k = \" n o \" / > e m e n t e v n g e ́ m e n u e r m x c e n s q u r e n t e u f S g n e ́ D v T L L E T C o t o n n é o r g n p r m o y C o n e e r S e c r e e d u R o y & d e e s F n n c e s A ẽ 2 à e ã < r e n d = \" \" r e k = \" n o \" / > < r e n d = \" \" r e k = \" n o \" / > E v n g t h u c e ́ m e o u r d e n u e r m x c e n s q u < r e n d = \" \" r e k = \" n o \" / > L r e n e n e u f A r r e t c e s d e N e g n e u r s d e e C o u r d e P r e m e n t e f e ́ e u & p u é ́ ̀ o n d e T r o m p e & c r y p u c p r t o u s e s C r r e f o u r s o r d n r e s & e x < r e n d = \" \" r e k = \" n o \" / > r o r d n r e s d e c e t t e V e & F u u r g s d e P r s p r m o y e n o e r u r é ́ C r e u r o r d n r e d u R o y e n V e P r u o e & V e o m e d e P r s & e h e ́ p r o u t o ̀ e < r e n d = \" \" r e k = \" n o \" / > o n e t e ́ A t e d e D d e r O r d n e u d p o & c < r e n d = \" \" r e k = \" n o \" / > A u e s e F r n u r e z T r o m p e t t e s d u R o y e t s e u S g n e ́ O S S E R < / p > < / o d y > < / t e x t > < / T E >']),\n (2836,\n  [0.0,\n   -0.004934210526315819,\n   0.004934210526315819,\n   -0.045205479452054775,\n   0.039587501923964874,\n   -0.0030993325590832344],\n  0.016293455831289088,\n  0.027041964282297316,\n  False,\n  PosixPath('Corpus/Mazarinades/901-1000/Moreau997_GBOOKS.xml'),\n  ['D E M A N D E S D E S P R N C E S E T S E G N E V R S Q V o n t p r s e s r m e s u e c e P r e m e n t & P e u p e d e P r s M D C X L X',\n   's & e p n n s p n o e s p r d s r n u e u n t P d n n s e s p e u p e d e p n e s o e r e n p n e d u r s q u e n t < r e n d = \" \" r e k = \" n o \" / > e n d e c e n o u e q u e n o e n e u o o d p p r e n d e q u u e F o n r o d s d e u e u n e u e e n P u d e o u e e n s e n o n n o e e o e n e n e n e e e u s e p o e e e e r e n u e o n n e n e d u n e n e n e n e r e n e u n o n e d e e s e e n u n e e e e e e o n d e m u t o n e n d o o u n e e n u e n e u e u n o r u u e n r n e n e o u e n d e o u s d o u n e d u r e e e r e n p u n e n o n e e o u e p e u e n e n u u r e e o r p e f q u e o u e d p u n o E o e e n n e o u u n u n e n u n e n e e e e n o t n e n u e o e o n u e e n e e n e e u e s e q e e e u n e p e u e s o e r d n e o n e d e p e u e n e r e e n e d e s u e m n e n e n e e e e e e n e e r e p u p e p e e n e e o e n d e e u e n u e n e p u n r e e e u u e u s c e u e u r e e r e p r',\n   '4 < r e n d = \" \" r e k = \" n o \" / > c h n t e n q e o p u s e o n e o t t u t o n n t e n e u r e d e t o n m e d e S e d t q u t u t n e n o n u e c e d e r e t R O u û e u r e P r n c e d e C o n t y d e < r e n d = \" \" r e k = \" n o \" / > m n d e d u o r e n t r e ́ e & p c e d n s e C o e d u R o y V n e p t e f o r t e d n s o n G o u u e r n e m e n t d e C h m p g n e L e r e t o u r d e M d m e d e C h e v r e u e Q u o f e D u e & P e M q u s d N o r m o n < r e n d = \" \" r e k = \" n o \" / > t o s Q u o y d o n n e q u r n t e d e u é m e u r e s Q u o n c c o r d e e T u r e t à f e m m e d u P r n c e d e M c Q u o p r n q u o n u o t e c o u t u m e ́ d e e u e t e d e s E u z e e r s n e t e n t p s Q u o d o n n G e n o c u t e s G e r e s u D u e d e R e s Q u o n f e C h e u e r d e O r d e C o m t e d e M r e Q u o n f e M r e c h é d e C m p e e u d C r e n n Q u o n p e y e e s p e n o n s d e S r & q u o e s f g d o r e n u t u r v n e A h y Q u e o u s e s r e d f c e s p p r t e n n t s & d e p n d e s 9 h u y e d e S D e n y A & u e e d n s V < r e n d = \" \" r e k = \" n o \" / > e o e n e r e m s o n e t q u s e t e n t u e ̃ t e m e d e n u e n Q u e e o y d o n s 5 d e s',\n   'd e s C o m m o n s d e L e u t e n n t s G e h e r m r e e h u n d e c m p & e d e e u u d e u e & e u r e s c o m n d m e e o e u q u e s o n t e r e r c e d s r m d e d e e t o m d e E t n q u e e m n p s d P s d e m e r n t r m e e & e u e n r p y e e d e s d e e r s d u R o y q u e r o n e m s e n t r e e m o n d u E u e m e n t u q u A e n e r e e r e < r e n d = \" \" r e k = \" n o \" / > u o n d u F e & e u u n e e q u e n t d o r o e p e n e & e e n u u o n r u d e n d e s p r t c u d e r e & s p u n e e e q n u s d e o n n e n u n e r p u e e u m e n t e e f e e s < r e n d = \" \" r e k = \" n o \" / > o n e u t e u e c d e o m g u u e d e n < r e n d = \" \" r e k = \" n o \" / > d e u e c d n o e e d e o d u r n u e n C o n u e e n n t e o n d e s o d s o d u s N o r o n V e o e u u n e d e o u e e u n e e n e n s & e e t e r g e e e e y e d o e e n s q u e u n o u r o r y p e e m u e r u r e o t s t o u n c e s o u s e d e o n e s q d o e e u o r f e n o n s e u u n e t e o e n e e r o e o e u r e d e o p e o e n e d o n e d n u u n t e d e r o d e e e d q p n e u u D e & P r d e n r n u d e e u u t o t t d o n m d o n e u u u u n t o d e e g g s o n f n u n f e e o u u < r e n d = \" \" r e k = \" n o \" / > e o e t e r v e v e 2',\n   '6 d e O r d r e O t e d e C o & q u o h u y r d õ n t L e u t e p n c e d e R e o y u B g d e C ẽ e q u o ̃ m e u t e e n r e e S t d e T r f s M o n t e u r e e ́ e c u f o r t d e n d e G u u e m e m e ̃ t B r e t g n e p o u r M õ ̃ e û r e n o m e o n p e t r e u o n d ́ õ ̃ m g e m ẽ t d e s m o n s & c h t e x q u u y o n t e t e ́ r e ́ s n e t g n e d u t e m p s d u f e u R o y e p y e m e n t d e t o u s e t r e r g e s d e e s p e n e e t o u r d e e n p u y & o n r e t e < r e n d = \" \" r e k = \" n o \" / > m e ̈ r d s e s c h r g e s e o t o ̃ d e c e u x q u n ̀ e f r e f u u e r d u o d e V n c e ̃ n e M e D u c d E e u f d e m n d c M o n t r e t e p y e r m e n d e t o u d c q u e t d e u ̀ M d < r e n d = \" \" r e k = \" n o \" / > m e f f e m m e r c e ́ n t m e f r n c s o u e C < r e n d = \" \" r e k = \" n o \" / > t e d e e u x f u n e c t & t e c o p e n e s d e s o r u c e s d u C s c e d e e o n n e o n c d e t M r e D u e d e B o t o n d e n ̀ d e S e n o u v h e p r p t u p e c p e n e e ́ e e q u v u Q u o ̃ e o t e e G o u e r n m e m e ̃ t d A u e g n e ́ u u e d e C h u n e & u o h u y d o ̃ n e ̃ Q u o n r e < r e n d = \" \" r e k = \" n o \" / > o o e p o u t P n c e s d e E ̃ ́ e u y & t o u s e u x d e m o n Q u ̂ n e n d e e C m n < r e n d = \" \" r e k = \" n o \" / > d e m e n t d e ́ r e ́ e d A e m g n ̀ t e M r e c h d e T u r e n n e Q u o n d o r d é ́ o d t M r e c h e G o u e t n e n e n t d e h u t e &',\n   '7 o A c e Q u o u y d o ̃ n e e n r o r e n p r o p r e e s d o m n e d e T n e & d E g u e n u & t o u s e e u e q u e e e y f o e d e e n A c e & q u o n u o n e S o u u e m e m e n t d e P h o u r g M e M r e c h d e M o t h e d e m d e r e c o m < r e n d = \" \" r e k = \" n o \" / > p e d u G o u u e r n e m e t d e B e e g r d e & e s c s r e u e n u s d e p u s n c e t r e r e s d e r c o n d u M q u s d e P o u r c n q c e n t s m e r e p o u r n o n o u ̈ n c e p e ́ d n c q u t r e n s d u D < r e n d = \" \" r e k = \" n o \" / > h ́ d e C r d o n q u p r e t e d u p p r t e n c e n r e u r e s d v n d o n q u e e f e u o y u y f t s e n p u e n t o u c h e r T o u t e s o s p e o n s e t t s & e o n n n e n s p e o n d u n p n o n & q u o n u o o n n e o n R e g m e n t d e C u e r e e D u o d e T r m o u e d e m d e e C o t e d e R o u o e n p r o p r e c u e r d e s d r o t s e d e n v e u e d e m n d e m e M o n t r c h u d & e e e u u d n y r r t e n r s e m e u o u e n e e n u o d n m o e u e c o e d o o u o e e o n e m n d e n e e o o m n e d e m u o n e n o e t t e d e d t s C o r d d e u d u P e d u d e c t e u g o n e r & e q u e e o n t e d e n r e q u f S t u e e t e u M r e c n d n d s R e e u d e r n n e d e e o u e u r d o e r o n p u M e M r q u s d e V r r y d e m n n d e d E e r r r e s e u & e T u r o t p o n r f e m m e M e D u c d e L u y n e s d e m n d e e r e t o u r d e M',\n   'e n e o n r e e o e e e n u e o n e 3 r e p r t o n d e s d o m m g e s q u o u f f e r t s e n m o n d e L e g n y M r e C o r m t e d e F e q u e d e m n d e e T o u r e t p o u r f e m m e M r e M r q u s d e B o u y e u r u u n c e d e o h r g e d e C o o n e d e s c e n t S u e s q u e D u c d e B o u ̈ o n < r e n d = \" \" r e k = \" n o \" / > M r e C o m t e d e M o r e d e m n d e q u o n r e u o y e e p r o c e z d u M r e c h d e M r c o n c e d e f e n m < r e n d = \" \" r e k = \" n o \" / > m e Q u o n u y d o n n e e G o u u e r n e m e n t d e V e < r e n d = \" \" r e k = \" n o \" / > d u n L e u t e n n c e d e R o y d e s t r o s E u e c h e z & d e u x c e n t s m e u r e s q u d t u y e t r e d e u ë s r e M r q u s d A u d e m n d e q u ̀ c u e q u e u d n s m o n c e n t m e u r e s d e r e u e n u e n B e n e f c e s d e t o u t e n c ẽ n e t é o n o t e e G o u u e r < r e n d = \" \" r e k = \" n o \" / > n e m e ̃ t d e F o x ̀ M r d e T r e u e p o u r e u y d o n < r e n d = \" \" r e k = \" n o \" / > n e r o u q u o n u y c c o r d e u r u u h c é e d e c h r g e d u M r q u s d e S o u r d s o n p e r e à O r e n s M r e M r q u s d e C u g n c q u o n u y r e n d e o R e g m e n t & q u o n e p y e d e r o u s e s r r e r g e s d e e s p e n o n s M r d e M t d e m n d e e p t m e e c u s p o u r e ́ s r r e r g e s d e p e n o n M r e C h e u e r d e r u g e s d e m n d e d e c õ m n < r e n d = \" \" r e k = \" n o \" / > d e r e R e g m e n t d e C u e r e d e R e y n e & q u o n u y p y e t o u t e s e s p e n o n s F N < / p > < / o d y > < / t e x t > < / T E >']),\n (919,\n  [0.009389671361502372, -0.022535211267605604],\n  0.015962441314553988,\n  0.022574300995626864,\n  False,\n  PosixPath('Corpus/Mazarinades/201-300/Moreau216_MAZ.xml'),\n  ['A R R E S T D E L A C O V R D E P A R L E M E N T D O N N E T O V T E S L E S C h m r e s e m e ́ e s e 6 o u r d e n u e r 6 4 9 P O V R L A S E V R E T E E T P O L C E d e V e d e P r s < f g u r e t y p e = \" d e c o r t o n \" / > A P A R S P r e s m p r m e u r s & L r r e s o r d n < r e n d = \" \" r e k = \" n o \" / > r e s d u R o y M D C X L X < m p r m t u r > A u e c P r u e g e d e M j e t e ́ < / m p r m t u r >',\n   '< g p / >',\n   '< r e n d = \" \" r e k = \" n o \" / > d t e V e e r p e r r e m e n t e s V u r e s & d e n r e ́ e s q u e r o n t d e t n e ́ e s p o u r p p o r t e r e n c e < r e n d = \" \" r e k = \" n o \" / > e L e u r f t t r e x p r e e s n h t o n s & d e f e n e s d e r e c e u o r u c u n e s g r n o n s n y o g e m e n t d e g e n s d e g u e r r e e u r e n j o n t u f r e e n o r t e q u e e s v u r e s & d e n r e ́ e s o e n t p p o r t e ́ e s e n c e t r e d t e V e n s u c u n e m p e c h e m e n t à ̀ c e t t e f n e c o r < r e n d = \" \" r e k = \" n o \" / > t e r & t e r c e u x q u e s p p o r t e r o n t ̀ p e n e d e n r e p o n d r e e n e u r s n o m s E t e r e p r e e n t A r r e t e u & p u e ́ à ̀ o n d e T r o m p e & C r y p u c & f f c h e ́ e ́ s C r r e f o u r s d e c e t t e d t e V e & F u x < r e n d = \" \" r e k = \" n o \" / > o u r g s & e n u o y e ́ e ́ s V e s c r c o n u o n e s p o u r y e t r e u e u p u e ́ & f f c h é à c e q u u c u n n e n p r e t e n d e c u e d g n o r n c e F t e n P r e m e n t e x e m e n u e r m x c e n s q u r n t e u f S g n e ́ D V T L L E T 7 r e < r e n d = \" \" r e k = \" n o \" / > J E e u d & y e p r e m e o u r d e n u e r m x c e n s q u r n t e n e u f A r r e e u s d e N o e g n e u r s d e C o u r d e P r e m e n t e e é e u & p u e ́ ̀ o n d e T r o m p e & C r y p u < r e n d = \" \" r e k = \" n o \" / > c t n t e ́ s P o r t e s & E n t r e e s d e c e t t e V e & F u x o u g s d e P r s q u u x C r r e f o u r s & P c e s p u q u e s d e c e r t e d t e e & F u x o u g s p r m o y e n o ß e r u r e ́ C r e u r o r d n r e d u R o y e n V e P r e u o t é & V c o m t e d e P r s e n p r e e n c e d e t r e s e n F m o t & P e r r e L u r e n s H u j e r s e n d t e C o u r c c o m p g n é d e t r o s T r o m p e t t e s e n d u B o s c q u e s e F r n m c u r e Z T r o m p e t t e s d u R o y & d v n u < r e n d = \" \" r e k = \" n o \" / > t r e T r o m p e t t e c o m m s d e D d e r O r d n d t C h m p g n e u ß u r e ́ T r o m p e t t e & f f c h e ́ o u ̀ e o n e t e ́ S g n e O S S E R < / p > < / o d y > < / t e x t > < / T E >']),\n (2783,\n  [-0.021212121212121238, 0.018831168831168865, -0.0064296203062722546],\n  0.015490970116520786,\n  0.02024884720327203,\n  False,\n  PosixPath('Corpus/Mazarinades/801-900/Moreau896_GBOOKS.xml'),\n  ['L A D E C L A R A T O N D V C E L 6 5 A u e v u s L E D E C R E T P r o m u g u e P r e s p u s v e r t u e u x F r o n d e u r s P r e L e c t e u r u x A t r e s',\n   'L A D E C L A R A T O N d u C e 6 5 S A t u r n e u C n c r e R e r r o g r d e < / > y p r s T r o p h e ̀ q o n q d < / > r T u r n e u S g r e < / > e m d e o n m m p e r r e < / > D n m n t u R P o y P r o p e r t e ́ < / > A J o n P e u p e T r n q u u n o < / > A u P r e m e o t u t h e r t ́ < / > E u x P n c o s L h e < / > c u e S t u r n e L o p e ́ M e r c u r e < / > e e e e e u s < / > L E D E C R E T < / > e P r n m n c e ́ t r e A e m ́ < / > u r d n d n s d m s C r n d A e ́ e < / > M r s u x B P e n c e s R e t r o g r d e < / > M z r n c h e t p r F v o n m d d e < / > C e e r e r s S n ? M t h < / > Q u t o m e r d e H u t e n < / >',\n   '< / > P e < / > & < / > 4 E < / > e Q < / > < / > t < / > < / > < / > p < / > E e e < / > J < / > < / > < / > t < / > A d < / > r < / > A < / > 2 V V < / > e < / > 6 g p e < / > E m e s A o m o n t n u A < / > P c f e u s A n e u s < / > < / > A n u n t t e r C D A < / > n o n u d o n n n e o < / > < / > o u e n S g t t r o < / > e s < / > u t T r u m p h t F u n d < / > F r t R e g P r o p e r t s < / > P o p u o T r n q u t s < / > S e u A u t h o r t s o H < / > P n c p u s L e r t s < / > 4 o E E 4 4 4 < / > S r f q q A < / > A r e t o P r o n u n t t o < / > u t t C o n g r e g t < / > n A u r e e n é s < / > e é é < / > n C e n e r 5 2 < / > d r e R e r o g d n r < / > r n u s u s H u < / > C r c S n e Q e F e t u m < / > A o C d e d J m u m < / > < / > e < / > 2 < / > J v p < / > < / > A d e ̂ < / > p < / > E < / > < / >',\n   'A < / > 3 < / > A d < / > A d E f u m & A p p t d e p < / > A u t h e j c ̧ < / > n A t s o o m L < / > e < / > E x T h e c ô ̂ f t d d e < / > n o u n < / > L e g u n t u r < / > e t u < / > E u e n t u r u < / > r n < / > e < / > e u r o e u r < / > n A n e < / > E x M e r c < / > e u d q o n < / > A p p o t o S g < / > n u e o o n t < / > e e e < / > O n < / > d o n s < / > u < / > u e p o < / > p < / > < / p > < / o d y > < / t e x t > < / T E >']),\n (2039,\n  [-0.006437768240343367,\n   -0.022841511038935947,\n   0.022989971103178686,\n   0.003941890335725007,\n   -0.01848591549295775],\n  0.01493941124222815,\n  0.018453863235507757,\n  False,\n  PosixPath('Corpus/Mazarinades/3501-3600/Moreau3558_GALL.xml'),\n  ['L E S R O S S A N S R O Y O V R E F L E X O N S D E S R O S D E L A F E B V E S V R L E N L E V E M E N T d u R o y h o r s o n n e v e d e P r s < f g u r e t y p e = \" d e c o r t o n \" / > A P A R S C h e z M A T H V R N E T J E A N H E N A V L T M D C X L V < g p / >',\n   'T e f u t n o y e r d n s v n v e r r e < / > E t e r p e r d r e d n s d e s p o t s < / > L h o n n e u r d u o r d n s t o n e n c o s < / > L e p u s g r n d d e s R o s d e t e r r e ? < / > g r e r v n d o n t o u t d u n < / > C e p e n d n t q u e d e d n s e v n < / > s o n d n c e d e s d e c e s < / > T u d o n n e s d e s C o m m n d e m e n t s < / > Q u n u r o n t q u u t n t d e m o m e n t s < / > u s e n p o u r r o n t u o r t e s c p r c e s ? < / > 6 < / > C e s R o y u m e s m g n r e s < / > C o n q u s p r f e u e & e o r t < / > A u o t q u e c h o u n s e n d o r t s < / > L f e n t ̀ e u r s p r o p r e t r e s < / > < / > T e s q u s u o e n t t o u o u r s e t e ́ < / > N e r e t n t d e e u r M e t e ́ < / > Q u e c e t e p e r t e v e r t e < / > Q u s f o n t c e t e n u c t d v n S n n t < / > Q u e u o r e & e u t r o m p h n t < / > L p o r t e t o u t e e n o n v g e < / > e s < / >',\n   'L e s v o y ̀ r e g n n t s ̀ t e < / > T n d s q u o n e s p e r d ̀ C o u r < / > L o n p o u r r v o r u e c e o u r < / > C e q u e c e t v r y e m e n t q u e f e < / > C o m e n e e t o u o u r s e t e ́ < / > C o n t r r e ̀ t o u t e v e r t e ́ < / > N o m m e ́ m e n t e n c e t t e u n t u r e < / > O u ̀ o n v o d d o n n e r ̀ d e s R o s < / > L e p o u u o r d e f r e d e s o s < / > Q n e v n g e n t p o n t c e s t e n u r e < / > L o r s q u e t u d o n n e s e n p r f g e < / > D e s E m p r e s u x c o n u e < / > T e s f e r s e n n e m s e n n u y e < / > D e v o r e o h e u r d e t o n g e < / > T c h e n t ̀ d u e r e t e n < / > O u ̀ p u s t o t e r e d u r e ̀ n e n < / > A p r e ́ s e n u o r f c t e u r p r o y e s < / > E t q u n d t u p r e s u S o e < / > s t e n o t e n t v n n s p r e < / > Q u p e u t t o u r e u f r e t o y e < / > 8 < / >',\n   '6 < / > 8 < / > 4 < / > T u s e u r e s p o u r t n t r e d e u e < / > D u o r f t p r c e t e c t o n < / > e o r ̀ q u e p o n c t d f f e c t o n < / > C e s t E n f n t t e p r o t y m e < / > C h o n t s p o u r c e c h e t o u r < / > S c h n t s e n q u e p e n d n t e o u r < / > T o n c œ u r n e e p o u r r o t p e r m e t t r e ) < / > L e s t r t e s h o r r e u r s d e n u c t < / > M n n t s e s r m e s n s r u c t < / > P o u r p o u u o r m e u x t r o p e r t o n t r e < / > < / > 4 < / > M s q u o y q u e p o u r r o t o n t t e n d r e < / > D v n e p r t d e r o n z e & d e f e r < / > Q u e u r c o m m n d e d e t o u f f e r < / > L d e u o t o n p u s t e n d r e < / > D n s e s p r e r e s & e s v œ u x < / > P o r t n t e s r m e s & e s f e u x < / > P r m e s c t o n s d e g r c e s < / > E t p r m e m e c r u u t e ́ < / > E t e g n n t n o t r e e r t e ́ < / > E n e f f c e r t o u t e s e s t r c e s ? < / >',\n   '< / > 2 < / > S n o n d e v o r q u e m n e < / > S o r t n t d e s t e r m e s d u d e u o r < / > V u r p e o u p o u u o r < / > P o u r e n t r t y r n n e < / > t p o u r r e n d r e v n n o m o d e u x < / > Q u f c t c h e Z n o u s d e p e t t s D e u x < / > Q u n d s n o u s r e n d e n t u t c e < / > E t e n t r e p r e n d m e m e e n v n o u r < / > e n e e e n e r < / > E t r n g e f c e d e s f f r e s < / > C e t e t r o u p e d e d e ́ u c h e z < / > Q u c e t e n u c t s e t o e n t c o u c h e z < / > R e m p s d e v n s & o n n e s c h e r e s < / > S e e u e p o u r r e c o m m e n c e r < / > M s e e s e n t e n d m e n c e r < / > P r t o u t d v n e p r o c h e f m n e < / > Q u t r o u e e s c o n t e n t e m e n t s < / > E t q u u p e n d e s u g e m e n t s < / > C r g n n t s e c o u p d e e u r r u n e < / >',\n   '8 < / > L p o m p e e t r o u u e c h n g e ́ e < / > E n v n e c o n t e r n t o n < / > D o n n n t v n e p p r e h e n o n < / > Q u e v o d p r t o u t p r t g e ́ e < / > O n c o n e c t u r e d u d n g e r < / > D u d e d n s & d e e t r n g e r < / > A u r s u c c e d e t r t e e < / > L o n v o d p r o d g t e ́ < / > C e d e r p c e ̀ c h e r t e ́ < / > Q u n o u s e t v n e t r t e h o t e e < / > T < / > < / > A N < / > < / p > < / o d y > < / t e x t > < / T E >']),\n (709,\n  [0.02807844818347438,\n   0.013640847455131722,\n   -0.01694679816641198,\n   0.01245120473818817,\n   0.0015209354053322688],\n  0.014527646789707704,\n  0.01672410158217922,\n  True,\n  PosixPath('Corpus/Mazarinades/1801-1900/Moreau1806_GALL.xml'),\n  ['L E S L A R M E S M A Z A R N E S S u r c o p e m p r m e ́ e ̀ B r u x e e s M D C L',\n   '3 L E S L A R M E S M A Z A R N E S N A V E Z v o u s m s o u y d r e < / > M r c h n d q u p e r d n e p e u t p s r r e < / > C e u y q u p e n d n t o n E c t < / > D o n n o t e r n e ̀ c e t E t r < / > L e q u e p o r t o t u r e s e p u e s < / > L e f s d e E m p r e d e s G u e s < / > Q u n o u s f o t ̀ t o u s L o y < / > Q u p o r t o t p r t o u t t n t d e f r o y < / > Q u f t e n t r e r d e d n s V n c e n n e s < / > N o s P r n c e s t o u s c h r g e ́ s d e ́ c h n e s < / > Q u f u t e M t r e d e n o s f o r t s < / > Q u d p o o t d e t o u s n o s p o r t s < / > Q u p r e s f u e u r s d e R e y n e < / > T e n t u t h o r t e ́ S o u u e r n e < / > Q u f t m r c h e r M e t e ́ < / > D e o u r d e n u c t h y u e r E t e ́ < / > Q u d e o n r s r m e ́ d e f o u d r e < / > C r o r o t r e d u r e t o u t e n p o u d r e < / >',\n   '4 < / > Q u s e t o t v e u t o u o u r s v n q u e u r < / > Q u p r d t h o m m e d e g r n d c œ u r < / > Q u c o m m e c h e u d e T r o m p e t t e < / > P e n d n t e r u t f o t e t e < / > P r v n M r c e t o u t n o u u e u < / > P e u r e m n t e n n t c o m m e v n V e u < / > L u y q u e r o t d e n o s r m e s < / > Q u n o n s f t t n t d e v c r m e s < / > Q u c r o r o t d e t e n r o u m s < / > L e p u s g r n d P r e t r e s d e T h e m s < / > Q u E e m o c q u o t d e e n r m e n e e < / > Q u p r u p e r e & p r u d c e < / > P F o n e t t o t p e n d n t f u r e u r < / > D e e u r e r F m h e u r < / > N e u t p s c r e u q u e p r e u r p r n d n c e < / > f u t d e e t t e ́ d e F r n c e < / > < / > E t q u n t o u u n t v e u < / > u y f u t t o u r n e r e c u < / > L u y q u f o t t n t d e r u d e s < / > A p r e s t n t d e M r n d e s < / > L u y q u p r v n c o u p d e o n n e t < / > V o u n t f r e e o n v e t < / > A u e c v n e m n e o u e < / > G g n o t S A t e e R o y e < / > Q u s e u r o t d e f u e u r < / > Q u e p r e n o t p o u r o n S u u e u r < / > D e m e u r e r u e c m e r u e e < / > V n d o g t u c u u t r e ́ ̀ o r e e < / > < / > p e n r n e o e n o e e n e < / > e s < / >',\n   '5 < / > L e s p u s g n d s S e g n e u r s d e F r n c e < / > O n t c o u r t e ́ o n E m n e n c e < / > M o t e ́ f g u e m o t e ́ r n < / > O n u y o t e o u n < / > S o u u e n t e f o s d n s P r s m e m e < / > S n s u o r e v g e e m e < / > S e t n t p r o m e n e d n s v n c h r < / > E n u e s o u d e m C e r < / > E t e v o r p r d e g e n s d e m e < / > C h e ́ c o m m e v n p e t e u r d E g e < / > F o r p u s v t e q u e e p s < / > S e n r e t o u r n e r d e u s e s p s < / > S n s t r n n s u t e & n s g g e < / > A y n t e ́ t o u t e ́ q u p g e < / > C e t p o u r d e u e n r f u r e u x < / > y n t e t e ́ g o r e u x < / > Q u o y p r v n d e m t u r d e r o u ̈ e < / > E t r e r e n u e r e ́ d n s o u ̈ < / > D e c e n d r e d u T r o ̂ n e d e s D e u x < / > p o u r e r d e n s e s p u s s e u x < / > C e r t n e m e n t d m e f o r t u n e < / > A c e c o u p e n o u e ́ d v n e < / > E t p o u r e p o u e r u q u u o u t < / > O n m e t t e r e t o u t p o u r e r o u t < / > L e o n h e u r f t d e F r n c e < / > N o u s p r o m e t c e t t e d e u r n c e < / > O n p o u r r o t d r e d e o r m s < / > Q u v o t e n m e u x t r d q u e m j s < / > D e p r t o u t o n e t e f t e e < / > C h c u n ̀ p u c e ̀ o r e e e < / > B < / >',\n   'P o u r o n d e r n e r n e m o n t < / > T o u t e v o n d r e u p r e m e n t < / > P r v n A r r e t t r e q u t e e < / > T h e m s d e c r e ́ c o u p e < / > R e n o u e e ́ d n t h e r < / > C e u y d u e p t e m e n u e r < / > O r f n q u e c e t A r r e t t e n n e < / > O n r m e p u t o t q u e G u e n e < / > P o u r p r e u e n r c e d e o y < / > O n g r d e e P s R o y < / > 7 < / > O n y d o t r e d o u e r G d e < / > Q u o y f u t t n t c r n d r e d e c h o c < / > D e c e g r n d n u e n t e u r d u H o c < / > P o u r q u o y t n t d e f o r c e s e n e m e < / > P o u r e f r e t r o t t e r ̀ m e < / > A f n q u c o u r e e g o p < / > S n s c r n d r e q u s e c h u f e t r o p < / > L e c h n t h o r s d e n o s F r o n t e r e s < / > T o n s u y d e o n n e s c r o u p e r e s < / > Q u v n c h c u n f c e o n d e u o r < / > E t t c h e d e t o u t o n p o u u o r < / > D e p e r d r e c e c h e f d e C o r r e s < / > D e d e t r u r e e s n r e s < / > C r o y n t v o r v n m o n t r e r n < / > V o y n t v n F r n c ̧ o s M z r n < / > P r e s m x m e s P o t q u e s < / > P r e s d e t e t e s p r t q u e s 8 < / > r e n d u c e p u u r e E t t < / > S n s R o y n s p e u p e n s S e n t < / > ̀ r u n e ́ n o s P r o u n c e s < / > < / >',\n   '̀ v o u u p e r d r e n o s P r n c e s < / > n o u s o t e r e p n d e m n < / > n o u s f r e t o u s m o u r r d e f m < / > M s m n t e n n t d n s d e r o u r e < / > T o u t u y v f r e n q u e r o u t t e < / > G t o n c e t A n g e d e s F r n c ̧ o s < / > q u p e u t e u m n r e n r n o s o x < / > D o t f r e e c t e r e t o n n e r r e < / > C o n t r e c e m o n t r e d e t e r r e < / > D e t r u r e c e t m t e u x < / > E c r z e r c e m t e u x < / > v d v n e e u e p r o e < / > D o n n e r c h e u M o n o p o e < / > R u n e r t o u s e s P r t n s < / > E n r c h r t o u s e s A r t n s < / > E n f n e o n e C t h e c h m e < / > D e t r u r e e M z r n m e < / > R e p r e r g o r e d e s L y s < / > R e n d r e c o u s n o s v œ u x c c o m p s < / > p r e s t n t d e t r t e s o u r n e ́ e s < / > C h n g e r t o u t e s n o s d e t n e ́ e s < / > E t n o u s f r e g o u t e r e n c o r < / > D e d o u c e u r d u S e c e d o r < / > A m e n < / > < / p > < / o d y > < / t e x t > < / T E >']),\n (3035,\n  [-0.009296890875838293,\n   0.0017162471395881784,\n   -0.010126979853726459,\n   0.021568627450980427,\n   -0.02008032128514059,\n   0.02008032128514059,\n   -0.022044088176352727,\n   0.002242107978332908,\n   -0.0003593101245608077,\n   0.0022330034699910017,\n   -0.005976095617529875,\n   0.0239043824701195,\n   -0.019960079840319334,\n   0.019960079840319334,\n   -0.022044088176352727,\n   0.022044088176352727,\n   -0.02259887005649719],\n  0.014484445989243686,\n  0.017366533837680134,\n  False,\n  PosixPath('Corpus/Mazarinades/Moreau_sup3/Moreau3suppl85_GBOOKS.xml'),\n  ['L A S O R T E < / > D E M O N S E G N E V R < / > L E D V C < / > D E B E A V F O R T < / > D V B O S D E V N C E N N E S < / > S T A N C E S < / > e n e e e e < / > o e d e c e e n d u e e u p n < / > e n n o c e n t c o m m e u c o u p e < / > u p e r e m s t r t e p r o n < / > Q u o n e u t d s p e u d e r o n < / > P r m e r d e T o u r s e f f r o y < / > P u q u e n t d e P o r t e s d r < / > E t t n t d A r g u s m p t o y e s < / > N e m p e c h e ́ t p s q u v n D u c n e e h p p e d e t o n e n < / >',\n   '< / > C e D o n j o n q u m o r g u e T e r r e < / > E t d o n t e f s t e m p e r e u x < / > S e e n t u q u e s d n s e s C e u x < / > M e ́ p r e e s c o u p s d e T o n n e r r e < / > C e e u q u t e e r t d o r n e m e n t < / > p u s v e u d n s v n m o m e n t < / > R e n u e r e r ̀ s f o n u d c e < / > L r t f c e u r m o n t e ́ < / > E t c e s m u r s o n t c e d e ́ p c e < / > A u x u r p r e n n s e f f o r s d e u t e < / > O u y g r n d & g e n e r e u e c o u r g e < / > e u s d s d m r t o n < / > D e v o r p r q u e e n u e n t o n < / > T s e s g r e n t y d u n u f r g e < / > 2 < / > T o n e s p r t u u e é t o n c o r p s < / > J t r e ́ d u r n g d e s m o r t s < / > P r v n o y e n e é p o u u e n t e < / > A u ß t e v o y n t h o r s d e s f e r s < / > J o e t e n r p o u r v e r t e < / > Q u e n o u s p o u u o n s f o r e e r e s e c o t s d e s C n f e r s < / >',\n   'f r < / > < / > & < / > C e r t e s q u n d e t e c o n f d e r e < / > D e c e n d r e ̀ y d e d e t e s r u s < / > E t f o n d r e c o m m e v n e A g e e n < / > M o n c œ u r p r e & n e e p e u t t r e < / > D e c e t e f f r o y e d n g e r < / > V n c o r d e u t c e d e g g e r < / > < / > E o f t e r d s m n s d e E u e < / > o n D e u q u e e f t r n g e o r t < / > e q u r u t o u u e n t v e < / > T e u u e e u r e u e m e n t d u g u e d e m o r t < / > c e t t e u t e v o e n e e < / > n E r e m p t v u u t o p p o r < / > Q u e y e r u t d e r e j t e r < / > T o n r s e m t h o r s d e d e f e n e < / > E n v n & ̀ d u e r e s f o u < / > J c h o t d ́ e u e r v o x < / > L n g o e e f o r c e ̀ e t r e < / > Q u o n t e o u e u e c r o n < / > n q u u p u s f o r t d e t e o e r e < / > u e f s e u e m e n t r d e r c o m m e v n O y o n < / >',\n   '4 < / > S < / > E n f n u u n t t d e f t n e ́ e < / > T t e c o u e s d n s e f o ß e ́ < / > E t t o n c o r p s ̀ d e m y f r o ß e ́ < / > 3 < / > S e n t t v e r t u s d m n u e e < / > L e s f o r c e s m n q u e r e n t ̀ t o n c œ u r < / > N e n t m o n s t o n m e n s p e u r < / > T A r r c h e d u B o s d e V n c e n n e s < / > H e s g r n d P r n c e q u f t o n < / > P e r r e s f o t s d e S e m e < / > P u t o t q u e r e s f o t s d u f u n e t e A c h e r o n < / > < / > 2 < / > A d e u f c h e u e o t u d e < / > D o u r e g r d n t c e s T o u r s < / > A d e u P o r t e s q u t o u s e s o u r s < / > A u g m e n t e z m o n n q u e t u d e < / > A d e u t r o p v g n s S o d t s < / > V o u s q u c c u e z t o u s m e s p s < / > A d e u d e o e ́ R m e ́ e < / > P e u r e m p e r t e n s e x c e < / > C m e z v o t r e r g e n m e ́ e < / > V o u s u e z m o n C h p e u f t e s u y o n p r o c e z < / > E N < / > A P A R S C h e z R o L n E H y e p r e s e P u t s C e r t n < / >',\n   'r u < / > p r o u < / > c e < / > o n < / >',\n   '4 < / > E n f n u u n t t d e f t n e ́ e < / > T u t e c o u e s d n s e f o ß e ́ < / > E t t o n c o r p s ̀ d e m y f r o e é < / > S e n t t v e r t s d m n u e e < / > L e s f o r c e s m n q u e r e n t ̀ t o n c œ u r < / > N e n t m o n s t o n m e n s p e u r < / > T r c h e d u B P o s d e V n c e n n e s < / > H e u s g r n d P r n c e q u f t o n < / > P e r u r e s f o t s d e S e n e < / > P u t o t q u e o r e s f o t s d u f u n e t e A c h e r o n < / > A d e u f c h e u e o t u d e < / > D o u r e g r d n t c e s T o u r s < / > A d e u s P o r t e s q u t o u s e s o u r s < / > A u g m e n t e z m o n n q u e t u d e < / > A d e u t r o p v g n s S o d t s < / > V o u s q u c c u e z t o u s m e s p s < / > A e u d e o e ́ R m e ́ e < / > P e u r e z m p e r t e n s e x c e z < / > C m e v o t r e r g e n m e ́ e < / > V o u s u e z m o n C h p e s f t e s u y o n p r o c e z < / > F N < / > A P A R S C h e z R o n e L H y e p r e ́ s e P u t s C e r t n < / >',\n   'o < / > r o c < / > c < / > u o o g e < / >',\n   '4 < / > E n f n u u n t d e f f n e ́ e < / > T u t e c o u e s d n s e f o ß e ́ < / > E t t o n c o r p s ̀ d e m y f r o ß e é < / > S e n t t v e r t u d m n u e é e < / > L e s f o r c e s m n q u e r e n t ̀ t o n c œ u r < / > N e n t m o n s t o n m e o n s p e u r < / > T r r c h e d u o s d e V n c e n n e s < / > H e u s g r n d P r n c e q u f t o n < / > P e r u r e s f o t s d e S e n e < / > P u t o t q u e r e s f o t s d s f u n e t e A c h e r o n < / > S < / > A d e u f c h e u e o t u d e < / > D o u r e g r d n t c e s T o u r s < / > A d e u P o r t e s q u t o u s e s o u r s < / > A u g m e n t e z m o n n q u e t u d e < / > A d e u t r o p v g n s S o d t s < / > o u s q u c c u e z t o u s m e s p s < / > A e u d e o e ́ R m e ́ e < / > P e u r e m p e r t e n s e x c e z < / > C m e z v o t r e r g e n m e ́ e < / > V o u s u e z m o n C h p e u f t e s u y o n p r o c e < / > E N < / > 2 A P A R S C h e z R o e A H Y e p r e ́ s e P u t s C e r t n < / >',\n   '4 < / > E n f n u u n t t d e f t n e ́ e < / > T t e c o u e s d n s e f o ß e ́ < / > E t t o n c o r p s ̀ d e m y f r o ß e é < / > S e n t t v e r t u d m n u e é e < / > L e s f o r c e s m n q u e r e n t ̀ t o n c œ u r < / > N e n t m o n s t o n m e n s p e u r < / > T r r c h e d u B P o s d e V n c e n n e s < / > H e u g r n d P r n c e q u f t h o n < / > P e r r e s f o t s d e S e n e < / > P u t o t q u e o r e s f o t s d u f u n e t e A c h e r o n < / > < / > A d e u f c h e u e o t u d e < / > D o u r e g r d n t c e s T o u r s < / > A d e u P o r t e s q u t o u s e s o u r s < / > A n g m e n t e z m o n n q u e t u d e < / > A d e u t r o p v g n s S o d t s < / > V o u s q u c c u e z t o u s m e s p s < / > A d e u d e o e ́ R m e ́ e < / > P e u r e z m p e r t e n s e x c e z < / > C m e z v o t r e r g e n m e ́ e < / > V o u s u e z m o n C h p e s f t e s u y o n p r o c e z < / > F N < / > A P A R S C h e z R o n o E L A H v e p r e é s e P u t s C e r t n < / >',\n   '4 < / > E n f n u u n t t d e f t n e ́ e < / > T u t e c o u e s d n s e f o ß e ́ < / > E t t o n c o r p s ̀ d e m y f r o ß e é < / > S e n t t v e r t u d m n u e e < / > L e s f o r c e s m n q u e r e n t ̀ t o n c œ u r < / > N e n t m o n s t o n m e n s p e u r < / > T r r c h e d u o s d e V n c e n n e s < / > H e u s g r n d P r n c e q u f t o n < / > P e r u r e s f o t s d e S e n e < / > P u t o t q u e r e s f o t s d u f u n e t e A c h e r o n < / > < / > A d e u f c h e u e o t u d e < / > D o u r e g r d n t c e s T o u r s < / > A d e u P o r t e s q u t o u s e s o u r s < / > A u g m e n t e z m o n n q u e t u d e < / > A d e u t r o p v g n s S o d t s < / > V o u s q u c c u e t o u s m e s p s < / > A d e u d e o e ́ R m e ́ e < / > P e u r e m p e r t e n s e x c e < / > C m c z v o t r e r g e r m e ́ e < / > V o u s u e z m o n C h p e u f t e s u y o n p r o c e < / > E N < / > A P A R S C h e z R o E e H y E p r e é s e P u t s C e r t n < / >',\n   '4 < / > E n f n u u n t t d e f t n e ́ e < / > T u t e c o u e s d n s e f o ß e ́ < / > E t t o n c o r p s ̀ d e m y f r o ß e é < / > S e n t t v e r t u s d m n u e e < / > L e s f o r c e s m n q u e r e n t ̀ t o n c œ u r < / > N e n t m o n s t o n m e o n s p e u r < / > T r r c h e d u o s d e V n c e n n e s < / > H e u s g r n d P r n c e q u f t o n < / > P e r u r e s f o t s d e S e n e < / > P u t o t q u e r e s o t s d u f u n e t e A c h e r o n < / > 4 < / > A d e u f c h e u e o t u d e < / > D o u r e g r d n t c e s T o u r s < / > A d e u P o r t e s q u t o u s e s o u r s < / > A u g m e n t e z m o n n q u e t u d e < / > A d e u t r o p v g n s S o d t s < / > V o u s q u c c u e z t o u s m e s p s < / > A e u d e o e ́ R m e e < / > P e u r e z m p e r t e n s e x c e < / > C m e z v o t r e r g e r m e ́ e < / > V o u s u e z m o n C h p e u s f t e s u y o n p r o c e z < / > E N < / > A P A R S C h e z R o E e L A H A Y e p r e s e P u t s C e r t n < / >',\n   '< / > 4 < / > E n f n u u n t t d e f t n e ́ e < / > T u t e c o u e s d n s e f o ß e ́ < / > E t t o n c o r p s ̀ d e m y f r o ß e ́ < / > S e n t t v e r t u s d m n u e e < / > L e s f o r c e s m n q u e r e n t ̀ t o n c œ u r < / > N e n t m o n s t o n m e n s p e u r < / > T r r c h e d u o s d e V n c e n n e s < / > H e s g r n d P r n c e q u f t o n < / > P e r r e s f o t s d e S e n e < / > P u f t o t q u e u r e s f o t s d u f n e t e A c h e r o n < / > A d e u f c h e u e o t u d e < / > D o u r e g r d n t c e s T o u r s < / > A d e u P o r t e s q u t o u s e s o u r s < / > A n u g m e n t e z m o n n q u e t u d e < / > A d e u s t r o p v g n s S o d t s < / > V o u s q u c c u e z t o u s m e s p s < / > A d e u d e o e ́ R m e ́ e < / > P e u r e m p e r t e n s e x c e z < / > C m e v o t r e r g e n m e ́ e < / > V o u s u e z m o n C h p e s f t e s y o n p r o c e z < / > F N < / > A P A R S C h e z R o n e L A H A v e p r e ́ s e P u t s C e r t n < / >',\n   'r o < / > r o c < / > < / > c ? < / > < / > e < / >',\n   '4 < / > E n f n u u n t t d e f t n e ́ e < / > T u t e c o u e s d n s e f o ß e ́ < / > E t t o n c o r p s ̀ d e m y f r o ß e é < / > S e n t t v e r t u d m n u e é e < / > L e s f o r c e s m n q u e r e n t ̀ t o n c œ u r < / > N e n t m o n s t o n m e n s p e u r < / > T r r c h e d u B o s d e V n c e n n e s < / > H e u s g r n d P r n c e q u f t o n < / > P e r u r e s f o t s d e S e n e < / > P u t o t q u e r e s f o t s d u f u n e t e A c h e r o n < / > < / > A d e u f c h e u e o t u d e < / > D o u r e g r d n t c e s T o u r s < / > A d e u s P o r t e s q u t o u s e s o u r s < / > A u g m e n t e z m o n n q u e t u d e < / > A d e u t r o p v g n s S o d t s < / > V o u s q u c c u e z t o u s m e s p < / > A e u d e o e ́ R m e ́ e < / > P e u r e m p e r t e n s e x c e z < / > C m e z v o t r e r g e m e ́ e < / > V o u s u e z m o n C h p e u f t e s u y o n p r o c e z < / > E N < / > A P A R S C h e z R o p e L A H A Y E p r e s e P u t s C e r t n < / >',\n   'r o n < / > p r o < / > c < / >',\n   '< / > 4 < / > E n f n u u n t t d e f f n e ́ e < / > T u t e c o u e s d n s e f o ß e ́ < / > E t t o n c o r p s ̀ d e m y f r o ß e ́ < / > S e n t t v e r t u d m n u e é e < / > L e s f o r c e s m n q u e r e n t ̀ t o n c œ u r < / > N e n t m o n s t o n m e n s p e u r < / > T r r c h e d u B o s d e V n c e n n e s < / > H e u s g r n d P r n c e q u f t o n < / > P e r r e s o t s d e S e n e < / > P u t o t q u e u r e s f o t s d u f u n e t e A c h e r o n < / > < / > A d e u f c h e u e o t u d e < / > D o u r e g r d n t c e s T o n u r s < / > A d e u P o r t e s q u t o u s e s o u r s < / > A u g m e n t e m o n n q u e t u d e < / > A d e u t r o p v g n s S o d t s < / > V o u s q u c c u e z t o u s m e s p t < / > A e u d e o e ́ R m e ́ e < / > P e u r e m p e r t e n s e x c e < / > C m e v o t r e r g e m e ́ e < / > V o u s u e z m o n C h p e s f t e s u y o n p r o c e z < / > E N < / > A P A R S C h e z R o e L A H Y E p r e s e P u t s C e r t n < / >',\n   '< / >',\n   '< / > 4 < / > E n f n u u n t t d e f t n e ́ e < / > T t e c o u e s d n s e f o ß e ́ < / > E t t o n c o r p s ̀ d e m y f r o ß e ́ < / > S e n t t v e r t u d m n u e é e < / > L e s f o r c e s m n q u e r e n t ̀ t o n c œ u r < / > N e n t m o n s t o n m e n s p e u r < / > T r r c h e d u B P o s d e V n c e n n e s < / > H e s g r n d P r n c e q u f t o n < / > P e r u r e s f o t s d e S e n e < / > P u t o t q u e u r e s f o t s d u f u n e t e A c h e r o n < / > < / > S < / > A d e u f c h e u e o t u d e < / > D o u r e g r d n t c e s T o u r s < / > A d e u s P o r t e s q u t o u s e s o u r s < / > A u g m e n t e m o n n q u e t u d e < / > A d e u s t r o p v g n s S o d t s < / > V o u s q u c c u e t o u s m e s p t < / > A d e u d e o e ́ R m e ́ e < / > P e u r e m p e r t e n s e x c e z < / > C m e z v o t r e r g e m e ́ e < / > V o u s u e z m o n C h p e u s f t e s y o n p r o c e z < / > E N < / > 2 A P A R S C h e z R o n e H Y E e p r e ̂ s e P u t s C e r t n < / > < / p > < / o d y > < / t e x t > < / T E >'])]"
     },
     "execution_count": 5,
     "metadata": {},
     "output_type": "execute_result"
    }
   ],
   "source": [
    "lst = []\n",
    "for i, texte in enumerate(collection_textes):\n",
    "    if not texte.ecarts:\n",
    "        # print(\"Pas d'écarts\")\n",
    "        # print(i)\n",
    "        continue\n",
    "\n",
    "    lst.append((i, texte.ecarts, texte.ecart, texte.ecart_type, texte.tendance, texte.path, texte.pages))\n",
    "\n",
    "onepage = [e for e in lst if len(e[1]) == 1]\n",
    "lst = [e for e in lst if len(e[1]) > 1]\n",
    "\n",
    "lst = sorted(lst, key=lambda x: x[2], reverse=True)\n",
    "\n",
    "lst[:10]"
   ],
   "metadata": {
    "collapsed": false,
    "ExecuteTime": {
     "end_time": "2023-05-30T09:17:59.144473682Z",
     "start_time": "2023-05-30T09:17:59.111410941Z"
    }
   }
  },
  {
   "cell_type": "code",
   "execution_count": 6,
   "outputs": [
    {
     "name": "stdout",
     "output_type": "stream",
     "text": [
      "1.000 1.000 0.999 0.998 1.000 1.000 1.000 \n",
      "      0.000 -0.001 -0.001 0.002 0.000 0.000 \n",
      "\n",
      "1.000 0.992 0.992 0.997 0.996 1.000 \n",
      "      -0.008 -0.000 0.005 -0.000 0.004 \n",
      "\n",
      "0.984 0.990 0.992 0.997 0.994 0.992 0.994 \n",
      "      0.006 0.002 0.005 -0.004 -0.002 0.002 \n",
      "\n",
      "1.000 0.998 0.991 0.997 0.996 0.995 1.000 \n",
      "      -0.002 -0.007 0.006 -0.001 -0.002 0.005 \n",
      "\n",
      "1.000 0.987 0.996 0.993 0.999 0.996 0.996 \n",
      "      -0.013 0.008 -0.003 0.006 -0.003 0.000 \n",
      "\n",
      "1.000 1.000 0.998 0.991 0.997 0.995 0.999 0.999 1.000 0.996 0.997 0.999 0.999 1.000 0.996 0.999 0.998 0.998 0.999 \n",
      "      0.000 -0.002 -0.007 0.005 -0.001 0.003 0.001 0.000 -0.004 0.001 0.002 -0.000 0.001 -0.004 0.002 -0.001 0.000 0.001 \n",
      "\n",
      "1.000 0.986 0.995 0.987 0.990 0.989 0.990 \n",
      "      -0.014 0.009 -0.009 0.004 -0.001 0.000 \n",
      "\n",
      "1.000 1.000 1.000 1.000 1.000 1.000 0.998 1.000 1.000 1.000 \n",
      "      0.000 0.000 0.000 0.000 0.000 -0.002 0.002 0.000 0.000 \n",
      "\n",
      "0.995 0.999 0.996 0.997 0.996 0.994 0.999 \n",
      "      0.003 -0.003 0.001 -0.001 -0.002 0.005 \n",
      "\n",
      "1.000 0.992 0.977 0.989 0.990 0.987 0.998 \n",
      "      -0.008 -0.015 0.011 0.001 -0.003 0.010 \n",
      "\n"
     ]
    }
   ],
   "source": [
    "with open(\"lexicalitestest.txt\", mode=\"w\", encoding=\"utf-8\") as f:\n",
    "    for texte in collection_textes[:10]:\n",
    "        prev = None\n",
    "        # lst = []\n",
    "        f.write(f\"{texte.texte}\\n\")\n",
    "        for l in texte.lexicalites:\n",
    "            print(f\"{l:.3f}\", end=\" \")\n",
    "            f.write(f\"{l:.3f} \")\n",
    "        f.write(\"\\n\")\n",
    "        print()\n",
    "        for l in texte.lexicalites:\n",
    "            if prev is not None:\n",
    "                diff = l - prev\n",
    "                # lst.append(diff)\n",
    "                f.write(f\"{diff:.3f} \")\n",
    "                print(f\"{diff:.3f}\", end=\" \")\n",
    "            else:\n",
    "                f.write(\" \"*6)\n",
    "                print(\" \"*6, end=\"\")\n",
    "            prev = l\n",
    "        f.write(\"\\n\")\n",
    "        print(\"\\n\")\n",
    "\n",
    "        # print(lst)\n",
    "        # print()\n",
    "\n"
   ],
   "metadata": {
    "collapsed": false,
    "ExecuteTime": {
     "end_time": "2023-05-30T09:17:59.148435924Z",
     "start_time": "2023-05-30T09:17:59.135675766Z"
    }
   }
  },
  {
   "cell_type": "code",
   "execution_count": 7,
   "outputs": [],
   "source": [
    "import json\n",
    "\n",
    "lstdesdicts = []\n",
    "for texte in collection_textes:\n",
    "    temp = {}\n",
    "    temp[\"texte\"] = texte.texte\n",
    "    temp[\"lexicalites\"] = [round(l, 3) for l in texte.lexicalites]\n",
    "    temp[\"lexicalite\"] = round(texte.lexicalite, 3)\n",
    "    lst = []\n",
    "    prev = None\n",
    "    for l in texte.lexicalites:\n",
    "        if prev is not None:\n",
    "            diff = l - prev\n",
    "            lst.append(round(diff, 3))\n",
    "        prev = l\n",
    "    temp[\"diffs\"] = lst\n",
    "    lstdesdicts.append(temp)\n",
    "\n",
    "with open(\"lexicalitestest.json\", mode=\"w\", encoding=\"utf-8\") as f:\n",
    "    json.dump(lstdesdicts, f, indent=4, ensure_ascii=False)\n"
   ],
   "metadata": {
    "collapsed": false,
    "ExecuteTime": {
     "end_time": "2023-05-30T09:18:08.425044494Z",
     "start_time": "2023-05-30T09:17:59.149618173Z"
    }
   }
  },
  {
   "cell_type": "code",
   "execution_count": 8,
   "outputs": [],
   "source": [
    "lstdesdicts\n"
   ],
   "metadata": {
    "collapsed": false,
    "ExecuteTime": {
     "end_time": "2023-05-30T09:18:53.165458736Z",
     "start_time": "2023-05-30T09:18:08.476104730Z"
    }
   }
  },
  {
   "cell_type": "code",
   "execution_count": 8,
   "outputs": [],
   "source": [],
   "metadata": {
    "collapsed": false
   }
  }
 ],
 "metadata": {
  "kernelspec": {
   "display_name": "Python 3",
   "language": "python",
   "name": "python3"
  },
  "language_info": {
   "codemirror_mode": {
    "name": "ipython",
    "version": 2
   },
   "file_extension": ".py",
   "mimetype": "text/x-python",
   "name": "python",
   "nbconvert_exporter": "python",
   "pygments_lexer": "ipython2",
   "version": "2.7.6"
  }
 },
 "nbformat": 4,
 "nbformat_minor": 0
}
