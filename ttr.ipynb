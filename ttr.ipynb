{
 "cells": [
  {
   "cell_type": "code",
   "execution_count": 1,
   "metadata": {
    "collapsed": false
   },
   "outputs": [],
   "source": [
    "from glob import glob\n",
    "import json\n",
    "from numpy import mean, std, amax, amin\n",
    "import matplotlib.pyplot as plt\n",
    "from tqdm.auto import tqdm\n",
    "from pprint import pprint\n",
    "from random import sample\n",
    "\n",
    "\n",
    "import texte"
   ]
  },
  {
   "cell_type": "code",
   "execution_count": 2,
   "outputs": [
    {
     "name": "stdout",
     "output_type": "stream",
     "text": [
      "3065\n"
     ]
    }
   ],
   "source": [
    "with open(\"LGERM.json\", encoding=\"utf-8\") as f:\n",
    "    LGERM = json.load(f)\n",
    "mots_LGERM = set(LGERM)\n",
    "\n",
    "path = \"Corpus/Mazarinades/*/*.xml\"\n",
    "\n",
    "files = glob(path)\n",
    "\n",
    "print(len(files))"
   ],
   "metadata": {
    "collapsed": false
   }
  },
  {
   "cell_type": "markdown",
   "source": [
    "Distribution mots outils\n",
    "\n",
    "OCR performance prediction using cross-OCR\n",
    "alignment\n",
    "Ahmed BEN SALAH*, Jean philippe MOREUXt\n",
    ", Nicolas RAGOT+ and Thierry PAQUET§\n",
    "\n",
    "https://dl.acm.org/doi/pdf/10.1145/2595188.2595221\n"
   ],
   "metadata": {
    "collapsed": false
   }
  },
  {
   "cell_type": "code",
   "execution_count": 5,
   "metadata": {
    "collapsed": false
   },
   "outputs": [
    {
     "data": {
      "text/plain": "  0%|          | 0/3065 [00:00<?, ?it/s]",
      "application/vnd.jupyter.widget-view+json": {
       "version_major": 2,
       "version_minor": 0,
       "model_id": "445e15bf554847fdbc8cac2e7e3c467e"
      }
     },
     "metadata": {},
     "output_type": "display_data"
    },
    {
     "name": "stdout",
     "output_type": "stream",
     "text": [
      "Empty file: self.path = 'Corpus/Mazarinades/1201-1300/Moreau1240_GALL.xml'\n"
     ]
    },
    {
     "name": "stderr",
     "output_type": "stream",
     "text": [
      "/home/marceau/.local/lib/python3.8/site-packages/numpy/core/fromnumeric.py:3464: RuntimeWarning: Mean of empty slice.\n",
      "  return _methods._mean(a, axis=axis, dtype=dtype,\n",
      "/home/marceau/.local/lib/python3.8/site-packages/numpy/core/_methods.py:192: RuntimeWarning: invalid value encountered in scalar divide\n",
      "  ret = ret.dtype.type(ret / rcount)\n"
     ]
    },
    {
     "ename": "ZeroDivisionError",
     "evalue": "division by zero",
     "output_type": "error",
     "traceback": [
      "\u001B[0;31m---------------------------------------------------------------------------\u001B[0m",
      "\u001B[0;31mZeroDivisionError\u001B[0m                         Traceback (most recent call last)",
      "Cell \u001B[0;32mIn[5], line 8\u001B[0m\n\u001B[1;32m      3\u001B[0m \u001B[38;5;28;01mif\u001B[39;00m sample_mode:\n\u001B[1;32m      4\u001B[0m     files \u001B[38;5;241m=\u001B[39m sample(files, \u001B[38;5;241m3000\u001B[39m)\n\u001B[0;32m----> 8\u001B[0m collection_textes \u001B[38;5;241m=\u001B[39m [texte\u001B[38;5;241m.\u001B[39mTexte(file) \u001B[38;5;28;01mfor\u001B[39;00m file \u001B[38;5;129;01min\u001B[39;00m tqdm(files)]\n",
      "Cell \u001B[0;32mIn[5], line 8\u001B[0m, in \u001B[0;36m<listcomp>\u001B[0;34m(.0)\u001B[0m\n\u001B[1;32m      3\u001B[0m \u001B[38;5;28;01mif\u001B[39;00m sample_mode:\n\u001B[1;32m      4\u001B[0m     files \u001B[38;5;241m=\u001B[39m sample(files, \u001B[38;5;241m3000\u001B[39m)\n\u001B[0;32m----> 8\u001B[0m collection_textes \u001B[38;5;241m=\u001B[39m [\u001B[43mtexte\u001B[49m\u001B[38;5;241;43m.\u001B[39;49m\u001B[43mTexte\u001B[49m\u001B[43m(\u001B[49m\u001B[43mfile\u001B[49m\u001B[43m)\u001B[49m \u001B[38;5;28;01mfor\u001B[39;00m file \u001B[38;5;129;01min\u001B[39;00m tqdm(files)]\n",
      "File \u001B[0;32m~/PycharmProjects/memoire/texte.py:54\u001B[0m, in \u001B[0;36mTexte.__init__\u001B[0;34m(self, path)\u001B[0m\n\u001B[1;32m     50\u001B[0m \u001B[38;5;28mself\u001B[39m\u001B[38;5;241m.\u001B[39mtxt \u001B[38;5;241m=\u001B[39m f\u001B[38;5;241m.\u001B[39mread()\n\u001B[1;32m     52\u001B[0m \u001B[38;5;28mself\u001B[39m\u001B[38;5;241m.\u001B[39mheader \u001B[38;5;241m=\u001B[39m \u001B[38;5;28mself\u001B[39m\u001B[38;5;241m.\u001B[39mprocess_header()\n\u001B[0;32m---> 54\u001B[0m \u001B[38;5;28;43mself\u001B[39;49m\u001B[38;5;241;43m.\u001B[39;49m\u001B[43mprocess_body\u001B[49m\u001B[43m(\u001B[49m\u001B[43m)\u001B[49m\n",
      "File \u001B[0;32m~/PycharmProjects/memoire/texte.py:145\u001B[0m, in \u001B[0;36mTexte.process_body\u001B[0;34m(self)\u001B[0m\n\u001B[1;32m    143\u001B[0m \u001B[38;5;28mself\u001B[39m\u001B[38;5;241m.\u001B[39mhapaxes \u001B[38;5;241m=\u001B[39m [\u001B[38;5;28mself\u001B[39m\u001B[38;5;241m.\u001B[39mmesurer_hapax(page) \u001B[38;5;28;01mfor\u001B[39;00m page \u001B[38;5;129;01min\u001B[39;00m pages]\n\u001B[1;32m    144\u001B[0m \u001B[38;5;28mself\u001B[39m\u001B[38;5;241m.\u001B[39mhapax \u001B[38;5;241m=\u001B[39m \u001B[38;5;28msum\u001B[39m(\u001B[38;5;28mself\u001B[39m\u001B[38;5;241m.\u001B[39mhapaxes)\n\u001B[0;32m--> 145\u001B[0m \u001B[38;5;28mself\u001B[39m\u001B[38;5;241m.\u001B[39mhapax_ratio \u001B[38;5;241m=\u001B[39m \u001B[38;5;28;43mself\u001B[39;49m\u001B[38;5;241;43m.\u001B[39;49m\u001B[43mhapax\u001B[49m\u001B[43m \u001B[49m\u001B[38;5;241;43m/\u001B[39;49m\u001B[43m \u001B[49m\u001B[38;5;28;43mself\u001B[39;49m\u001B[38;5;241;43m.\u001B[39;49m\u001B[43mn_words\u001B[49m\n\u001B[1;32m    147\u001B[0m \u001B[38;5;28mself\u001B[39m\u001B[38;5;241m.\u001B[39mpages \u001B[38;5;241m=\u001B[39m pages\n\u001B[1;32m    148\u001B[0m \u001B[38;5;28mself\u001B[39m\u001B[38;5;241m.\u001B[39mplain \u001B[38;5;241m=\u001B[39m plain\n",
      "\u001B[0;31mZeroDivisionError\u001B[0m: division by zero"
     ]
    }
   ],
   "source": [
    "sample_mode = False\n",
    "\n",
    "if sample_mode:\n",
    "    files = sample(files, 3000)\n",
    "\n",
    "\n",
    "\n",
    "collection_textes = [texte.Texte(file) for file in tqdm(files)]\n",
    "\n"
   ]
  },
  {
   "cell_type": "code",
   "execution_count": 4,
   "outputs": [
    {
     "ename": "NameError",
     "evalue": "name 'collection_textes' is not defined",
     "output_type": "error",
     "traceback": [
      "\u001B[0;31m---------------------------------------------------------------------------\u001B[0m",
      "\u001B[0;31mNameError\u001B[0m                                 Traceback (most recent call last)",
      "Cell \u001B[0;32mIn[4], line 1\u001B[0m\n\u001B[0;32m----> 1\u001B[0m \u001B[43mcollection_textes\u001B[49m[\u001B[38;5;241m0\u001B[39m]\u001B[38;5;241m.\u001B[39mlignes_non_lexicalisees\n",
      "\u001B[0;31mNameError\u001B[0m: name 'collection_textes' is not defined"
     ]
    }
   ],
   "source": [
    "collection_textes[0].lignes_non_lexicalisees"
   ],
   "metadata": {
    "collapsed": false
   }
  },
  {
   "cell_type": "code",
   "execution_count": null,
   "metadata": {
    "collapsed": false
   },
   "outputs": [],
   "source": [
    "tup = [(val[\"hapax_ratio\"], val[\"ttr\"]) for val in dict_stats.values()]\n",
    "\n",
    "plt.figure(figsize=(10, 10))\n",
    "plt.title(\"TTR vs hapax ratio\")\n",
    "plt.xlabel(\"hapax ratio\")\n",
    "plt.ylabel(\"TTR\")\n",
    "\n",
    "plt.scatter(*zip(*tup))\n",
    "\n",
    "plt.show()"
   ]
  },
  {
   "cell_type": "code",
   "execution_count": null,
   "metadata": {
    "collapsed": false
   },
   "outputs": [],
   "source": [
    "tup = [(val[\"chars\"], val[\"ttr\"]) for val in dict_stats.values()]\n",
    "\n",
    "plt.figure(figsize=(10, 10))\n",
    "plt.title(\"TTR vs chars\")\n",
    "plt.xlabel(\"chars\")\n",
    "plt.ylabel(\"TTR\")\n",
    "\n",
    "plt.scatter(*zip(*tup))\n"
   ]
  },
  {
   "cell_type": "code",
   "execution_count": null,
   "metadata": {
    "collapsed": false
   },
   "outputs": [],
   "source": [
    "x = [v[\"chars\"] for v in dict_stats.values()]\n",
    "\n",
    "plt.figure(figsize=(10, 10))\n",
    "plt.title(\"chars\")\n",
    "plt.xlabel(\"chars\")\n",
    "plt.ylabel(\"count\")\n",
    "plt.xscale('linear')\n",
    "plt.yscale('symlog', linscale=1)\n",
    "plt.hist(x, bins=75)\n",
    "\n",
    "plt.show()"
   ]
  },
  {
   "cell_type": "code",
   "execution_count": null,
   "metadata": {
    "collapsed": false
   },
   "outputs": [],
   "source": [
    "tup = [(val[\"tok_voc_ratio\"], val[\"ttr\"]) for val in dict_stats.values()]\n",
    "\n",
    "plt.figure(figsize=(10, 10))\n",
    "plt.title(\"TTR vs tok_voc_ratio\")\n",
    "plt.xlabel(\"tok_voc_ratio\")\n",
    "plt.ylabel(\"TTR\")\n",
    "\n",
    "plt.scatter(*zip(*tup))\n",
    "\n",
    "plt.show()"
   ]
  },
  {
   "cell_type": "code",
   "execution_count": null,
   "outputs": [],
   "source": [
    "x = [val[\"header\"][\"change\"][\"@status\"] if isinstance(val[\"header\"][\"change\"], dict) else val[\"header\"][\"change\"][0][\"@status\"] for val in dict_stats.values()]\n",
    "len(x)/ len([e for e in x if e == \"corrected\"])"
   ],
   "metadata": {
    "collapsed": false
   }
  },
  {
   "cell_type": "code",
   "execution_count": null,
   "outputs": [],
   "source": [
    "for txt, val in dict_stats.items():\n",
    "    pprint(val[\"header\"])\n",
    "    break"
   ],
   "metadata": {
    "collapsed": false
   }
  },
  {
   "cell_type": "code",
   "execution_count": null,
   "outputs": [],
   "source": [
    "val[\"tok_voc_ratio\"]"
   ],
   "metadata": {
    "collapsed": false
   }
  },
  {
   "cell_type": "code",
   "execution_count": null,
   "outputs": [],
   "source": [
    "def stats(key):\n",
    "    stats = {}\n",
    "    for txt, val in dict_stats.items():\n",
    "        type_ = val[\"header\"][\"form\"] if isinstance(val[\"header\"][\"form\"], str) else tuple(val[\"header\"][\"form\"])\n",
    "\n",
    "        if type_ not in stats:\n",
    "            for e in stats.keys():\n",
    "                if set(e) == set(type_):\n",
    "                    type_ = e\n",
    "                    break\n",
    "            else:\n",
    "                stats[type_] = []\n",
    "\n",
    "        stats[type_].append(mean(val[key]))\n",
    "\n",
    "    for k, v in stats.items():\n",
    "        print(f\"{k}: {mean(v):.3f}\")\n",
    "\n",
    "    plot = [(\" \".join(k), mean(v)) for k, v in stats.items()]\n",
    "    plot = sorted(plot, key=lambda x: x[1], reverse=True)\n",
    "\n",
    "    plt.figure(figsize=(10, 10))\n",
    "    plt.title(f\"mean {key}\")\n",
    "    plt.xlabel(\"type\")\n",
    "    plt.ylabel(f\"mean {key}\")\n",
    "\n",
    "    plt.bar(*zip(*plot))\n",
    "\n",
    "    plt.show()\n",
    "\n",
    "stats(\"tok_voc_ratio\")"
   ],
   "metadata": {
    "collapsed": false
   }
  },
  {
   "cell_type": "code",
   "execution_count": null,
   "outputs": [],
   "source": [
    "stats(\"ttr\")\n"
   ],
   "metadata": {
    "collapsed": false
   }
  },
  {
   "cell_type": "code",
   "execution_count": null,
   "outputs": [],
   "source": [
    "stats(\"hapax_ratio\")"
   ],
   "metadata": {
    "collapsed": false
   }
  },
  {
   "cell_type": "code",
   "execution_count": null,
   "outputs": [],
   "source": [
    "def stats2(header_prop, stats_prop):\n",
    "    stats = {}\n",
    "    for txt, val in dict_stats.items():\n",
    "        if header_prop not in val[\"header\"]:\n",
    "            continue\n",
    "\n",
    "        type_ = val[\"header\"][header_prop] if isinstance(val[\"header\"][\"form\"], str) else tuple(val[\"header\"][\"form\"])\n",
    "\n",
    "\n",
    "        if isinstance(type_, bool):\n",
    "                type_ = str(type_)\n",
    "\n",
    "\n",
    "        if type_ not in stats:\n",
    "            for e in stats.keys():\n",
    "                if set(e) == set(type_):\n",
    "                    type_ = e\n",
    "                    break\n",
    "            else:\n",
    "                stats[type_] = []\n",
    "\n",
    "        stats[type_].append(mean(val[stats_prop]))\n",
    "\n",
    "    for k, v in stats.items():\n",
    "        print(f\"{k}: {mean(v):.3f}\")\n",
    "\n",
    "    plot = [(\" \".join(k), mean(v)) for k, v in stats.items()]\n",
    "    plot = sorted(plot, key=lambda x: x[1], reverse=True)\n",
    "\n",
    "    plt.figure(figsize=(10, 10))\n",
    "    plt.title(f\"mean {stats_prop}\")\n",
    "    plt.xlabel(\"type\")\n",
    "    plt.ylabel(f\"mean {stats_prop}\")\n",
    "\n",
    "    plt.bar(*zip(*plot))\n",
    "\n",
    "    plt.show()\n",
    "\n",
    "stats2(\"creation\", \"hapax_ratio\")"
   ],
   "metadata": {
    "collapsed": false
   }
  },
  {
   "cell_type": "code",
   "execution_count": null,
   "outputs": [],
   "source": [
    "stats2(\"creation\", \"tok_voc_ratio\")"
   ],
   "metadata": {
    "collapsed": false
   }
  },
  {
   "cell_type": "code",
   "execution_count": null,
   "outputs": [],
   "source": [
    "stats2(\"table_of_content\", \"chars\")\n",
    "stats2(\"table_of_content\", \"tok_voc_ratio\")"
   ],
   "metadata": {
    "collapsed": false
   }
  },
  {
   "cell_type": "code",
   "execution_count": null,
   "outputs": [],
   "source": [
    "for txt, val in dict_stats.items():\n",
    "    pprint(val)\n",
    "    break"
   ],
   "metadata": {
    "collapsed": false
   }
  }
 ],
 "metadata": {
  "kernelspec": {
   "display_name": "Python 3",
   "language": "python",
   "name": "python3"
  },
  "language_info": {
   "codemirror_mode": {
    "name": "ipython",
    "version": 3
   },
   "file_extension": ".py",
   "mimetype": "text/x-python",
   "name": "python",
   "nbconvert_exporter": "python",
   "pygments_lexer": "ipython3",
   "version": "3.11.1"
  },
  "vscode": {
   "interpreter": {
    "hash": "6632def3287120c22cbb41a71e6cee78c9132bba259ed42ac34bf9033c8ba7f3"
   }
  }
 },
 "nbformat": 4,
 "nbformat_minor": 0
}
