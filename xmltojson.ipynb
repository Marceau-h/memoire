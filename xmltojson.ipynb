{
 "cells": [
  {
   "cell_type": "code",
   "execution_count": 7,
   "metadata": {
    "collapsed": true
   },
   "outputs": [],
   "source": [
    "from glob import glob\n",
    "import json\n",
    "from pathlib import Path\n",
    "\n",
    "import texte\n",
    "\n",
    "from tqdm.auto import tqdm"
   ]
  },
  {
   "cell_type": "code",
   "execution_count": 8,
   "outputs": [
    {
     "name": "stdout",
     "output_type": "stream",
     "text": [
      "3065\n"
     ]
    }
   ],
   "source": [
    "path = \"Corpus/Mazarinades/*/*.xml\"\n",
    "\n",
    "files = glob(path)\n",
    "\n",
    "print(len(files))"
   ],
   "metadata": {
    "collapsed": false
   }
  },
  {
   "cell_type": "code",
   "execution_count": 9,
   "outputs": [
    {
     "name": "stderr",
     "output_type": "stream",
     "text": [
      " 11%|█         | 326/3065 [00:02<00:19, 142.85it/s]"
     ]
    },
    {
     "name": "stdout",
     "output_type": "stream",
     "text": [
      "Empty file: self.path = 'Corpus/Mazarinades/1201-1300/Moreau1240_GALL.xml'\n"
     ]
    },
    {
     "name": "stderr",
     "output_type": "stream",
     "text": [
      "100%|██████████| 3065/3065 [00:22<00:00, 135.15it/s]\n"
     ]
    }
   ],
   "source": [
    "collection_textes = [e for e in texte.corpora(files) if e.plain]\n"
   ],
   "metadata": {
    "collapsed": false
   }
  },
  {
   "cell_type": "code",
   "execution_count": 10,
   "outputs": [],
   "source": [
    "\n",
    "lst = [[files[i], e.header, e.texte] for i, e in enumerate(collection_textes)]\n",
    "\n"
   ],
   "metadata": {
    "collapsed": false
   }
  },
  {
   "cell_type": "code",
   "execution_count": 12,
   "outputs": [
    {
     "data": {
      "text/plain": "  0%|          | 0/3064 [00:00<?, ?it/s]",
      "application/vnd.jupyter.widget-view+json": {
       "version_major": 2,
       "version_minor": 0,
       "model_id": "e73ca21fe0154107a8af3e76d0219bb0"
      }
     },
     "metadata": {},
     "output_type": "display_data"
    }
   ],
   "source": [
    "main_folder = Path(\"JSONS\")\n",
    "for e in tqdm(lst):\n",
    "\n",
    "    file = e[0]\n",
    "    file = Path(file).parts\n",
    "\n",
    "    newpath = main_folder.joinpath(file[2])\n",
    "    newpath.mkdir(parents=True, exist_ok=True)\n",
    "\n",
    "    file = Path(file[-1]).with_suffix(\".json\")\n",
    "    newpath = newpath.joinpath(file)\n",
    "\n",
    "    tempdict = {\n",
    "        \"entête\" : e[1],\n",
    "        \"texte\" : e[2]\n",
    "    }\n",
    "    with open(newpath, mode=\"w\", encoding=\"utf-8\") as f:\n",
    "        json.dump(tempdict, f, indent=4, ensure_ascii=False)\n"
   ],
   "metadata": {
    "collapsed": false
   }
  }
 ],
 "metadata": {
  "kernelspec": {
   "display_name": "Python 3",
   "language": "python",
   "name": "python3"
  },
  "language_info": {
   "codemirror_mode": {
    "name": "ipython",
    "version": 2
   },
   "file_extension": ".py",
   "mimetype": "text/x-python",
   "name": "python",
   "nbconvert_exporter": "python",
   "pygments_lexer": "ipython2",
   "version": "2.7.6"
  }
 },
 "nbformat": 4,
 "nbformat_minor": 0
}
