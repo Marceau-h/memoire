{
 "cells": [
  {
   "cell_type": "code",
   "execution_count": 4,
   "metadata": {
    "collapsed": true,
    "ExecuteTime": {
     "end_time": "2023-06-16T10:11:46.277783961Z",
     "start_time": "2023-06-16T10:11:46.151608791Z"
    }
   },
   "outputs": [],
   "source": [
    "import json\n",
    "import pickle\n",
    "import numpy as np\n",
    "import pandas as pd\n",
    "from matplotlib import pyplot as plt\n",
    "from sklearn.cluster import KMeans, DBSCAN, AgglomerativeClustering, AffinityPropagation, SpectralClustering\n",
    "from sklearn.decomposition import TruncatedSVD\n",
    "\n",
    "from tqdm.auto import tqdm\n",
    "from pathlib import Path\n"
   ]
  },
  {
   "cell_type": "code",
   "execution_count": 5,
   "outputs": [],
   "source": [
    "N_COMPONENTS = 2\n",
    "N_CLUSTERS = 10"
   ],
   "metadata": {
    "collapsed": false,
    "ExecuteTime": {
     "end_time": "2023-06-16T10:11:46.278155841Z",
     "start_time": "2023-06-16T10:11:46.191267863Z"
    }
   }
  },
  {
   "cell_type": "code",
   "execution_count": 6,
   "outputs": [],
   "source": [
    "def reduction_dim(dict_lex, n_components=4):\n",
    "    dict_lex_reduced = {}\n",
    "    for k, v in dict_lex.items():\n",
    "        svd = TruncatedSVD(n_components=n_components)\n",
    "        svd.fit(np.array([e[1] for e in v]))\n",
    "        dict_lex_reduced[k] = [(e[0], svd.transform([e[1]])[0]) for e in v]\n",
    "    return dict_lex_reduced\n"
   ],
   "metadata": {
    "collapsed": false,
    "ExecuteTime": {
     "end_time": "2023-06-16T10:11:46.278255214Z",
     "start_time": "2023-06-16T10:11:46.191649201Z"
    }
   }
  },
  {
   "cell_type": "code",
   "execution_count": 7,
   "outputs": [],
   "source": [
    "path = Path('explore_clusters')\n",
    "path.mkdir(exist_ok=True)\n"
   ],
   "metadata": {
    "collapsed": false,
    "ExecuteTime": {
     "end_time": "2023-06-16T10:11:46.278371463Z",
     "start_time": "2023-06-16T10:11:46.191856627Z"
    }
   }
  },
  {
   "cell_type": "code",
   "execution_count": 8,
   "outputs": [],
   "source": [
    "with open('collection_textes.pickle', 'rb') as f:\n",
    "    collection_textes = pickle.load(f)\n"
   ],
   "metadata": {
    "collapsed": false,
    "ExecuteTime": {
     "end_time": "2023-06-16T10:11:47.731277099Z",
     "start_time": "2023-06-16T10:11:46.192062778Z"
    }
   }
  },
  {
   "cell_type": "code",
   "execution_count": 9,
   "outputs": [],
   "source": [
    "alllex = [e.lexicalites for e in collection_textes]\n",
    "\n",
    "allecarts = [e.ecarts for e in collection_textes]"
   ],
   "metadata": {
    "collapsed": false,
    "ExecuteTime": {
     "end_time": "2023-06-16T10:11:47.785870656Z",
     "start_time": "2023-06-16T10:11:47.736549624Z"
    }
   }
  },
  {
   "cell_type": "code",
   "execution_count": 10,
   "outputs": [],
   "source": [
    "dict_lex = {taile: [] for taile in range(1000)}\n",
    "for i, lex in enumerate(alllex):\n",
    "    dict_lex[len(lex)].append((i, lex))\n",
    "\n",
    "dict_lex = {k: v for k, v in dict_lex.items() if v}\n",
    "\n",
    "dict_ecarts = {taile: [] for taile in range(1000)}\n",
    "for i, ecart in enumerate(allecarts):\n",
    "    dict_ecarts[len(ecart)].append((i, ecart))\n",
    "\n",
    "dict_ecarts = {k: v for k, v in dict_ecarts.items() if v}"
   ],
   "metadata": {
    "collapsed": false,
    "ExecuteTime": {
     "end_time": "2023-06-16T10:11:47.786638638Z",
     "start_time": "2023-06-16T10:11:47.776835068Z"
    }
   }
  },
  {
   "cell_type": "code",
   "execution_count": 11,
   "outputs": [],
   "source": [
    "dict_lex_sup_n_sub = {k: v for k, v in dict_lex.items() if N_COMPONENTS < k < 200}\n",
    "dict_ecarts_sup_n_sub = {k: v for k, v in dict_ecarts.items() if N_COMPONENTS < k < 200}"
   ],
   "metadata": {
    "collapsed": false,
    "ExecuteTime": {
     "end_time": "2023-06-16T10:11:47.786975317Z",
     "start_time": "2023-06-16T10:11:47.777019137Z"
    }
   }
  },
  {
   "cell_type": "code",
   "execution_count": 12,
   "outputs": [
    {
     "name": "stderr",
     "output_type": "stream",
     "text": [
      "/home/marceau/PycharmProjects/memoire/venv/lib64/python3.11/site-packages/sklearn/decomposition/_truncated_svd.py:268: RuntimeWarning: invalid value encountered in divide\n",
      "  self.explained_variance_ratio_ = exp_var / full_var\n",
      "/home/marceau/PycharmProjects/memoire/venv/lib64/python3.11/site-packages/sklearn/decomposition/_truncated_svd.py:268: RuntimeWarning: invalid value encountered in divide\n",
      "  self.explained_variance_ratio_ = exp_var / full_var\n",
      "/home/marceau/PycharmProjects/memoire/venv/lib64/python3.11/site-packages/sklearn/decomposition/_truncated_svd.py:268: RuntimeWarning: invalid value encountered in divide\n",
      "  self.explained_variance_ratio_ = exp_var / full_var\n",
      "/home/marceau/PycharmProjects/memoire/venv/lib64/python3.11/site-packages/sklearn/decomposition/_truncated_svd.py:268: RuntimeWarning: invalid value encountered in divide\n",
      "  self.explained_variance_ratio_ = exp_var / full_var\n",
      "/home/marceau/PycharmProjects/memoire/venv/lib64/python3.11/site-packages/sklearn/decomposition/_truncated_svd.py:268: RuntimeWarning: invalid value encountered in divide\n",
      "  self.explained_variance_ratio_ = exp_var / full_var\n",
      "/home/marceau/PycharmProjects/memoire/venv/lib64/python3.11/site-packages/sklearn/decomposition/_truncated_svd.py:268: RuntimeWarning: invalid value encountered in divide\n",
      "  self.explained_variance_ratio_ = exp_var / full_var\n",
      "/home/marceau/PycharmProjects/memoire/venv/lib64/python3.11/site-packages/sklearn/decomposition/_truncated_svd.py:268: RuntimeWarning: invalid value encountered in divide\n",
      "  self.explained_variance_ratio_ = exp_var / full_var\n",
      "/home/marceau/PycharmProjects/memoire/venv/lib64/python3.11/site-packages/sklearn/decomposition/_truncated_svd.py:268: RuntimeWarning: invalid value encountered in divide\n",
      "  self.explained_variance_ratio_ = exp_var / full_var\n",
      "/home/marceau/PycharmProjects/memoire/venv/lib64/python3.11/site-packages/sklearn/decomposition/_truncated_svd.py:268: RuntimeWarning: invalid value encountered in divide\n",
      "  self.explained_variance_ratio_ = exp_var / full_var\n",
      "/home/marceau/PycharmProjects/memoire/venv/lib64/python3.11/site-packages/sklearn/decomposition/_truncated_svd.py:268: RuntimeWarning: invalid value encountered in divide\n",
      "  self.explained_variance_ratio_ = exp_var / full_var\n",
      "/home/marceau/PycharmProjects/memoire/venv/lib64/python3.11/site-packages/sklearn/decomposition/_truncated_svd.py:268: RuntimeWarning: invalid value encountered in divide\n",
      "  self.explained_variance_ratio_ = exp_var / full_var\n",
      "/home/marceau/PycharmProjects/memoire/venv/lib64/python3.11/site-packages/sklearn/decomposition/_truncated_svd.py:268: RuntimeWarning: invalid value encountered in divide\n",
      "  self.explained_variance_ratio_ = exp_var / full_var\n",
      "/home/marceau/PycharmProjects/memoire/venv/lib64/python3.11/site-packages/sklearn/decomposition/_truncated_svd.py:268: RuntimeWarning: invalid value encountered in divide\n",
      "  self.explained_variance_ratio_ = exp_var / full_var\n",
      "/home/marceau/PycharmProjects/memoire/venv/lib64/python3.11/site-packages/sklearn/decomposition/_truncated_svd.py:268: RuntimeWarning: invalid value encountered in divide\n",
      "  self.explained_variance_ratio_ = exp_var / full_var\n",
      "/home/marceau/PycharmProjects/memoire/venv/lib64/python3.11/site-packages/sklearn/decomposition/_truncated_svd.py:268: RuntimeWarning: invalid value encountered in divide\n",
      "  self.explained_variance_ratio_ = exp_var / full_var\n",
      "/home/marceau/PycharmProjects/memoire/venv/lib64/python3.11/site-packages/sklearn/decomposition/_truncated_svd.py:268: RuntimeWarning: invalid value encountered in divide\n",
      "  self.explained_variance_ratio_ = exp_var / full_var\n",
      "/home/marceau/PycharmProjects/memoire/venv/lib64/python3.11/site-packages/sklearn/decomposition/_truncated_svd.py:268: RuntimeWarning: invalid value encountered in divide\n",
      "  self.explained_variance_ratio_ = exp_var / full_var\n",
      "/home/marceau/PycharmProjects/memoire/venv/lib64/python3.11/site-packages/sklearn/decomposition/_truncated_svd.py:268: RuntimeWarning: invalid value encountered in divide\n",
      "  self.explained_variance_ratio_ = exp_var / full_var\n",
      "/home/marceau/PycharmProjects/memoire/venv/lib64/python3.11/site-packages/sklearn/decomposition/_truncated_svd.py:268: RuntimeWarning: invalid value encountered in divide\n",
      "  self.explained_variance_ratio_ = exp_var / full_var\n",
      "/home/marceau/PycharmProjects/memoire/venv/lib64/python3.11/site-packages/sklearn/decomposition/_truncated_svd.py:268: RuntimeWarning: invalid value encountered in divide\n",
      "  self.explained_variance_ratio_ = exp_var / full_var\n",
      "/home/marceau/PycharmProjects/memoire/venv/lib64/python3.11/site-packages/sklearn/decomposition/_truncated_svd.py:268: RuntimeWarning: invalid value encountered in divide\n",
      "  self.explained_variance_ratio_ = exp_var / full_var\n",
      "/home/marceau/PycharmProjects/memoire/venv/lib64/python3.11/site-packages/sklearn/decomposition/_truncated_svd.py:268: RuntimeWarning: invalid value encountered in divide\n",
      "  self.explained_variance_ratio_ = exp_var / full_var\n",
      "/home/marceau/PycharmProjects/memoire/venv/lib64/python3.11/site-packages/sklearn/decomposition/_truncated_svd.py:268: RuntimeWarning: invalid value encountered in divide\n",
      "  self.explained_variance_ratio_ = exp_var / full_var\n",
      "/home/marceau/PycharmProjects/memoire/venv/lib64/python3.11/site-packages/sklearn/decomposition/_truncated_svd.py:268: RuntimeWarning: invalid value encountered in divide\n",
      "  self.explained_variance_ratio_ = exp_var / full_var\n",
      "/home/marceau/PycharmProjects/memoire/venv/lib64/python3.11/site-packages/sklearn/decomposition/_truncated_svd.py:268: RuntimeWarning: invalid value encountered in divide\n",
      "  self.explained_variance_ratio_ = exp_var / full_var\n",
      "/home/marceau/PycharmProjects/memoire/venv/lib64/python3.11/site-packages/sklearn/decomposition/_truncated_svd.py:268: RuntimeWarning: invalid value encountered in divide\n",
      "  self.explained_variance_ratio_ = exp_var / full_var\n",
      "/home/marceau/PycharmProjects/memoire/venv/lib64/python3.11/site-packages/sklearn/decomposition/_truncated_svd.py:268: RuntimeWarning: invalid value encountered in divide\n",
      "  self.explained_variance_ratio_ = exp_var / full_var\n",
      "/home/marceau/PycharmProjects/memoire/venv/lib64/python3.11/site-packages/sklearn/decomposition/_truncated_svd.py:268: RuntimeWarning: invalid value encountered in divide\n",
      "  self.explained_variance_ratio_ = exp_var / full_var\n",
      "/home/marceau/PycharmProjects/memoire/venv/lib64/python3.11/site-packages/sklearn/decomposition/_truncated_svd.py:268: RuntimeWarning: invalid value encountered in divide\n",
      "  self.explained_variance_ratio_ = exp_var / full_var\n",
      "/home/marceau/PycharmProjects/memoire/venv/lib64/python3.11/site-packages/sklearn/decomposition/_truncated_svd.py:268: RuntimeWarning: invalid value encountered in divide\n",
      "  self.explained_variance_ratio_ = exp_var / full_var\n",
      "/home/marceau/PycharmProjects/memoire/venv/lib64/python3.11/site-packages/sklearn/decomposition/_truncated_svd.py:268: RuntimeWarning: invalid value encountered in divide\n",
      "  self.explained_variance_ratio_ = exp_var / full_var\n",
      "/home/marceau/PycharmProjects/memoire/venv/lib64/python3.11/site-packages/sklearn/decomposition/_truncated_svd.py:268: RuntimeWarning: invalid value encountered in divide\n",
      "  self.explained_variance_ratio_ = exp_var / full_var\n",
      "/home/marceau/PycharmProjects/memoire/venv/lib64/python3.11/site-packages/sklearn/decomposition/_truncated_svd.py:268: RuntimeWarning: invalid value encountered in divide\n",
      "  self.explained_variance_ratio_ = exp_var / full_var\n",
      "/home/marceau/PycharmProjects/memoire/venv/lib64/python3.11/site-packages/sklearn/decomposition/_truncated_svd.py:268: RuntimeWarning: invalid value encountered in divide\n",
      "  self.explained_variance_ratio_ = exp_var / full_var\n",
      "/home/marceau/PycharmProjects/memoire/venv/lib64/python3.11/site-packages/sklearn/decomposition/_truncated_svd.py:268: RuntimeWarning: invalid value encountered in divide\n",
      "  self.explained_variance_ratio_ = exp_var / full_var\n",
      "/home/marceau/PycharmProjects/memoire/venv/lib64/python3.11/site-packages/sklearn/decomposition/_truncated_svd.py:268: RuntimeWarning: invalid value encountered in divide\n",
      "  self.explained_variance_ratio_ = exp_var / full_var\n",
      "/home/marceau/PycharmProjects/memoire/venv/lib64/python3.11/site-packages/sklearn/decomposition/_truncated_svd.py:268: RuntimeWarning: invalid value encountered in divide\n",
      "  self.explained_variance_ratio_ = exp_var / full_var\n",
      "/home/marceau/PycharmProjects/memoire/venv/lib64/python3.11/site-packages/sklearn/decomposition/_truncated_svd.py:268: RuntimeWarning: invalid value encountered in divide\n",
      "  self.explained_variance_ratio_ = exp_var / full_var\n",
      "/home/marceau/PycharmProjects/memoire/venv/lib64/python3.11/site-packages/sklearn/decomposition/_truncated_svd.py:268: RuntimeWarning: invalid value encountered in divide\n",
      "  self.explained_variance_ratio_ = exp_var / full_var\n",
      "/home/marceau/PycharmProjects/memoire/venv/lib64/python3.11/site-packages/sklearn/decomposition/_truncated_svd.py:268: RuntimeWarning: invalid value encountered in divide\n",
      "  self.explained_variance_ratio_ = exp_var / full_var\n",
      "/home/marceau/PycharmProjects/memoire/venv/lib64/python3.11/site-packages/sklearn/decomposition/_truncated_svd.py:268: RuntimeWarning: invalid value encountered in divide\n",
      "  self.explained_variance_ratio_ = exp_var / full_var\n",
      "/home/marceau/PycharmProjects/memoire/venv/lib64/python3.11/site-packages/sklearn/decomposition/_truncated_svd.py:268: RuntimeWarning: invalid value encountered in divide\n",
      "  self.explained_variance_ratio_ = exp_var / full_var\n",
      "/home/marceau/PycharmProjects/memoire/venv/lib64/python3.11/site-packages/sklearn/decomposition/_truncated_svd.py:268: RuntimeWarning: invalid value encountered in divide\n",
      "  self.explained_variance_ratio_ = exp_var / full_var\n",
      "/home/marceau/PycharmProjects/memoire/venv/lib64/python3.11/site-packages/sklearn/decomposition/_truncated_svd.py:268: RuntimeWarning: invalid value encountered in divide\n",
      "  self.explained_variance_ratio_ = exp_var / full_var\n",
      "/home/marceau/PycharmProjects/memoire/venv/lib64/python3.11/site-packages/sklearn/decomposition/_truncated_svd.py:268: RuntimeWarning: invalid value encountered in divide\n",
      "  self.explained_variance_ratio_ = exp_var / full_var\n",
      "/home/marceau/PycharmProjects/memoire/venv/lib64/python3.11/site-packages/sklearn/decomposition/_truncated_svd.py:268: RuntimeWarning: invalid value encountered in divide\n",
      "  self.explained_variance_ratio_ = exp_var / full_var\n",
      "/home/marceau/PycharmProjects/memoire/venv/lib64/python3.11/site-packages/sklearn/decomposition/_truncated_svd.py:268: RuntimeWarning: invalid value encountered in divide\n",
      "  self.explained_variance_ratio_ = exp_var / full_var\n",
      "/home/marceau/PycharmProjects/memoire/venv/lib64/python3.11/site-packages/sklearn/decomposition/_truncated_svd.py:268: RuntimeWarning: invalid value encountered in divide\n",
      "  self.explained_variance_ratio_ = exp_var / full_var\n",
      "/home/marceau/PycharmProjects/memoire/venv/lib64/python3.11/site-packages/sklearn/decomposition/_truncated_svd.py:268: RuntimeWarning: invalid value encountered in divide\n",
      "  self.explained_variance_ratio_ = exp_var / full_var\n",
      "/home/marceau/PycharmProjects/memoire/venv/lib64/python3.11/site-packages/sklearn/decomposition/_truncated_svd.py:268: RuntimeWarning: invalid value encountered in divide\n",
      "  self.explained_variance_ratio_ = exp_var / full_var\n",
      "/home/marceau/PycharmProjects/memoire/venv/lib64/python3.11/site-packages/sklearn/decomposition/_truncated_svd.py:268: RuntimeWarning: invalid value encountered in divide\n",
      "  self.explained_variance_ratio_ = exp_var / full_var\n",
      "/home/marceau/PycharmProjects/memoire/venv/lib64/python3.11/site-packages/sklearn/decomposition/_truncated_svd.py:268: RuntimeWarning: invalid value encountered in divide\n",
      "  self.explained_variance_ratio_ = exp_var / full_var\n",
      "/home/marceau/PycharmProjects/memoire/venv/lib64/python3.11/site-packages/sklearn/decomposition/_truncated_svd.py:268: RuntimeWarning: invalid value encountered in divide\n",
      "  self.explained_variance_ratio_ = exp_var / full_var\n",
      "/home/marceau/PycharmProjects/memoire/venv/lib64/python3.11/site-packages/sklearn/decomposition/_truncated_svd.py:268: RuntimeWarning: invalid value encountered in divide\n",
      "  self.explained_variance_ratio_ = exp_var / full_var\n",
      "/home/marceau/PycharmProjects/memoire/venv/lib64/python3.11/site-packages/sklearn/decomposition/_truncated_svd.py:268: RuntimeWarning: invalid value encountered in divide\n",
      "  self.explained_variance_ratio_ = exp_var / full_var\n",
      "/home/marceau/PycharmProjects/memoire/venv/lib64/python3.11/site-packages/sklearn/decomposition/_truncated_svd.py:268: RuntimeWarning: invalid value encountered in divide\n",
      "  self.explained_variance_ratio_ = exp_var / full_var\n",
      "/home/marceau/PycharmProjects/memoire/venv/lib64/python3.11/site-packages/sklearn/decomposition/_truncated_svd.py:268: RuntimeWarning: invalid value encountered in divide\n",
      "  self.explained_variance_ratio_ = exp_var / full_var\n",
      "/home/marceau/PycharmProjects/memoire/venv/lib64/python3.11/site-packages/sklearn/decomposition/_truncated_svd.py:268: RuntimeWarning: invalid value encountered in divide\n",
      "  self.explained_variance_ratio_ = exp_var / full_var\n",
      "/home/marceau/PycharmProjects/memoire/venv/lib64/python3.11/site-packages/sklearn/decomposition/_truncated_svd.py:268: RuntimeWarning: invalid value encountered in divide\n",
      "  self.explained_variance_ratio_ = exp_var / full_var\n",
      "/home/marceau/PycharmProjects/memoire/venv/lib64/python3.11/site-packages/sklearn/decomposition/_truncated_svd.py:268: RuntimeWarning: invalid value encountered in divide\n",
      "  self.explained_variance_ratio_ = exp_var / full_var\n",
      "/home/marceau/PycharmProjects/memoire/venv/lib64/python3.11/site-packages/sklearn/decomposition/_truncated_svd.py:268: RuntimeWarning: invalid value encountered in divide\n",
      "  self.explained_variance_ratio_ = exp_var / full_var\n",
      "/home/marceau/PycharmProjects/memoire/venv/lib64/python3.11/site-packages/sklearn/decomposition/_truncated_svd.py:268: RuntimeWarning: invalid value encountered in divide\n",
      "  self.explained_variance_ratio_ = exp_var / full_var\n",
      "/home/marceau/PycharmProjects/memoire/venv/lib64/python3.11/site-packages/sklearn/decomposition/_truncated_svd.py:268: RuntimeWarning: invalid value encountered in divide\n",
      "  self.explained_variance_ratio_ = exp_var / full_var\n",
      "/home/marceau/PycharmProjects/memoire/venv/lib64/python3.11/site-packages/sklearn/decomposition/_truncated_svd.py:268: RuntimeWarning: invalid value encountered in divide\n",
      "  self.explained_variance_ratio_ = exp_var / full_var\n",
      "/home/marceau/PycharmProjects/memoire/venv/lib64/python3.11/site-packages/sklearn/decomposition/_truncated_svd.py:268: RuntimeWarning: invalid value encountered in divide\n",
      "  self.explained_variance_ratio_ = exp_var / full_var\n",
      "/home/marceau/PycharmProjects/memoire/venv/lib64/python3.11/site-packages/sklearn/decomposition/_truncated_svd.py:268: RuntimeWarning: invalid value encountered in divide\n",
      "  self.explained_variance_ratio_ = exp_var / full_var\n",
      "/home/marceau/PycharmProjects/memoire/venv/lib64/python3.11/site-packages/sklearn/decomposition/_truncated_svd.py:268: RuntimeWarning: invalid value encountered in divide\n",
      "  self.explained_variance_ratio_ = exp_var / full_var\n",
      "/home/marceau/PycharmProjects/memoire/venv/lib64/python3.11/site-packages/sklearn/decomposition/_truncated_svd.py:268: RuntimeWarning: invalid value encountered in divide\n",
      "  self.explained_variance_ratio_ = exp_var / full_var\n",
      "/home/marceau/PycharmProjects/memoire/venv/lib64/python3.11/site-packages/sklearn/decomposition/_truncated_svd.py:268: RuntimeWarning: invalid value encountered in divide\n",
      "  self.explained_variance_ratio_ = exp_var / full_var\n",
      "/home/marceau/PycharmProjects/memoire/venv/lib64/python3.11/site-packages/sklearn/decomposition/_truncated_svd.py:268: RuntimeWarning: invalid value encountered in divide\n",
      "  self.explained_variance_ratio_ = exp_var / full_var\n",
      "/home/marceau/PycharmProjects/memoire/venv/lib64/python3.11/site-packages/sklearn/decomposition/_truncated_svd.py:268: RuntimeWarning: invalid value encountered in divide\n",
      "  self.explained_variance_ratio_ = exp_var / full_var\n",
      "/home/marceau/PycharmProjects/memoire/venv/lib64/python3.11/site-packages/sklearn/decomposition/_truncated_svd.py:268: RuntimeWarning: invalid value encountered in divide\n",
      "  self.explained_variance_ratio_ = exp_var / full_var\n"
     ]
    }
   ],
   "source": [
    "dict_lex_reduced = reduction_dim(dict_lex_sup_n_sub, n_components=N_COMPONENTS)\n",
    "dict_ecarts_reduced = reduction_dim(dict_ecarts_sup_n_sub, n_components=N_COMPONENTS)"
   ],
   "metadata": {
    "collapsed": false,
    "ExecuteTime": {
     "end_time": "2023-06-16T10:11:48.203251562Z",
     "start_time": "2023-06-16T10:11:47.777142288Z"
    }
   }
  },
  {
   "cell_type": "code",
   "execution_count": 13,
   "outputs": [],
   "source": [
    "liste_lex = [e for v in dict_lex_reduced.values() for e in v if len(e[1]) == 2]\n",
    "liste_ecarts = [e for v in dict_ecarts_reduced.values() for e in v if len(e[1]) == 2]\n",
    "combined = [(*e, *f) for e, f in zip(liste_lex, liste_ecarts)]"
   ],
   "metadata": {
    "collapsed": false,
    "ExecuteTime": {
     "end_time": "2023-06-16T10:11:48.256590976Z",
     "start_time": "2023-06-16T10:11:48.205107044Z"
    }
   }
  },
  {
   "cell_type": "code",
   "execution_count": 30,
   "outputs": [],
   "source": [
    "dict_vects = {\n",
    "    \"lex\" : liste_lex,\n",
    "    \"ecarts\" : liste_ecarts,\n",
    "    \"combined\" : combined\n",
    "}\n",
    "\n",
    "tests = (\n",
    "    (5, \"lex\"),\n",
    "    (7, \"lex\"),\n",
    "    (5, \"ecarts\"),\n",
    "    (12, \"ecarts\"),\n",
    "    (4, \"combined\"),\n",
    "    (6, \"combined\"),\n",
    ")\n",
    "\n",
    "for n_clusters, type_vect in tests:\n",
    "    km = KMeans(n_clusters=n_clusters, random_state=0, n_init=\"auto\")\n",
    "    km.fit([e[1] for e in dict_vects[type_vect]])\n",
    "    dict_clusters = {i: [] for i in range(n_clusters)}\n",
    "\n",
    "    for i, e in enumerate(dict_vects[type_vect]):\n",
    "        dict_clusters[km.labels_[i]].append(e[0])\n",
    "\n",
    "    with open(path / f\"clusters_{type_vect}_{n_clusters}.json\", \"w\") as f:\n",
    "        json.dump(dict_clusters, f, indent=4, ensure_ascii=False)\n",
    "\n",
    "    exemples = [\n",
    "        (cluster, collection_textes[value[0]].header, collection_textes[value[0]].texte) for cluster, value in dict_clusters.items()\n",
    "    ]\n",
    "\n",
    "    with open(path / f\"exemples_{type_vect}_{n_clusters}.json\", \"w\") as f:\n",
    "        json.dump(exemples, f, indent=4, ensure_ascii=False)\n"
   ],
   "metadata": {
    "collapsed": false,
    "ExecuteTime": {
     "end_time": "2023-06-16T10:23:17.805860138Z",
     "start_time": "2023-06-16T10:23:17.677894612Z"
    }
   }
  },
  {
   "cell_type": "code",
   "execution_count": 29,
   "outputs": [
    {
     "name": "stdout",
     "output_type": "stream",
     "text": [
      "0 {'form': 'vers', 'genre': ['entretien', 'dialogue'], 'handwritten_note': False, 'table_of_content': False, 'illustration': False, 'subject': ['Emprisonnement des\\n            princes', 'Longueville II, Henri (1595-1663 ; duc de)', 'Conti, Armand de Bourbon (1629-1666\\xa0; prince de)', 'Condé, Louis de Bourbon (1621-1686 ; prince de)', 'Paris (France)'], 'creation': '1650-01-18', 'change': {'@status': 'corrected', '@when': '2022-02-10', '@who': 'AB'}, 'titre': 'Les entretiens mystérieux des trois princes en cage dans\\n          le bois de Vincennes, sous les figures du lyon, du renard et du singe, dialogue.', 'dates': {'@type': 'file_creation', '@when': '2022-01-31', '#text': '31 janvier 2022'}, 'langue': 'fra', 'fichier': 'Moreau1256_MAZ.xml', 'path': 'Corpus/Mazarinades/1201-1300/Moreau1256_MAZ.xml', 'json_path': 'Corpus/Mazarinades_jsons/1201-1300/Moreau1256_MAZ.json', 'langue_detectee': 'LGERM', 'lexicalites': [0.9411764705882353, 0.7586206896551724, 0.868421052631579, 0.8, 0.8679245283018868, 0.7798165137614679, 0.7, 0.7864077669902912, 0.7843137254901961, 0.7767857142857143, 0.7321428571428571, 0.7448275862068966, 0.8014705882352942, 0.7956204379562044, 0.6815286624203821, 0.8110236220472441, 0.7676056338028169, 0.7235772357723578, 0.7692307692307693], 'lexicalite': 0.7695256348826066, 'ecarts': [-0.1825557809330629, 0.1098003629764066, -0.06842105263157894, 0.06792452830188678, -0.08810801454041894, -0.07981651376146792, 0.08640776699029129, -0.0020940415000951784, -0.007528011204481766, -0.044642857142857206, 0.012684729064039502, 0.05664300202839756, -0.00585015027908975, -0.11409177553582228, 0.12949495962686197, -0.04341798824442722, -0.044028398030459104, 0.0456535334584115], 'ecart': 0.06606463701389204} [['LES', 'ENTRETIENS', 'MISTERIEVX', 'DES TROIS PRINCES', 'EN CAGE', 'DANS LE BOIS DE VINCENNE,', 'ſous les figures du LYON du', 'RENARD, & du SINGE.', 'DIALOGVE.', 'A PARIS', 'M. DC. L.'], ['3>', 'LES ENTRETIENS', 'Myſterieux des trois Princes en', 'Cage dans le Boys de Vincennes,', 'ſous les figures du Lyon, du Re', 'nard, & du Singe, auec leur Dia', 'logue.', 'Le Lyon.', 'Manr ene eene ele e,', 'Faut-il icy iuſqu’à la mort', 'Paſſer mes plus belles années.', 'Le Renard.', 'a rage où la oreur temporte', 'Eſt maintnant hors de ſaiſo', 'Conſulte plauftoſt la raiſon', 'Des moyens de rouurir la porte.', 'Le Singe', 'Ponr en retrouuer l’ouuerturs', 'Tout moyen en eſtintendit'], ['4', 'On n’en peut ſortir qu’en eſprit', 'Par les portes de la Nature.', 'Le Lyon.', 'Vntre fast-il que la Couronne', 'Que i’ay raſſrmy par mes bras', 'Me faſſe artendre du trſps', 'La liberté que ie luy donne.', 'Le Renard.', 'Arreſtez, cette impatiece', 'Qui vous fait ſortir du deuoir', 'Et monſtre par ſon deſeſpoir', 'Plus viſible voſtre impuiſſance.', 'Le Singé.', 'Si voſtre fureur vous forcene', 'Vous auez deux priſons icy', 'Voſtre rage & vaſtre ſoucy', 'Les deux bourreauc de v oſtregene', 'Le Lyon.', 'Malepeſte de vos Maximes', 'Et de tous vos raiſonnemens', 'Qus renouuellent es tourmens', 'Pour auoir eſpargné des crimes.', '.', 'Le'], ['3', 'Le Renard.', 'Lors qu’on eſt dans la dependancs', 'S’il faut en ſçauoir le meſtier', 'Ilfaut auſsi d’vn front entier', 'En ſcauoir cauurir la ſcience', '. Le Singe.', 'Ceſte doctrine eſt dangeruſ̂', 'A moins que les raiſonnemens', 'Se faſſent tous dans le dedans', 'D’vne ame fine & genereuſe.', 'Le Lyon.', 'I’auois auec rop de fineſſe', 'Trop peu de ganeroſite', 'Par-ſans-beu la temerité', 'M’euſt ſeruy plus que ma ſoupleſfe.', 'Le Renard.', 'Les temeritezseſont heunaufu', 'Quand on des fait pour ſon Eftat', 'Quand elles choquent ſon eſlat', '. Elles ſnttouſours malbeureuſes..', 'B', '.-....', '5'], ['Le Singe', 'De n’eſtre ianais temeraire', 'Eſt apres tout le vray moyen', 'De conſeruer touſiours ſon bien', 'Sans ſouffrir iamais d’aduerſaire.', 'Le Lyon.', 'C’eft trop raiſonner pour ma rage', 'Il faut s’eſchaper de ces lieux', 'Ou l’iniuſtice de nos Dieux', 'Fait deſeſperer mon courage.', 'Le Renard.', 'Autant que vous ie le deſire', 'Et comsme vous ie me le puis', 'Si vous eſtes icy: y ſuis', 'Et pour en ſortir ie reſpire.', 'Le Singe.', 'e ſuis bies dans la aeſme peie', 'Mais il faut außi bien que voaus', 'Que ie ſoumette mon corrous', 'Sous les laixe du BOIS de VINCENNE.'], ['3', 't', 'Leyon.', 'Rompons brſons faiſons caragee', 'N’eſpargnons ny tetes ny bras', 'Auansons Cor -Dieus lereaas.', 'De cex qui choquent noes courage.', 'Le Renard.', 'Nous pouuons bien brizer nmos teftes', 'Contre les murs de ces rempars', 'Et faire que de toutes pars', 'Os en entende les tempeſtes.', 'Le Singe.', 'Nos teſtes ſont aſſez briſees', 'Du ſeul foudre de noſtre Roy', 'Mais qu’vn chacun rappelle à ſoy', 'au ame, ſon cœur ſes penſees,', 'Le Lyon', 'ort-beu l’ay mais ̀ las Cadenn', 'Tout le Duché de Lxembourg', 'Fribourg Mayance & Philisbou.', 'Valent bien le Bois de VNENN!', '35'], ['l', '11', '8', 'Le Redard.', 'Vousfiſtes rriompher la Reyne', 'Par voſtre enereux courrous,', 'Mais elle triomphede vos', 'Par les Toairsadu Bois de VINCENE.', 'ELe Singe.', 'Pout-eftre qu’auec vn Armd́e', 'Vous pourrie bienrazer ces tours,', 'Mais pour procuer ce ſecours.', 'Noſtre puiſſance ſt renfermeé.', 'Le LySn.', 'O', '.9', 'Si faut-il Mors-bieu que i’en ſots.', 'Et que malgre le MAARIN&', 'Ie faſſe auaredgleſtinas .', 'Le deſſein àupes deda pore u', 'Le enard.', 'Si lepee.ax Rodenmoad-', 'VVenir aboutde ſes, prniét, e', 'Vous irez cbercbe des ſajets', 'Lai l daprlesſ&ahade,', '.. .'], ['Le Singe', 'Voſtre ambition eſt trop grande,', 'Ne ſommes nous pas aſſeo baut,', 'Ie ne demande qu’vn aſſaut', 'Afin que d’icy ie deſcende.', 'e Lyon1', 'Sang bleu ces Puiſſances ſuprémes,', 'Succomberont à mes deu bra,', 'Si vous joigne à leurs esbats', 'Les ruſes de vos ſtratagemes.', 'Le Renard.', 'Nos ruzes ſontcontreminées,', 'Et nos forces ſont ſans effort,.', 'Naarin, la france, lde Sors', 'Les ont d’v ſeul reuers baroées.', 'Le Singe.', 'La pas grande de nos fieſſes,.9', 'Conſiſte à roidir nos epriss,', 'Pour amo ndrir par nos epris', 'La cruaute de leurs detreſes.', 'c', 'A'], ['1', '2', '0', 'Ee Lyon?!', 'Vous mslfaites perdre courage,', 'Par ce laſohe roiſonneent?', 'Quoy done languir inceſſamment', 'En rongeant les bords d’vne Cage', 'Le Rehard.', 'La peine en ſeroit inutile,', 'Puiſque les bords en ſont d’Erain,', 'A moins qu’vne Royale main', 'Nous la rende moins difficile.', 'Le Singe.', 'Si vous eſcourez mon ſouffrage,', 'Nous l’eſcherons pluſtoſt les bords,', 'Que d’irriter par nos tranſports,', 'Les Dieax Autheurs de noſtre orag.', 'Le Lyon.', 'Quoy dans va heau ſuiet ſe taire,', 'Par & ne ſe plaindre point,', 'Voir ſon ſort le malheur jomt,', 'Et ne laſcher point ſa colere.'], ['2i', 'Le Renard.', 'Jl aaut mieue ſe aire que dire,', 'Ce qui ne ſeruiroit de rien,', 'Os ne gagne iamaus du bien,', 'En ce dot il faut ſe deſdire.', 'Le Singe.', 'Quoy de plus beau que le ſilence,', 'Qui ne dit rien, mais qui fait tout,', 'Oi ſeul peut pouſſer iuſqu’au bout', 'Les affaires de conſequence.', 'Le Lyon.', 'Pa bleas ie n’ay de repentance,', 'Que de m’eſtre touſiours trop tû,', 'Et de n’auoir point abbatu', 'L’Autheur de mon impatience.', 'Le Renard.', 'Il falloit l’auoirc fais ſans dire.', 'Et plus tard palé́ quccomplys', 'Ainſi vous n’aſsespant faily,e', 'Ce qu’en vain voſtre urdeſres', '2'], ['2', 'beSnmgt.', 'La lanh mediu ds pola s', 'Qu’apres les efſets deſer ans', 'Autrement ſes diſcours ſon vains,.', 'Et les deſſeins des mains friuoles.', 'Le Eyon.', 'e renye bleu, ie me deſeſpere,', 'Si la faueur de mon deſtin,', 'Ne ſe haſte pour mettre fn', 'Aux cruautez de ma miſere.', 'Le Renard.', 'Si les iars vous fon des anuées,', 'Vous viurez donc plus que Neftor,', 'Mais d’eſperer le Siecle d’o', 'C’eſt ignorer ſss deſtinées.', 'Iie Singe', 'Nous nme faſons qu’antrer en iae,', 'Et ſi vous deſirez, eſtre qus boat', 'Et n’ayans qu’vn ſimple auant-goft,', 'Vous voulez le dernier ſeruice.', 'Le'], ['13', 'Le Lyon.', 'Allez, vous-en as trente mille,', 'Ma tefte à l’abry de l’eſfort,', 'De la plus violente mort,', 'Trouuera par tout ſon aile,', 'Le Renard.', 'Pour trouuer vn leu d’aſſeunmance', 'Il faudroit le pouuoir chercbas,', 'ſais le Roy vient de vous acher,', 'our vous tirer hors d’eſperaace.', 'Le Singe', 'Faut-il que noas ſoyons en peins', 'De nous mettre à l’abry des mxs,', 'V’uis que les plus rudes aſſauts', 'E', 'Sen nutiles pour VINCENNE.,', 'Le Lyon.', 'Quoy le vainqueur de DES PNTINES', 'DE MELO. EOPOLL,', 'Seroit pour vn ames cy', 'Habuant du BlS de V INCENE.', 'Le Renrd.', 'Pour cer & vn an il peut efre,', 'Mau pour amais ie ne dus pas,', 'Peut eſlre arez os le trépas,', 'Où le mode vous a ve nalle.4.', '2', 'yg-', 'es', 'A'], ['!', '1', '!', '1', '1', '14', 'Le Singe.', 'Ainſi la genereuſe enuie,', 'De l’amitié de noſtre ſort,', 'R-ſout de vous donner la mort,', 'Ou il nous a donne la vie.', 'Le Lyon.', 'ue ſruiront donc les batailles,', 'Ou brauant les plus grands hazars,', 'l’ay fais voler des eſtendars,', 'Au milieu de cent funerailles.', 'Le Renard.', 'Ils ſeruiront à voſtre cheute,', 'De magnifiques monumans,', 'Pour ſignaler les chaftimans', 'De celuy qui vous perſecute.', 'Le Singe.', 'Ia Nobleſſe de la victime,', 'Qu’l outrage aas gre de ſes loix,', 'Pr textant celuy de nos Rois,', 'mmortaliera ſon crime.', 'Le Lyon.', 'A! Nobleſſe qui me regardes', 'Sur la pointe d’vn Baſtion,', 'Conſacre au ſalut d’vn Lyon', 'La force de teshalebardes.', '. Aa -. .'], ['15', 'Le Renard.', 'Votre eſperance en vain ſe flatte,', 'De pouuoir attirer à ſoy', 'Ceux qui ne tirent que du Roy,', 'Tout l’honneur de leur eſarlatte.', 'Le Singe.', 'C’eſt bien l’eſſite de laFrance,', 'Mais il falloit eſtre vainqueur', 'De ces perſonnages de cœur,', 'Par amour non par violence.', 'Le Lyon.', 'Grammmaond ie ſus hors de reſource,', 'Si tu n’eſtends iey tes bras', 'Qu’autrefois dedans les combats,', 'l’ay veu triompher à la courſe.', 'Le Renard.', 'Voftre eſperance en vain s’amuſe', 'A demander ce Courtiſant,', 'Il eft’moins fort que complaiſant,', 'Il a moins de cœur que de Ruze.', 'Le Singe.', 'Auecque la meſme viteſſe,', 'Qu’il s’eſt mis dans voſtre pa-ty,', 'Vous l’en verrez bien toſt ſorty.', 'Pour faire dans quelque atre preſſ.', '.', '7'], ['1', '1', '4', '1l', '18', 'Le Lyon', 'Que ferey-ie doncques en Cage.', 'Verray-ie joir d’vn bon-her.', 'Que i’ay ca re par ma valeur,', 'A ces Aatbeurs de mon ouatrage,', 'Le Renard.', 'Arreſtant voſtre impatencey', 'Vous en pouuez, leſcher les bords,', 'Et faire rentrer vas remords.', 'Dans le fonds de la conſcience.', 'Le Singe.', '8', 'Il ſuffi d’eſfre nmſerables.', 'Pour vn vray rme ou preted', 'Nous auons ce qui nous eſt deu,', 'Ji nous en ſomes les coupables.', 'Le L-yon.', 'Qa’a ette mes fas en balaneê', 'Les beaux, les mauas & les bas,', 'Fr nce quo pee es ſoupsons,', 'Mais qu’on eze uſſ m4 Valdance.', 'eeurd.', 'Cent mille acions de courag,', 'Pezent moins qu’vn ſiple ſoupcon,', 'Oa uge qu’il n’eſt rien de bon,', '.1', 'Ou le boal rauaue ſopntage,', '.', 'aaa.L.', '.', 'Ile'], ['Le Singe.', 'En matiere de Polutique.', 'Vn crime perd cinq cens Vertus;!', 'Et dix mille Ennemis battus,', 'Ne valent pas vne Republique.', 'Le Lyon.', 'Le Roy me doit ſon Diadene,', 'La Reyne me doir les ſuccés,', 'Qui depais mes premiers eſſais,', 'Ont fait ſa Puiſſance ſupréme.', 'Le Renard.', 'Voſtre deuoir ne les engage', 'Qu’a dire que voſtre valeur,', 'u vray tiltre de ſeruiter,', 'ernite l’vnique ſuffrage.', 'Le Siuge.', 'Elle paye voſtre ſeruice,', 'Lors qu’elle en agree le ſoin,', 'Et lors qu’en eſtant de beſoin,', 'Elle vous rend le meſme office.', 'Le Lyon.', 'Quoy donc, pour toute recompence,', 'Il faus icy finir mes iours,', 'Et n’attendre pour d’autre ſecours,', 'Que celuy de mon eſperance.', 'E', '6'], ['1', 'l', 'l1', '1', '1*', '18', 'LeRenard.', 'Encore crois-je que la reſoarc', 'Que vous auez dans votre eſpor,', 'Eſt vn eſclat qui vous fait voir.', 'Les canaux d’vne fauſſe ſouroe.', 'Le Singe.', 'Du nmoispour vne forte Crize,', 'De noſtre malheureux eftat,', 'Ie vois qu’vn Miniſtre d’Eſtat', 'Ne doit iamais laſcher ſa priſe.', 'Le Lyon.', 'Mon ſang à donc rougy la plaine', 'De ceux de Fribourg, de Racry,', 'Pou ſignaler auec ma foy,', 'L’ingratitude d’vne Reyne.', '.', '.2', 'Ventre, Teſte, Morbieu j’enrage;', 'Dieus ie me paſue, ie e meurs,4', 'Ie ſens que mille creue-cœurs.', 'Se ſaiſiſſent de mon courage.', '.E.', 'Pou rmplir mon impatience,!', 'Ie voudrois auoir vn couſteau,', 'Qui d’vn coup peuſt mattre au tombeau,', 'Toutes les teſtes de la Firac.', '8', '.'], ['15', 'Que la ragè qui ms decaaure', 'Les eſclats de mes trahiſons,', 'eeeeeeeeee', 'Peut forger cent mille anons,', 'Pour les pointer contre leLouur6.', 'Mais l’infecondite fatale,', 'A mes hardies volonte,', 'LEmpeſche qu’à leues Maajeſteu,', 'Ces ſanglants malhers ie n’eſfade.', 'Et la gloire d’vu Capitaine,', 'Dont i’ay remply tout l’V’uers,', 'Me fait voir qus d’vn ſealraers,', 'Oule prd au pois VcENNE.', '7', 'Le Renard.', 'Mais à quoy bon catte impuiſſance,', 'Puis qu’id faut ſe reſoudre enfn', 'A ſuccomber ſoubs le deſtin,', 'Qui vient brauer voſtre puiſſance.', 'Le Singe.', 'Ie crains que le mal qui m’accable', 'De la peſanteur de ſon pois,', 'Ne me iette dans les abois,', 'Soubs ce fardeau intolerable.', '79', '1', '8.', '1'], ['1', '1', '1', '1', 's', 'e', 'Mais il faut armer ſos Genmie', 'De la Politique raiſon,', 'Que nous inſpire la ſaiſon', 'Et le temps de la tyrannie.', 'Jl n’eſt pas beſoin qu’on ſuccombe,', 'De l’eſprit enſemble & du corps,', 'L’vn a touſiours tous ſes efforts,', 'Pour faire que l’autr ne tombe.', 'Ainſi ſi noſtre corps en peine,', 'Souſpire au plus haut de ces Tours,', 'L’eſprit luy procure vn ſecours,', 'Iaiſ de ’aeene ae V’INe ENNE', 'FIN']]\n"
     ]
    },
    {
     "ename": "ZeroDivisionError",
     "evalue": "division by zero",
     "output_type": "error",
     "traceback": [
      "\u001B[0;31m---------------------------------------------------------------------------\u001B[0m",
      "\u001B[0;31mZeroDivisionError\u001B[0m                         Traceback (most recent call last)",
      "Cell \u001B[0;32mIn[29], line 3\u001B[0m\n\u001B[1;32m      1\u001B[0m \u001B[38;5;28;01mfor\u001B[39;00m cluster, value \u001B[38;5;129;01min\u001B[39;00m dict_clusters\u001B[38;5;241m.\u001B[39mitems():\n\u001B[1;32m      2\u001B[0m     \u001B[38;5;28mprint\u001B[39m(cluster, collection_textes[value[\u001B[38;5;241m0\u001B[39m]]\u001B[38;5;241m.\u001B[39mheader, collection_textes[value[\u001B[38;5;241m0\u001B[39m]]\u001B[38;5;241m.\u001B[39mtexte)\n\u001B[0;32m----> 3\u001B[0m     \u001B[38;5;241;43m1\u001B[39;49m\u001B[38;5;241;43m/\u001B[39;49m\u001B[38;5;241;43m0\u001B[39;49m\n",
      "\u001B[0;31mZeroDivisionError\u001B[0m: division by zero"
     ]
    }
   ],
   "source": [
    "for cluster, value in dict_clusters.items():\n",
    "    print(cluster, collection_textes[value[0]].header, collection_textes[value[0]].texte)\n",
    "    1/0\n"
   ],
   "metadata": {
    "collapsed": false,
    "ExecuteTime": {
     "end_time": "2023-06-16T10:22:58.540808086Z",
     "start_time": "2023-06-16T10:22:58.497830678Z"
    }
   }
  }
 ],
 "metadata": {
  "kernelspec": {
   "display_name": "Python 3",
   "language": "python",
   "name": "python3"
  },
  "language_info": {
   "codemirror_mode": {
    "name": "ipython",
    "version": 2
   },
   "file_extension": ".py",
   "mimetype": "text/x-python",
   "name": "python",
   "nbconvert_exporter": "python",
   "pygments_lexer": "ipython2",
   "version": "2.7.6"
  }
 },
 "nbformat": 4,
 "nbformat_minor": 0
}
